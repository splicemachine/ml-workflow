{
 "cells": [
  {
   "cell_type": "code",
   "execution_count": 1,
   "metadata": {},
   "outputs": [],
   "source": [
    "from sqlalchemy import create_engine, String, Float, text, Binary, bindparam\n",
    "from sqlalchemy.orm import Session, relationship, backref\n",
    "from sqlalchemy.ext.automap import automap_base\n",
    "from sqlalchemy import MetaData, Column, String, Integer, LargeBinary, PrimaryKeyConstraint, ForeignKey, DateTime, Table, Boolean\n",
    "from sqlalchemy.ext.declarative import declarative_base\n",
    "from typing import Dict\n",
    "from sqlalchemy.orm import sessionmaker\n",
    "from datetime import datetime\n",
    "import pytz\n",
    "Base = declarative_base()\n"
   ]
  },
  {
   "cell_type": "code",
   "execution_count": 5,
   "metadata": {},
   "outputs": [
    {
     "name": "stdout",
     "output_type": "stream",
     "text": [
      "[['DRIVER={SpliceODBCDriver};Database=splicedb;URL=jdbc-test-nonprod-gke-dev2.gke.splicemachine-dev.io;PORT=1527;UID=mlmanager;PWD=***'], {}]\n"
     ]
    },
    {
     "data": {
      "text/plain": [
       "<sqlalchemy.engine.base.Connection at 0x7fde79b1ca10>"
      ]
     },
     "execution_count": 5,
     "metadata": {},
     "output_type": "execute_result"
    }
   ],
   "source": [
    "# First, we are going to import SQLAlchemy and create a connection to the database.\n",
    "# This is running inside of Docker, in which we have already installed the Splice ODBC Driver.\n",
    "from sqlalchemy import create_engine as create_connection\n",
    "\n",
    "# Database connection info\n",
    "db_user = 'mlmanager'\n",
    "db_password = 'admin'\n",
    "db_host = 'jdbc-test-nonprod-gke-dev2.gke.splicemachine-dev.io' # special DNS allows us to access ports on the host (specific to OS X dockerd)\n",
    "# on linux dockerd it will just be localhost, as the network should be configured to be --net host\n",
    "db_port = 1527\n",
    "db_database = 'splicedb'\n",
    "\n",
    "\n",
    "ssl_args = {'ssl': 'basic'}\n",
    "\n",
    "# create SQLAlchemy connection with our SQL dialect. tell it to \n",
    "engine = create_connection('splicemachinesa://{user}:{pw}@{host}:{port}/{db}'.format(user=db_user,\n",
    "                                                                                     pw=db_password, \n",
    "                                                                                     host=db_host, \n",
    "                                                                                     port=db_port,\n",
    "                                                                                     db=db_database),\n",
    "                           connect_args=ssl_args)\n",
    "engine.connect()"
   ]
  },
  {
   "cell_type": "code",
   "execution_count": 4,
   "metadata": {},
   "outputs": [
    {
     "data": {
      "text/plain": [
       "[('80000010-00d0-fd77-3ed8-000a0a0b1900', 'SYSCONGLOMERATES', 'S', '8000000d-00d0-fd77-3ed8-000a0a0b1900', 'R', '4.0', -1, None, None, None, None, None, None, False, False),\n",
       " ('80000018-00d0-fd77-3ed8-000a0a0b1900', 'SYSTABLES', 'S', '8000000d-00d0-fd77-3ed8-000a0a0b1900', 'R', '4.0', -1, None, None, None, None, None, None, False, False),\n",
       " ('8000001e-00d0-fd77-3ed8-000a0a0b1900', 'SYSCOLUMNS', 'S', '8000000d-00d0-fd77-3ed8-000a0a0b1900', 'R', '4.0', -1, None, None, None, None, None, None, False, False),\n",
       " ('80000022-00d0-fd77-3ed8-000a0a0b1900', 'SYSSCHEMAS', 'S', '8000000d-00d0-fd77-3ed8-000a0a0b1900', 'R', '4.0', -1, None, None, None, None, None, None, False, False),\n",
       " ('f48ad515-013d-35d6-f400-6915f6177d2f', 'SYSPRIMARYKEYS', 'S', '8000000d-00d0-fd77-3ed8-000a0a0b1900', 'R', '4.0', -1, None, None, None, None, None, None, False, False),\n",
       " ('80000039-00d0-fd77-3ed8-000a0a0b1900', 'SYSKEYS', 'S', '8000000d-00d0-fd77-3ed8-000a0a0b1900', 'R', '4.0', -1, None, None, None, None, None, None, False, False),\n",
       " ('80000056-00d0-fd77-3ed8-000a0a0b1900', 'SYSCHECKS', 'S', '8000000d-00d0-fd77-3ed8-000a0a0b1900', 'R', '4.0', -1, None, None, None, None, None, None, False, False),\n",
       " ('8000004d-00d0-fd77-3ed8-000a0a0b1900', 'SYSVIEWS', 'S', '8000000d-00d0-fd77-3ed8-000a0a0b1900', 'R', '4.0', -1, None, None, None, None, None, None, False, False),\n",
       " ('8000005b-00d0-fd77-3ed8-000a0a0b1900', 'SYSFOREIGNKEYS', 'S', '8000000d-00d0-fd77-3ed8-000a0a0b1900', 'R', '4.0', -1, None, None, None, None, None, None, False, False),\n",
       " ('80000000-00d1-15f7-ab70-000a0a0b1500', 'SYSSTATEMENTS', 'S', '8000000d-00d0-fd77-3ed8-000a0a0b1900', 'R', '4.0', -1, None, None, None, None, None, None, False, False),\n",
       " ('8000003e-00d0-fd77-3ed8-000a0a0b1900', 'SYSDEPENDS', 'S', '8000000d-00d0-fd77-3ed8-000a0a0b1900', 'R', '4.0', -1, None, None, None, None, None, None, False, False),\n",
       " ('80000000-00d3-e222-873f-000a0a0b1900', 'SYSFILES', 'S', '8000000d-00d0-fd77-3ed8-000a0a0b1900', 'R', '4.0', -1, None, None, None, None, None, None, False, False),\n",
       " ('8000002f-00d0-fd77-3ed8-000a0a0b1900', 'SYSCONSTRAINTS', 'S', '8000000d-00d0-fd77-3ed8-000a0a0b1900', 'R', '4.0', -1, None, None, None, None, None, None, False, False),\n",
       " ('c013800d-00d7-ddbd-08ce-000a0a411400', 'SYSALIASES', 'S', '8000000d-00d0-fd77-3ed8-000a0a0b1900', 'R', '4.0', -1, None, None, None, None, None, None, False, False),\n",
       " ('b8450018-0103-0e39-b8e7-00000010f010', 'SYSTABLEPERMS', 'S', '8000000d-00d0-fd77-3ed8-000a0a0b1900', 'R', '4.0', -1, None, None, None, None, None, None, False, False),\n",
       " ('9810800c-0134-14a5-40c1-000004f61f90', 'SYSUSERS', 'S', '8000000d-00d0-fd77-3ed8-000a0a0b1900', 'R', '4.0', -1, None, None, None, None, None, None, False, False),\n",
       " ('c013800d-00d7-c025-4809-000a0a411200', 'SYSTRIGGERS', 'S', '8000000d-00d0-fd77-3ed8-000a0a0b1900', 'R', '4.0', -1, None, None, None, None, None, None, False, False),\n",
       " ('6e205c88-4c1b-464a-b0ab-865d64b3279d', 'SYSBACKUP', 'S', '8000000d-00d0-fd77-3ed8-000a0a0b1900', 'R', '4.0', -1, None, None, None, None, None, None, False, False),\n",
       " ('9810800c-0121-c5e2-e794-00000043e718', 'SYSSEQUENCES', 'S', '8000000d-00d0-fd77-3ed8-000a0a0b1900', 'R', '4.0', -1, None, None, None, None, None, None, False, False),\n",
       " ('2057c01b-0103-0e39-b8e7-00000010f010', 'SYSROUTINEPERMS', 'S', '8000000d-00d0-fd77-3ed8-000a0a0b1900', 'R', '4.0', -1, None, None, None, None, None, None, False, False),\n",
       " ('286cc01e-0103-0e39-b8e7-00000010f010', 'SYSCOLPERMS', 'S', '8000000d-00d0-fd77-3ed8-000a0a0b1900', 'R', '4.0', -1, None, None, None, None, None, None, False, False),\n",
       " ('08264013-014b-c29c-947b-000003009390', 'SYSPHYSICALSTATS', 'S', '8000000d-00d0-fd77-3ed8-000a0a0b1900', 'R', '4.0', -1, None, None, None, None, None, None, False, False),\n",
       " ('c013800d-00f8-5b70-bea3-00000019ed88', 'SYSDUMMY1', 'S', 'c013800d-00f8-5b53-28a9-00000019ed88', 'R', '4.0', -1, None, None, None, None, None, None, False, False),\n",
       " ('a0527143-4f6e-42df-98ab-b1dff6bea7db', 'SYSBACKUPITEMS', 'S', '8000000d-00d0-fd77-3ed8-000a0a0b1900', 'R', '4.0', -1, None, None, None, None, None, None, False, False),\n",
       " ('c91f04b9-0174-e44a-3334-0004d776f1e0', 'FRAUD_INSERT_DATA', 'T', '80000000-00d2-b38f-4cda-000a0a412c00', 'R', '4.0', 30, None, None, None, None, None, 'none', False, False),\n",
       " ('0bf88d35-0174-e4e3-c2f7-0004e47c9c10', 'ARTIFACTS', 'T', '004b0019-0174-e44a-32d3-0004e1a59f48', 'R', '4.0', 6, None, None, None, None, None, 'none', False, False),\n",
       " ('9fa9cd6b-0174-e4e3-c2f7-0004e47c9c10', 'HANDLERS', 'T', '004b0019-0174-e44a-32d3-0004e1a59f48', 'R', '4.0', 4, None, None, None, None, None, 'none', False, False),\n",
       " ('9810800c-0121-c5e1-a2f5-00000043e718', 'SYSPERMS', 'S', '8000000d-00d0-fd77-3ed8-000a0a0b1900', 'R', '4.0', -1, None, None, None, None, None, None, False, False),\n",
       " ('f5e38d74-0174-e4e3-c2f7-0004e47c9c10', 'JOBS', 'T', '004b0019-0174-e44a-32d3-0004e1a59f48', 'R', '4.0', 9, None, None, None, None, None, 'none', False, False),\n",
       " ('a6698d3d-0174-e4e3-c2f7-0004e47c9c10', 'DATABASE_DEPLOYED_METADATA', 'T', '004b0019-0174-e44a-32d3-0004e1a59f48', 'R', '4.0', 9, None, None, None, None, None, 'none', False, False),\n",
       " ('e03f4017-0115-382c-08df-ffffe275b270', 'SYSROLES', 'S', '8000000d-00d0-fd77-3ed8-000a0a0b1900', 'R', '4.0', -1, None, None, None, None, None, None, False, False),\n",
       " ('f3779fc7-7e3d-4138-8bc5-fc10c3834250', 'SYSSOURCECODE', 'S', '8000000d-00d0-fd77-3ed8-000a0a0b1900', 'R', '4.0', -1, None, None, None, None, None, None, False, False),\n",
       " ('39ac6233-8831-4262-aa7a-84acce449ad1', 'SYSTOKENS', 'S', '8000000d-00d0-fd77-3ed8-000a0a0b1900', 'R', '4.0', -1, None, None, None, None, None, None, False, False),\n",
       " ('80010018-00d0-fd77-3ed8-000a0a0b190e', 'SYSSNAPSHOTS', 'S', '8000000d-00d0-fd77-3ed8-000a0a0b1900', 'R', '4.0', -1, None, None, None, None, None, None, False, False),\n",
       " ('51d833f1-b166-4fe0-b86b-da5e2e77edf0', 'MON_GET_CONNECTION', 'S', '62bfdcdb-ea53-4339-bd1b-018e411b8852', 'R', '4.0', -1, None, None, None, None, None, None, False, False),\n",
       " ('a1ef0cc8-0174-e4e3-c2f7-0004e47c9c10', 'ALEMBIC_VERSION', 'T', '004b0019-0174-e44a-32d3-0004e1a59f48', 'R', '4.0', 1, None, None, None, None, None, 'none', False, False),\n",
       " ('9895ccb6-0174-e4e3-c2f7-0004e47c9c10', 'METRICS', 'T', '004b0019-0174-e44a-32d3-0004e1a59f48', 'R', '4.0', 6, None, None, None, None, None, 'none', False, False),\n",
       " ('47464cef-0174-e4e3-c2f7-0004e47c9c10', 'EXPERIMENT_TAGS', 'T', '004b0019-0174-e44a-32d3-0004e1a59f48', 'R', '4.0', 3, None, None, None, None, None, 'none', False, False),\n",
       " ('80eccc1e-0174-e4e3-c2f7-0004e47c9c10', 'CC_FRAUD_DATA', 'T', '80000000-00d2-b38f-4cda-000a0a412c00', 'R', '4.0', 31, None, None, None, None, None, 'none', False, False),\n",
       " ('08264012-014b-c29c-0d2e-000003009390', 'SYSCOLUMNSTATS', 'S', '8000000d-00d0-fd77-3ed8-000a0a0b1900', 'R', '4.0', -1, None, None, None, None, None, None, False, False),\n",
       " ('b8450020-0103-0e39-b8e7-00000010f010', 'SYSSCHEMAPERMS', 'S', '8000000d-00d0-fd77-3ed8-000a0a0b1900', 'R', '4.0', -1, None, None, None, None, None, None, False, False),\n",
       " ('08264012-014b-c29b-a826-000003009390', 'SYSTABLESTATS', 'S', '8000000d-00d0-fd77-3ed8-000a0a0b1900', 'R', '4.0', -1, None, None, None, None, None, None, False, False),\n",
       " ('1e9eb25e-1c61-11ea-978f-2e728ce88125', 'SYSREPLICATION', 'S', '8000000d-00d0-fd77-3ed8-000a0a0b1900', 'R', '4.0', -1, None, None, None, None, None, None, False, False),\n",
       " ('f81e0010-0174-e449-9b6d-0000e7fda428', 'SYSTABLESTATISTICS', 'V', 'c013800d-00fb-264d-07ec-000000134f30', 'R', '4.0', -1, None, None, None, None, None, None, False, False),\n",
       " ('80220011-0174-e449-9b6d-0000e7fda428', 'SYSCOLUMNSTATISTICS', 'V', 'c013800d-00fb-264d-07ec-000000134f30', 'R', '4.0', -1, None, None, None, None, None, None, False, False),\n",
       " ('08264012-0174-e449-9b6d-0000e7fda428', 'SYSALLROLES', 'V', 'c013800d-00fb-264d-07ec-000000134f30', 'R', '4.0', -1, None, None, None, None, None, None, False, False),\n",
       " ('a02ac013-0174-e449-9b6d-0000e7fda428', 'SYSSCHEMASVIEW', 'V', 'c013800d-00fb-264d-07ec-000000134f30', 'R', '4.0', -1, None, None, None, None, None, None, False, False),\n",
       " ('582f8014-0174-e449-9b6d-0000e7fda428', 'SYSCONGLOMERATEINSCHEMAS', 'V', 'c013800d-00fb-264d-07ec-000000134f30', 'R', '4.0', -1, None, None, None, None, None, None, False, False),\n",
       " ('7b204cff-0174-e4e3-c2f7-0004e47c9c10', 'LATEST_METRICS', 'T', '004b0019-0174-e44a-32d3-0004e1a59f48', 'R', '4.0', 6, None, None, None, None, None, 'none', False, False),\n",
       " ('40348015-0174-e449-9b6d-0000e7fda428', 'SYSTABLESVIEW', 'V', 'c013800d-00fb-264d-07ec-000000134f30', 'R', '4.0', -1, None, None, None, None, None, None, False, False),\n",
       " ('ec3bcd46-0174-e4e3-c2f7-0004e47c9c10', 'LIVE_MODEL_STATUS', 'V', '004b0019-0174-e44a-32d3-0004e1a59f48', 'R', '4.0', -1, None, None, None, None, None, None, False, False),\n",
       " ('3ba90d09-0174-e4e3-c2f7-0004e47c9c10', 'REGISTERED_MODELS', 'T', '004b0019-0174-e44a-32d3-0004e1a59f48', 'R', '4.0', 4, None, None, None, None, None, 'none', False, False),\n",
       " ('6839c016-0174-e449-9b6d-0000e7fda428', 'SYSCOLUMNSVIEW', 'V', 'c013800d-00fb-264d-07ec-000000134f30', 'R', '4.0', -1, None, None, None, None, None, None, False, False),\n",
       " ('4a7e0d10-0174-e4e3-c2f7-0004e47c9c10', 'MODEL_VERSIONS', 'T', '004b0019-0174-e44a-32d3-0004e1a59f48', 'R', '4.0', 11, None, None, None, None, None, 'none', False, False),\n",
       " ('e03f4017-0174-e449-9b6d-0000e7fda428', 'SYSTABLEPERMSVIEW', 'V', 'c013800d-00fb-264d-07ec-000000134f30', 'R', '4.0', -1, None, None, None, None, None, None, False, False),\n",
       " ('b8450018-0174-e449-9b6d-0000e7fda428', 'SYSSCHEMAPERMSVIEW', 'V', 'c013800d-00fb-264d-07ec-000000134f30', 'R', '4.0', -1, None, None, None, None, None, None, False, False),\n",
       " ('004b0019-0174-e449-9b6d-0000e7fda428', 'SYSCOLPERMSVIEW', 'V', 'c013800d-00fb-264d-07ec-000000134f30', 'R', '4.0', -1, None, None, None, None, None, None, False, False),\n",
       " ('c851401a-0174-e449-9b6d-0000e7fda428', 'SYSROUTINEPERMSVIEW', 'V', 'c013800d-00fb-264d-07ec-000000134f30', 'R', '4.0', -1, None, None, None, None, None, None, False, False),\n",
       " ('2057c01b-0174-e449-9b6d-0000e7fda428', 'SYSPERMSVIEW', 'V', 'c013800d-00fb-264d-07ec-000000134f30', 'R', '4.0', -1, None, None, None, None, None, None, False, False),\n",
       " ('185e801c-0174-e449-9b6d-0000e7fda428', 'SYSCOLUMNS', 'V', 'c013800d-00f8-5b53-28a9-00000019ed88', 'R', '4.0', -1, None, None, None, None, None, None, False, False),\n",
       " ('c065801d-0174-e449-9b6d-0000e7fda428', 'SYSTABLES', 'V', 'c013800d-00f8-5b53-28a9-00000019ed88', 'R', '4.0', -1, None, None, None, None, None, None, False, False),\n",
       " ('286cc01e-0174-e449-9b6d-0000e7fda428', 'SNAPAPPL', 'V', '62bfdcdb-ea53-4339-bd1b-018e411b8852', 'R', '4.0', -1, None, None, None, None, None, None, False, False),\n",
       " ('6074401f-0174-e449-9b6d-0000e7fda428', 'SNAPAPPL_INFO', 'V', '62bfdcdb-ea53-4339-bd1b-018e411b8852', 'R', '4.0', -1, None, None, None, None, None, None, False, False),\n",
       " ('787c0020-0174-e449-9b6d-0000e7fda428', 'APPLICATIONS', 'V', '62bfdcdb-ea53-4339-bd1b-018e411b8852', 'R', '4.0', -1, None, None, None, None, None, None, False, False),\n",
       " ('80840021-0174-e449-9b6d-0000e7fda428', 'SYSALIASTOTABLEVIEW', 'V', 'c013800d-00fb-264d-07ec-000000134f30', 'R', '4.0', -1, None, None, None, None, None, None, False, False),\n",
       " ('d4db0c99-0174-e4e3-c2f7-0004e47c9c10', 'EXPERIMENTS', 'T', '004b0019-0174-e44a-32d3-0004e1a59f48', 'R', '4.0', 4, None, None, None, None, None, 'none', False, False),\n",
       " ('9464cca3-0174-e4e3-c2f7-0004e47c9c10', 'RUNS', 'T', '004b0019-0174-e44a-32d3-0004e1a59f48', 'R', '4.0', 13, None, None, None, None, None, 'none', False, False),\n",
       " ('bf32ccae-0174-e4e3-c2f7-0004e47c9c10', 'TAGS', 'T', '004b0019-0174-e44a-32d3-0004e1a59f48', 'R', '4.0', 3, None, None, None, None, None, 'none', False, False),\n",
       " ('7208ccbe-0174-e4e3-c2f7-0004e47c9c10', 'PARAMS', 'T', '004b0019-0174-e44a-32d3-0004e1a59f48', 'R', '4.0', 3, None, None, None, None, None, 'none', False, False),\n",
       " ('6d920470-0174-e4e3-b58e-0004de6fbd00', 'FRAUDMODEL', 'T', '80000000-00d2-b38f-4cda-000a0a412c00', 'R', '4.0', 37, None, None, None, None, None, 'none', False, False)]"
      ]
     },
     "execution_count": 4,
     "metadata": {},
     "output_type": "execute_result"
    }
   ],
   "source": [
    "engine.execute('select * from sys.systables').fetchall()"
   ]
  },
  {
   "cell_type": "code",
   "execution_count": 22,
   "metadata": {},
   "outputs": [],
   "source": [
    "from splicemachinesa.pyodbc import splice_connect\n",
    "\n",
    "cnx = splice_connect(db_user,db_password,db_host)\n",
    "cursor = cnx.cursor()"
   ]
  },
  {
   "cell_type": "code",
   "execution_count": 18,
   "metadata": {},
   "outputs": [
    {
     "ename": "Error",
     "evalue": "('X0Y79', '[X0Y79] [Splice Machine][Splice] (587) Statement.executeUpdate() cannot be called with a statement that returns a ResultSet. (587) (SQLExecDirectW)')",
     "output_type": "error",
     "traceback": [
      "\u001b[0;31m---------------------------------------------------------------------------\u001b[0m",
      "\u001b[0;31mError\u001b[0m                                     Traceback (most recent call last)",
      "\u001b[0;32m<ipython-input-18-17bd78efa151>\u001b[0m in \u001b[0;36m<module>\u001b[0;34m\u001b[0m\n\u001b[1;32m      9\u001b[0m     \u001b[0mINNER\u001b[0m \u001b[0mJOIN\u001b[0m \u001b[0mLatestEvent\u001b[0m \u001b[0musing\u001b[0m \u001b[0;34m(\u001b[0m\u001b[0;34m\"timestamp\"\u001b[0m\u001b[0;34m,\u001b[0m\u001b[0mMLFLOW_URL\u001b[0m\u001b[0;34m)\u001b[0m\u001b[0;34m\u001b[0m\u001b[0;34m\u001b[0m\u001b[0m\n\u001b[1;32m     10\u001b[0m     \u001b[0mwhere\u001b[0m \u001b[0mHANDLER_NAME\u001b[0m\u001b[0;34m=\u001b[0m\u001b[0;34m'DEPLOY_KUBERNETES'\u001b[0m\u001b[0;34m\u001b[0m\u001b[0;34m\u001b[0m\u001b[0m\n\u001b[0;32m---> 11\u001b[0;31m     \"\"\"\n\u001b[0m\u001b[1;32m     12\u001b[0m               )\n",
      "\u001b[0;31mError\u001b[0m: ('X0Y79', '[X0Y79] [Splice Machine][Splice] (587) Statement.executeUpdate() cannot be called with a statement that returns a ResultSet. (587) (SQLExecDirectW)')"
     ]
    }
   ],
   "source": [
    "cursor.execute(\\\n",
    "               \"\"\"\n",
    "              WITH LatestEvent as ( SELECT MLFlow_URL, max(\"timestamp\") \"timestamp\" \n",
    "    FROM MLManager.Jobs \n",
    "    where HANDLER_NAME in ('DEPLOY_KUBERNETES','UNDEPLOY_KUBERNETES')  \n",
    "    group by 1 )\n",
    "    \n",
    "    SELECT ID FROM MLManager.Jobs\n",
    "    INNER JOIN LatestEvent using (\"timestamp\",MLFLOW_URL)\n",
    "    where HANDLER_NAME='DEPLOY_KUBERNETES'\n",
    "    \"\"\"\n",
    "              )"
   ]
  },
  {
   "cell_type": "code",
   "execution_count": 6,
   "metadata": {
    "scrolled": false
   },
   "outputs": [
    {
     "data": {
      "text/plain": [
       "<sqlalchemy.engine.result.ResultProxy at 0x7fde79b1ced0>"
      ]
     },
     "execution_count": 6,
     "metadata": {},
     "output_type": "execute_result"
    }
   ],
   "source": [
    "engine.execute(\\\n",
    "               \"\"\"\n",
    "    SELECT ID FROM MLManager.Jobs\n",
    "    INNER JOIN \n",
    "       ( SELECT MLFlow_URL, max(\"timestamp\") \"timestamp\" \n",
    "         FROM MLManager.Jobs \n",
    "         where HANDLER_NAME in ('DEPLOY_KUBERNETES','UNDEPLOY_KUBERNETES')  \n",
    "         group by 1 ) LatestEvent using (\"timestamp\",MLFLOW_URL)\n",
    "    where HANDLER_NAME='DEPLOY_KUBERNETES'\n",
    "    \"\"\"\n",
    "              )"
   ]
  },
  {
   "cell_type": "code",
   "execution_count": 7,
   "metadata": {},
   "outputs": [],
   "source": [
    "from sqlalchemy_views import CreateView\n",
    "from sqlalchemy import Column, String, Integer, LargeBinary, PrimaryKeyConstraint, ForeignKey, DateTime, Boolean, Table\n",
    "from sqlalchemy.sql import text\n",
    "from sqlalchemy.ext.declarative import declarative_base\n",
    "\n",
    "Base = declarative_base()\n",
    "\n",
    "live_model_status = Table('live_model_status', Base.metadata)\n",
    "definition = text(\"\"\"\n",
    "select mm.RUN_UUID, mm.action,\n",
    "CASE when ((sta.tableid is null or st.triggerid is NULL or (mm.TRIGGERID_2 is not NULL and st2.triggerid is NULL)) and mm.ACTION='DEPLOYED')\n",
    "then 'Table or Trigger Missing' else mm.ACTION\n",
    "end as deployment_status,\n",
    "mm.TABLEID, mm.TRIGGER_TYPE, mm.TRIGGERID, mm.TRIGGERID_2, mm.DB_ENV, mm.db_user, mm.action_date\n",
    "\n",
    "from mlmanager.model_metadata mm\n",
    "left outer join sys.systables sta using (tableid)\n",
    "left outer join sys.systriggers st on (mm.triggerid=st.triggerid)\n",
    "left outer join sys.systriggers st2 on (mm.triggerid_2=st2.triggerid)\n",
    "\"\"\")\n",
    "live_model_status_view = CreateView(live_model_status, definition)\n",
    "\n",
    "with engine.begin() as cnx:\n",
    "    cnx.execute(live_model_status_view)\n",
    "    "
   ]
  },
  {
   "cell_type": "code",
   "execution_count": 8,
   "metadata": {},
   "outputs": [
    {
     "name": "stdout",
     "output_type": "stream",
     "text": [
      "CPU times: user 1.31 ms, sys: 1.2 ms, total: 2.51 ms\n",
      "Wall time: 8.69 ms\n"
     ]
    },
    {
     "data": {
      "text/plain": [
       "['live_model_status']"
      ]
     },
     "execution_count": 8,
     "metadata": {},
     "output_type": "execute_result"
    }
   ],
   "source": [
    "%%time\n",
    "from sqlalchemy import inspect as peer_into_splice_db\n",
    "inspector = peer_into_splice_db(engine)\n",
    "inspector.get_view_names()"
   ]
  },
  {
   "cell_type": "code",
   "execution_count": 3,
   "metadata": {
    "collapsed": true
   },
   "outputs": [
    {
     "data": {
      "text/plain": [
       "['__class__',\n",
       " '__delattr__',\n",
       " '__dict__',\n",
       " '__dir__',\n",
       " '__doc__',\n",
       " '__eq__',\n",
       " '__format__',\n",
       " '__ge__',\n",
       " '__getattribute__',\n",
       " '__gt__',\n",
       " '__hash__',\n",
       " '__init__',\n",
       " '__init_subclass__',\n",
       " '__le__',\n",
       " '__lt__',\n",
       " '__module__',\n",
       " '__ne__',\n",
       " '__new__',\n",
       " '__reduce__',\n",
       " '__reduce_ex__',\n",
       " '__repr__',\n",
       " '__setattr__',\n",
       " '__sizeof__',\n",
       " '__str__',\n",
       " '__subclasshook__',\n",
       " '__weakref__',\n",
       " '_connection_cls',\n",
       " '_contextual_connect',\n",
       " '_echo',\n",
       " '_execute_clauseelement',\n",
       " '_execute_compiled',\n",
       " '_execute_default',\n",
       " '_execution_options',\n",
       " '_has_events',\n",
       " '_optional_conn_ctx_manager',\n",
       " '_run_visitor',\n",
       " '_should_log_debug',\n",
       " '_should_log_info',\n",
       " '_trans_ctx',\n",
       " '_wrap_pool_connect',\n",
       " 'begin',\n",
       " 'connect',\n",
       " 'contextual_connect',\n",
       " 'create',\n",
       " 'dialect',\n",
       " 'dispatch',\n",
       " 'dispose',\n",
       " 'driver',\n",
       " 'drop',\n",
       " 'echo',\n",
       " 'engine',\n",
       " 'execute',\n",
       " 'execution_options',\n",
       " 'get_execution_options',\n",
       " 'has_table',\n",
       " 'hide_parameters',\n",
       " 'logger',\n",
       " 'logging_name',\n",
       " 'name',\n",
       " 'pool',\n",
       " 'raw_connection',\n",
       " 'run_callable',\n",
       " 'scalar',\n",
       " 'schema_for_object',\n",
       " 'table_names',\n",
       " 'transaction',\n",
       " 'update_execution_options',\n",
       " 'url']"
      ]
     },
     "execution_count": 3,
     "metadata": {},
     "output_type": "execute_result"
    }
   ],
   "source": [
    "engine.execute('create table foo(a int)')\n",
    "dir(engine)"
   ]
  },
  {
   "cell_type": "code",
   "execution_count": 4,
   "metadata": {},
   "outputs": [
    {
     "ename": "AttributeError",
     "evalue": "'Engine' object has no attribute 'commit'",
     "output_type": "error",
     "traceback": [
      "\u001b[0;31m---------------------------------------------------------------------------\u001b[0m",
      "\u001b[0;31mAttributeError\u001b[0m                            Traceback (most recent call last)",
      "\u001b[0;32m<ipython-input-4-503179b931b4>\u001b[0m in \u001b[0;36m<module>\u001b[0;34m\u001b[0m\n\u001b[0;32m----> 1\u001b[0;31m \u001b[0mengine\u001b[0m\u001b[0;34m.\u001b[0m\u001b[0mcommit\u001b[0m\u001b[0;34m(\u001b[0m\u001b[0;34m)\u001b[0m\u001b[0;34m\u001b[0m\u001b[0;34m\u001b[0m\u001b[0m\n\u001b[0m",
      "\u001b[0;31mAttributeError\u001b[0m: 'Engine' object has no attribute 'commit'"
     ]
    }
   ],
   "source": [
    "engine.commit()"
   ]
  },
  {
   "cell_type": "code",
   "execution_count": 10,
   "metadata": {},
   "outputs": [],
   "source": [
    "class SysTables(Base):\n",
    "    \"\"\"\n",
    "    System Table for managing tables\n",
    "    \"\"\"\n",
    "    __tablename__: str = \"systables\"\n",
    "    __table_args__: dict = {\"schema\": \"sys\"}\n",
    "    TABLEID: Column = Column(String(1), nullable=False, primary_key=True)\n",
    "    TABLENAME: Column = Column(String(100), nullable=False)\n",
    "    TABLETYPE: Column = Column(String(1), nullable=False)\n",
    "    SCHEMAID: Column = Column(String(1), nullable=False)\n",
    "    LOCKGRANULARITY: Column = Column(String(100), nullable=False)\n",
    "    VERSION: Column = Column(String(100), nullable=True)\n",
    "    COLSEQUENCE: Column = Column(String(100), nullable=False)\n",
    "    DELIMITED: Column = Column(Integer, nullable=True)\n",
    "    ESCAPED: Column = Column(String(100), nullable=True)\n",
    "    LINES: Column = Column(String(100), nullable=True)\n",
    "    STORED: Column = Column(String(100), nullable=True)\n",
    "    LOCATION: Column = Column(String(100), nullable=True)\n",
    "    COMPRESSION: Column = Column(String(100), nullable=True)\n",
    "    IS_PINNED: Column = Column(Boolean, nullable=False)\n",
    "    PURGE_DELETED_ROWS: Column = Column(Boolean, nullable=False)\n"
   ]
  },
  {
   "cell_type": "code",
   "execution_count": 11,
   "metadata": {},
   "outputs": [],
   "source": [
    "class SysUsers(Base):\n",
    "    \n",
    "    \"\"\"\n",
    "    System Table for managing users\n",
    "    \"\"\"\n",
    "    __tablename__: str = \"sysusers\"\n",
    "    __table_args__: Dict[str,str] = {\"schema\": \"sys\"}\n",
    "    USERNAME: Column = Column(String(100), nullable=False)\n",
    "    HASHINGSCHEME: Column = Column(String(5000), nullable=False, primary_key=True)\n",
    "    PASSWORD: Column = Column(String(5000), nullable=False)\n",
    "    LASTMODIFIED: Column = Column(DateTime, nullable=False)\n",
    "        "
   ]
  },
  {
   "cell_type": "code",
   "execution_count": 12,
   "metadata": {},
   "outputs": [],
   "source": [
    "class SysTriggers(Base):\n",
    "    \"\"\"\n",
    "    System Table for managing triggers\n",
    "    \"\"\"\n",
    "    __tablename__: str = \"systriggers\"\n",
    "    __table_args__: Dict[str,str] = {\"schema\": \"sys\"}\n",
    "    TRIGGERID: Column = Column(String(1), primary_key=True, nullable=True)\n",
    "    TRIGGERNAME: Column = Column(String(1000), nullable=True)\n",
    "    SCHEMAID: Column = Column(String(1), nullable=True)\n",
    "    CREATIONTIMESTAMP: Column = Column(DateTime, nullable=True)\n",
    "    EVENT: Column = Column(String(1), nullable=True)\n",
    "    FIRINGTIME: Column = Column(String(1), nullable=True)\n",
    "    TYPE: Column = Column(String(1), nullable=True)\n",
    "    STATE: Column = Column(String(1), nullable=True)\n",
    "    TABLEID: Column = Column(String(1), nullable=True)\n",
    "    WHENSTMTID: Column = Column(String(1), nullable=False)\n",
    "    ACTIONSTMTID: Column = Column(String(1), nullable=False)\n",
    "    REFERENCEDCOLUMNS: Column = Column(String(5000), nullable=False) \n",
    "    TRIGGERDEFINITION: Column = Column(String(5000), nullable=False) \n",
    "    REFERENCINGOLD: Column = Column(Boolean, nullable=False)\n",
    "    REFERENCINGNEW: Column = Column(Boolean, nullable=False)\n",
    "    OLDREFERENCINGNAME: Column = Column(String(100), nullable=False)\n",
    "    NEWREFERENCINGNAME: Column = Column(String(100), nullable=False)\n",
    "    WHENCLAUSETEXT: Column = Column(String(5000), nullable=False)"
   ]
  },
  {
   "cell_type": "code",
   "execution_count": 22,
   "metadata": {},
   "outputs": [],
   "source": [
    "class ModelMetadata(Base):\n",
    "    \"\"\"\n",
    "    Table for storing metadata information about the deployed models.\n",
    "    \"\"\"\n",
    "    __tablename__: str = \"model_metadata\"\n",
    "    __table_args__: Dict[str,str] = {\"schema\": \"mlmanager\"}\n",
    "    run_uuid: Column = Column(String(32), primary_key=True)\n",
    "    status: Column = Column(String(50), nullable=False)\n",
    "    deployed_to: Column = Column(String(250), ForeignKey(SysTables.TABLEID), nullable=False) #FIXME: foreign key sys.systables\n",
    "    trigger_id: Column = Column(String(250), ForeignKey(SysTriggers.TRIGGERID), nullable=False) #FIXME: foreign key sys.systriggers\n",
    "    trigger_id_2: Column = Column(String(250), ForeignKey(SysTriggers.TRIGGERID), nullable=True) # Some models have 2 triggers #FIXME: foreign key sys.systriggers\n",
    "    db_env: Column = Column(String(100), nullable=True) # Dev, QA, Prod etc\n",
    "    deployed_by: Column = Column(String(250), ForeignKey(SysUsers.USERNAME), nullable=False) #FIXME: foreign key sys.sysusers\n",
    "    deployed_date: Column = Column(DateTime, default=datetime.now(tz=pytz.utc), nullable=False)\n",
    "\n",
    "    deploy_endpoint: relationship = relationship(SysTables, backref=backref('model_metadata'))\n",
    "    trigger_1: relationship = relationship(SysTriggers, backref=backref('model_metadata'))\n",
    "    deploy_user: relationship = relationship(SysUsers, backref=backref('model_metadata'))"
   ]
  },
  {
   "cell_type": "code",
   "execution_count": 23,
   "metadata": {},
   "outputs": [
    {
     "ename": "ProgrammingError",
     "evalue": "(pyodbc.ProgrammingError) ('42Y08', '[42Y08] [Splice Machine][Splice] (370) Foreign key constraints are not allowed on system tables. (370) (SQLExecDirectW)')\n[SQL: \nCREATE TABLE mlmanager.model_metadata (\n\trun_uuid VARCHAR(32) NOT NULL, \n\tstatus VARCHAR(50) NOT NULL, \n\tdeployed_to VARCHAR(250) NOT NULL, \n\ttrigger_id VARCHAR(250) NOT NULL, \n\ttrigger_id_2 VARCHAR(250), \n\tdb_env VARCHAR(100), \n\tdeployed_by VARCHAR(250) NOT NULL, \n\tdeployed_date TIMESTAMP NOT NULL, \n\tPRIMARY KEY (run_uuid), \n\tFOREIGN KEY(deployed_to) REFERENCES sys.systables (\"TABLEID\"), \n\tFOREIGN KEY(trigger_id) REFERENCES sys.systriggers (\"TRIGGERID\"), \n\tFOREIGN KEY(trigger_id_2) REFERENCES sys.systriggers (\"TRIGGERID\"), \n\tFOREIGN KEY(deployed_by) REFERENCES sys.sysusers (\"USERNAME\")\n)\n\n]\n(Background on this error at: http://sqlalche.me/e/f405)",
     "output_type": "error",
     "traceback": [
      "\u001b[0;31m---------------------------------------------------------------------------\u001b[0m",
      "\u001b[0;31mProgrammingError\u001b[0m                          Traceback (most recent call last)",
      "\u001b[0;32m//anaconda3/lib/python3.7/site-packages/sqlalchemy/engine/base.py\u001b[0m in \u001b[0;36m_execute_context\u001b[0;34m(self, dialect, constructor, statement, parameters, *args)\u001b[0m\n\u001b[1;32m   1245\u001b[0m                     self.dialect.do_execute(\n\u001b[0;32m-> 1246\u001b[0;31m                         \u001b[0mcursor\u001b[0m\u001b[0;34m,\u001b[0m \u001b[0mstatement\u001b[0m\u001b[0;34m,\u001b[0m \u001b[0mparameters\u001b[0m\u001b[0;34m,\u001b[0m \u001b[0mcontext\u001b[0m\u001b[0;34m\u001b[0m\u001b[0;34m\u001b[0m\u001b[0m\n\u001b[0m\u001b[1;32m   1247\u001b[0m                     )\n",
      "\u001b[0;32m//anaconda3/lib/python3.7/site-packages/sqlalchemy/engine/default.py\u001b[0m in \u001b[0;36mdo_execute\u001b[0;34m(self, cursor, statement, parameters, context)\u001b[0m\n\u001b[1;32m    587\u001b[0m     \u001b[0;32mdef\u001b[0m \u001b[0mdo_execute\u001b[0m\u001b[0;34m(\u001b[0m\u001b[0mself\u001b[0m\u001b[0;34m,\u001b[0m \u001b[0mcursor\u001b[0m\u001b[0;34m,\u001b[0m \u001b[0mstatement\u001b[0m\u001b[0;34m,\u001b[0m \u001b[0mparameters\u001b[0m\u001b[0;34m,\u001b[0m \u001b[0mcontext\u001b[0m\u001b[0;34m=\u001b[0m\u001b[0;32mNone\u001b[0m\u001b[0;34m)\u001b[0m\u001b[0;34m:\u001b[0m\u001b[0;34m\u001b[0m\u001b[0;34m\u001b[0m\u001b[0m\n\u001b[0;32m--> 588\u001b[0;31m         \u001b[0mcursor\u001b[0m\u001b[0;34m.\u001b[0m\u001b[0mexecute\u001b[0m\u001b[0;34m(\u001b[0m\u001b[0mstatement\u001b[0m\u001b[0;34m,\u001b[0m \u001b[0mparameters\u001b[0m\u001b[0;34m)\u001b[0m\u001b[0;34m\u001b[0m\u001b[0;34m\u001b[0m\u001b[0m\n\u001b[0m\u001b[1;32m    589\u001b[0m \u001b[0;34m\u001b[0m\u001b[0m\n",
      "\u001b[0;31mProgrammingError\u001b[0m: ('42Y08', '[42Y08] [Splice Machine][Splice] (370) Foreign key constraints are not allowed on system tables. (370) (SQLExecDirectW)')",
      "\nThe above exception was the direct cause of the following exception:\n",
      "\u001b[0;31mProgrammingError\u001b[0m                          Traceback (most recent call last)",
      "\u001b[0;32m<ipython-input-23-28b70ef012eb>\u001b[0m in \u001b[0;36m<module>\u001b[0;34m\u001b[0m\n\u001b[1;32m      1\u001b[0m \u001b[0mtables\u001b[0m \u001b[0;34m=\u001b[0m \u001b[0;34m[\u001b[0m\u001b[0mSysTables\u001b[0m\u001b[0;34m.\u001b[0m\u001b[0m__table__\u001b[0m\u001b[0;34m,\u001b[0m \u001b[0mSysUsers\u001b[0m\u001b[0;34m.\u001b[0m\u001b[0m__table__\u001b[0m\u001b[0;34m,\u001b[0m\u001b[0mSysTriggers\u001b[0m\u001b[0;34m.\u001b[0m\u001b[0m__table__\u001b[0m\u001b[0;34m,\u001b[0m \u001b[0mModelMetadata\u001b[0m\u001b[0;34m.\u001b[0m\u001b[0m__table__\u001b[0m\u001b[0;34m]\u001b[0m\u001b[0;34m\u001b[0m\u001b[0;34m\u001b[0m\u001b[0m\n\u001b[1;32m      2\u001b[0m Base.metadata.create_all(engine, tables=tables, \n\u001b[0;32m----> 3\u001b[0;31m                          checkfirst=True)\n\u001b[0m",
      "\u001b[0;32m//anaconda3/lib/python3.7/site-packages/sqlalchemy/sql/schema.py\u001b[0m in \u001b[0;36mcreate_all\u001b[0;34m(self, bind, tables, checkfirst)\u001b[0m\n\u001b[1;32m   4314\u001b[0m             \u001b[0mbind\u001b[0m \u001b[0;34m=\u001b[0m \u001b[0m_bind_or_error\u001b[0m\u001b[0;34m(\u001b[0m\u001b[0mself\u001b[0m\u001b[0;34m)\u001b[0m\u001b[0;34m\u001b[0m\u001b[0;34m\u001b[0m\u001b[0m\n\u001b[1;32m   4315\u001b[0m         bind._run_visitor(\n\u001b[0;32m-> 4316\u001b[0;31m             \u001b[0mddl\u001b[0m\u001b[0;34m.\u001b[0m\u001b[0mSchemaGenerator\u001b[0m\u001b[0;34m,\u001b[0m \u001b[0mself\u001b[0m\u001b[0;34m,\u001b[0m \u001b[0mcheckfirst\u001b[0m\u001b[0;34m=\u001b[0m\u001b[0mcheckfirst\u001b[0m\u001b[0;34m,\u001b[0m \u001b[0mtables\u001b[0m\u001b[0;34m=\u001b[0m\u001b[0mtables\u001b[0m\u001b[0;34m\u001b[0m\u001b[0;34m\u001b[0m\u001b[0m\n\u001b[0m\u001b[1;32m   4317\u001b[0m         )\n\u001b[1;32m   4318\u001b[0m \u001b[0;34m\u001b[0m\u001b[0m\n",
      "\u001b[0;32m//anaconda3/lib/python3.7/site-packages/sqlalchemy/engine/base.py\u001b[0m in \u001b[0;36m_run_visitor\u001b[0;34m(self, visitorcallable, element, connection, **kwargs)\u001b[0m\n\u001b[1;32m   2047\u001b[0m     ):\n\u001b[1;32m   2048\u001b[0m         \u001b[0;32mwith\u001b[0m \u001b[0mself\u001b[0m\u001b[0;34m.\u001b[0m\u001b[0m_optional_conn_ctx_manager\u001b[0m\u001b[0;34m(\u001b[0m\u001b[0mconnection\u001b[0m\u001b[0;34m)\u001b[0m \u001b[0;32mas\u001b[0m \u001b[0mconn\u001b[0m\u001b[0;34m:\u001b[0m\u001b[0;34m\u001b[0m\u001b[0;34m\u001b[0m\u001b[0m\n\u001b[0;32m-> 2049\u001b[0;31m             \u001b[0mconn\u001b[0m\u001b[0;34m.\u001b[0m\u001b[0m_run_visitor\u001b[0m\u001b[0;34m(\u001b[0m\u001b[0mvisitorcallable\u001b[0m\u001b[0;34m,\u001b[0m \u001b[0melement\u001b[0m\u001b[0;34m,\u001b[0m \u001b[0;34m**\u001b[0m\u001b[0mkwargs\u001b[0m\u001b[0;34m)\u001b[0m\u001b[0;34m\u001b[0m\u001b[0;34m\u001b[0m\u001b[0m\n\u001b[0m\u001b[1;32m   2050\u001b[0m \u001b[0;34m\u001b[0m\u001b[0m\n\u001b[1;32m   2051\u001b[0m     \u001b[0;32mclass\u001b[0m \u001b[0m_trans_ctx\u001b[0m\u001b[0;34m(\u001b[0m\u001b[0mobject\u001b[0m\u001b[0;34m)\u001b[0m\u001b[0;34m:\u001b[0m\u001b[0;34m\u001b[0m\u001b[0;34m\u001b[0m\u001b[0m\n",
      "\u001b[0;32m//anaconda3/lib/python3.7/site-packages/sqlalchemy/engine/base.py\u001b[0m in \u001b[0;36m_run_visitor\u001b[0;34m(self, visitorcallable, element, **kwargs)\u001b[0m\n\u001b[1;32m   1616\u001b[0m \u001b[0;34m\u001b[0m\u001b[0m\n\u001b[1;32m   1617\u001b[0m     \u001b[0;32mdef\u001b[0m \u001b[0m_run_visitor\u001b[0m\u001b[0;34m(\u001b[0m\u001b[0mself\u001b[0m\u001b[0;34m,\u001b[0m \u001b[0mvisitorcallable\u001b[0m\u001b[0;34m,\u001b[0m \u001b[0melement\u001b[0m\u001b[0;34m,\u001b[0m \u001b[0;34m**\u001b[0m\u001b[0mkwargs\u001b[0m\u001b[0;34m)\u001b[0m\u001b[0;34m:\u001b[0m\u001b[0;34m\u001b[0m\u001b[0;34m\u001b[0m\u001b[0m\n\u001b[0;32m-> 1618\u001b[0;31m         \u001b[0mvisitorcallable\u001b[0m\u001b[0;34m(\u001b[0m\u001b[0mself\u001b[0m\u001b[0;34m.\u001b[0m\u001b[0mdialect\u001b[0m\u001b[0;34m,\u001b[0m \u001b[0mself\u001b[0m\u001b[0;34m,\u001b[0m \u001b[0;34m**\u001b[0m\u001b[0mkwargs\u001b[0m\u001b[0;34m)\u001b[0m\u001b[0;34m.\u001b[0m\u001b[0mtraverse_single\u001b[0m\u001b[0;34m(\u001b[0m\u001b[0melement\u001b[0m\u001b[0;34m)\u001b[0m\u001b[0;34m\u001b[0m\u001b[0;34m\u001b[0m\u001b[0m\n\u001b[0m\u001b[1;32m   1619\u001b[0m \u001b[0;34m\u001b[0m\u001b[0m\n\u001b[1;32m   1620\u001b[0m \u001b[0;34m\u001b[0m\u001b[0m\n",
      "\u001b[0;32m//anaconda3/lib/python3.7/site-packages/sqlalchemy/sql/visitors.py\u001b[0m in \u001b[0;36mtraverse_single\u001b[0;34m(self, obj, **kw)\u001b[0m\n\u001b[1;32m    136\u001b[0m             \u001b[0mmeth\u001b[0m \u001b[0;34m=\u001b[0m \u001b[0mgetattr\u001b[0m\u001b[0;34m(\u001b[0m\u001b[0mv\u001b[0m\u001b[0;34m,\u001b[0m \u001b[0;34m\"visit_%s\"\u001b[0m \u001b[0;34m%\u001b[0m \u001b[0mobj\u001b[0m\u001b[0;34m.\u001b[0m\u001b[0m__visit_name__\u001b[0m\u001b[0;34m,\u001b[0m \u001b[0;32mNone\u001b[0m\u001b[0;34m)\u001b[0m\u001b[0;34m\u001b[0m\u001b[0;34m\u001b[0m\u001b[0m\n\u001b[1;32m    137\u001b[0m             \u001b[0;32mif\u001b[0m \u001b[0mmeth\u001b[0m\u001b[0;34m:\u001b[0m\u001b[0;34m\u001b[0m\u001b[0;34m\u001b[0m\u001b[0m\n\u001b[0;32m--> 138\u001b[0;31m                 \u001b[0;32mreturn\u001b[0m \u001b[0mmeth\u001b[0m\u001b[0;34m(\u001b[0m\u001b[0mobj\u001b[0m\u001b[0;34m,\u001b[0m \u001b[0;34m**\u001b[0m\u001b[0mkw\u001b[0m\u001b[0;34m)\u001b[0m\u001b[0;34m\u001b[0m\u001b[0;34m\u001b[0m\u001b[0m\n\u001b[0m\u001b[1;32m    139\u001b[0m \u001b[0;34m\u001b[0m\u001b[0m\n\u001b[1;32m    140\u001b[0m     \u001b[0;32mdef\u001b[0m \u001b[0miterate\u001b[0m\u001b[0;34m(\u001b[0m\u001b[0mself\u001b[0m\u001b[0;34m,\u001b[0m \u001b[0mobj\u001b[0m\u001b[0;34m)\u001b[0m\u001b[0;34m:\u001b[0m\u001b[0;34m\u001b[0m\u001b[0;34m\u001b[0m\u001b[0m\n",
      "\u001b[0;32m//anaconda3/lib/python3.7/site-packages/sqlalchemy/sql/ddl.py\u001b[0m in \u001b[0;36mvisit_metadata\u001b[0;34m(self, metadata)\u001b[0m\n\u001b[1;32m    779\u001b[0m                     \u001b[0mcreate_ok\u001b[0m\u001b[0;34m=\u001b[0m\u001b[0;32mTrue\u001b[0m\u001b[0;34m,\u001b[0m\u001b[0;34m\u001b[0m\u001b[0;34m\u001b[0m\u001b[0m\n\u001b[1;32m    780\u001b[0m                     \u001b[0minclude_foreign_key_constraints\u001b[0m\u001b[0;34m=\u001b[0m\u001b[0mfkcs\u001b[0m\u001b[0;34m,\u001b[0m\u001b[0;34m\u001b[0m\u001b[0;34m\u001b[0m\u001b[0m\n\u001b[0;32m--> 781\u001b[0;31m                     \u001b[0m_is_metadata_operation\u001b[0m\u001b[0;34m=\u001b[0m\u001b[0;32mTrue\u001b[0m\u001b[0;34m,\u001b[0m\u001b[0;34m\u001b[0m\u001b[0;34m\u001b[0m\u001b[0m\n\u001b[0m\u001b[1;32m    782\u001b[0m                 )\n\u001b[1;32m    783\u001b[0m             \u001b[0;32melse\u001b[0m\u001b[0;34m:\u001b[0m\u001b[0;34m\u001b[0m\u001b[0;34m\u001b[0m\u001b[0m\n",
      "\u001b[0;32m//anaconda3/lib/python3.7/site-packages/sqlalchemy/sql/visitors.py\u001b[0m in \u001b[0;36mtraverse_single\u001b[0;34m(self, obj, **kw)\u001b[0m\n\u001b[1;32m    136\u001b[0m             \u001b[0mmeth\u001b[0m \u001b[0;34m=\u001b[0m \u001b[0mgetattr\u001b[0m\u001b[0;34m(\u001b[0m\u001b[0mv\u001b[0m\u001b[0;34m,\u001b[0m \u001b[0;34m\"visit_%s\"\u001b[0m \u001b[0;34m%\u001b[0m \u001b[0mobj\u001b[0m\u001b[0;34m.\u001b[0m\u001b[0m__visit_name__\u001b[0m\u001b[0;34m,\u001b[0m \u001b[0;32mNone\u001b[0m\u001b[0;34m)\u001b[0m\u001b[0;34m\u001b[0m\u001b[0;34m\u001b[0m\u001b[0m\n\u001b[1;32m    137\u001b[0m             \u001b[0;32mif\u001b[0m \u001b[0mmeth\u001b[0m\u001b[0;34m:\u001b[0m\u001b[0;34m\u001b[0m\u001b[0;34m\u001b[0m\u001b[0m\n\u001b[0;32m--> 138\u001b[0;31m                 \u001b[0;32mreturn\u001b[0m \u001b[0mmeth\u001b[0m\u001b[0;34m(\u001b[0m\u001b[0mobj\u001b[0m\u001b[0;34m,\u001b[0m \u001b[0;34m**\u001b[0m\u001b[0mkw\u001b[0m\u001b[0;34m)\u001b[0m\u001b[0;34m\u001b[0m\u001b[0;34m\u001b[0m\u001b[0m\n\u001b[0m\u001b[1;32m    139\u001b[0m \u001b[0;34m\u001b[0m\u001b[0m\n\u001b[1;32m    140\u001b[0m     \u001b[0;32mdef\u001b[0m \u001b[0miterate\u001b[0m\u001b[0;34m(\u001b[0m\u001b[0mself\u001b[0m\u001b[0;34m,\u001b[0m \u001b[0mobj\u001b[0m\u001b[0;34m)\u001b[0m\u001b[0;34m:\u001b[0m\u001b[0;34m\u001b[0m\u001b[0;34m\u001b[0m\u001b[0m\n",
      "\u001b[0;32m//anaconda3/lib/python3.7/site-packages/sqlalchemy/sql/ddl.py\u001b[0m in \u001b[0;36mvisit_table\u001b[0;34m(self, table, create_ok, include_foreign_key_constraints, _is_metadata_operation)\u001b[0m\n\u001b[1;32m    824\u001b[0m                 \u001b[0mtable\u001b[0m\u001b[0;34m,\u001b[0m\u001b[0;34m\u001b[0m\u001b[0;34m\u001b[0m\u001b[0m\n\u001b[1;32m    825\u001b[0m                 \u001b[0minclude_foreign_key_constraints\u001b[0m\u001b[0;34m=\u001b[0m  \u001b[0;31m# noqa\u001b[0m\u001b[0;34m\u001b[0m\u001b[0;34m\u001b[0m\u001b[0m\n\u001b[0;32m--> 826\u001b[0;31m                     \u001b[0minclude_foreign_key_constraints\u001b[0m\u001b[0;34m,\u001b[0m  \u001b[0;31m# noqa\u001b[0m\u001b[0;34m\u001b[0m\u001b[0;34m\u001b[0m\u001b[0m\n\u001b[0m\u001b[1;32m    827\u001b[0m             )\n\u001b[1;32m    828\u001b[0m             \u001b[0;31m# fmt: on\u001b[0m\u001b[0;34m\u001b[0m\u001b[0;34m\u001b[0m\u001b[0;34m\u001b[0m\u001b[0m\n",
      "\u001b[0;32m//anaconda3/lib/python3.7/site-packages/sqlalchemy/engine/base.py\u001b[0m in \u001b[0;36mexecute\u001b[0;34m(self, object_, *multiparams, **params)\u001b[0m\n\u001b[1;32m    980\u001b[0m             \u001b[0;32mraise\u001b[0m \u001b[0mexc\u001b[0m\u001b[0;34m.\u001b[0m\u001b[0mObjectNotExecutableError\u001b[0m\u001b[0;34m(\u001b[0m\u001b[0mobject_\u001b[0m\u001b[0;34m)\u001b[0m\u001b[0;34m\u001b[0m\u001b[0;34m\u001b[0m\u001b[0m\n\u001b[1;32m    981\u001b[0m         \u001b[0;32melse\u001b[0m\u001b[0;34m:\u001b[0m\u001b[0;34m\u001b[0m\u001b[0;34m\u001b[0m\u001b[0m\n\u001b[0;32m--> 982\u001b[0;31m             \u001b[0;32mreturn\u001b[0m \u001b[0mmeth\u001b[0m\u001b[0;34m(\u001b[0m\u001b[0mself\u001b[0m\u001b[0;34m,\u001b[0m \u001b[0mmultiparams\u001b[0m\u001b[0;34m,\u001b[0m \u001b[0mparams\u001b[0m\u001b[0;34m)\u001b[0m\u001b[0;34m\u001b[0m\u001b[0;34m\u001b[0m\u001b[0m\n\u001b[0m\u001b[1;32m    983\u001b[0m \u001b[0;34m\u001b[0m\u001b[0m\n\u001b[1;32m    984\u001b[0m     \u001b[0;32mdef\u001b[0m \u001b[0m_execute_function\u001b[0m\u001b[0;34m(\u001b[0m\u001b[0mself\u001b[0m\u001b[0;34m,\u001b[0m \u001b[0mfunc\u001b[0m\u001b[0;34m,\u001b[0m \u001b[0mmultiparams\u001b[0m\u001b[0;34m,\u001b[0m \u001b[0mparams\u001b[0m\u001b[0;34m)\u001b[0m\u001b[0;34m:\u001b[0m\u001b[0;34m\u001b[0m\u001b[0;34m\u001b[0m\u001b[0m\n",
      "\u001b[0;32m//anaconda3/lib/python3.7/site-packages/sqlalchemy/sql/ddl.py\u001b[0m in \u001b[0;36m_execute_on_connection\u001b[0;34m(self, connection, multiparams, params)\u001b[0m\n\u001b[1;32m     70\u001b[0m \u001b[0;34m\u001b[0m\u001b[0m\n\u001b[1;32m     71\u001b[0m     \u001b[0;32mdef\u001b[0m \u001b[0m_execute_on_connection\u001b[0m\u001b[0;34m(\u001b[0m\u001b[0mself\u001b[0m\u001b[0;34m,\u001b[0m \u001b[0mconnection\u001b[0m\u001b[0;34m,\u001b[0m \u001b[0mmultiparams\u001b[0m\u001b[0;34m,\u001b[0m \u001b[0mparams\u001b[0m\u001b[0;34m)\u001b[0m\u001b[0;34m:\u001b[0m\u001b[0;34m\u001b[0m\u001b[0;34m\u001b[0m\u001b[0m\n\u001b[0;32m---> 72\u001b[0;31m         \u001b[0;32mreturn\u001b[0m \u001b[0mconnection\u001b[0m\u001b[0;34m.\u001b[0m\u001b[0m_execute_ddl\u001b[0m\u001b[0;34m(\u001b[0m\u001b[0mself\u001b[0m\u001b[0;34m,\u001b[0m \u001b[0mmultiparams\u001b[0m\u001b[0;34m,\u001b[0m \u001b[0mparams\u001b[0m\u001b[0;34m)\u001b[0m\u001b[0;34m\u001b[0m\u001b[0;34m\u001b[0m\u001b[0m\n\u001b[0m\u001b[1;32m     73\u001b[0m \u001b[0;34m\u001b[0m\u001b[0m\n\u001b[1;32m     74\u001b[0m     \u001b[0;32mdef\u001b[0m \u001b[0mexecute\u001b[0m\u001b[0;34m(\u001b[0m\u001b[0mself\u001b[0m\u001b[0;34m,\u001b[0m \u001b[0mbind\u001b[0m\u001b[0;34m=\u001b[0m\u001b[0;32mNone\u001b[0m\u001b[0;34m,\u001b[0m \u001b[0mtarget\u001b[0m\u001b[0;34m=\u001b[0m\u001b[0;32mNone\u001b[0m\u001b[0;34m)\u001b[0m\u001b[0;34m:\u001b[0m\u001b[0;34m\u001b[0m\u001b[0;34m\u001b[0m\u001b[0m\n",
      "\u001b[0;32m//anaconda3/lib/python3.7/site-packages/sqlalchemy/engine/base.py\u001b[0m in \u001b[0;36m_execute_ddl\u001b[0;34m(self, ddl, multiparams, params)\u001b[0m\n\u001b[1;32m   1042\u001b[0m             \u001b[0mcompiled\u001b[0m\u001b[0;34m,\u001b[0m\u001b[0;34m\u001b[0m\u001b[0;34m\u001b[0m\u001b[0m\n\u001b[1;32m   1043\u001b[0m             \u001b[0;32mNone\u001b[0m\u001b[0;34m,\u001b[0m\u001b[0;34m\u001b[0m\u001b[0;34m\u001b[0m\u001b[0m\n\u001b[0;32m-> 1044\u001b[0;31m             \u001b[0mcompiled\u001b[0m\u001b[0;34m,\u001b[0m\u001b[0;34m\u001b[0m\u001b[0;34m\u001b[0m\u001b[0m\n\u001b[0m\u001b[1;32m   1045\u001b[0m         )\n\u001b[1;32m   1046\u001b[0m         \u001b[0;32mif\u001b[0m \u001b[0mself\u001b[0m\u001b[0;34m.\u001b[0m\u001b[0m_has_events\u001b[0m \u001b[0;32mor\u001b[0m \u001b[0mself\u001b[0m\u001b[0;34m.\u001b[0m\u001b[0mengine\u001b[0m\u001b[0;34m.\u001b[0m\u001b[0m_has_events\u001b[0m\u001b[0;34m:\u001b[0m\u001b[0;34m\u001b[0m\u001b[0;34m\u001b[0m\u001b[0m\n",
      "\u001b[0;32m//anaconda3/lib/python3.7/site-packages/sqlalchemy/engine/base.py\u001b[0m in \u001b[0;36m_execute_context\u001b[0;34m(self, dialect, constructor, statement, parameters, *args)\u001b[0m\n\u001b[1;32m   1248\u001b[0m         \u001b[0;32mexcept\u001b[0m \u001b[0mBaseException\u001b[0m \u001b[0;32mas\u001b[0m \u001b[0me\u001b[0m\u001b[0;34m:\u001b[0m\u001b[0;34m\u001b[0m\u001b[0;34m\u001b[0m\u001b[0m\n\u001b[1;32m   1249\u001b[0m             self._handle_dbapi_exception(\n\u001b[0;32m-> 1250\u001b[0;31m                 \u001b[0me\u001b[0m\u001b[0;34m,\u001b[0m \u001b[0mstatement\u001b[0m\u001b[0;34m,\u001b[0m \u001b[0mparameters\u001b[0m\u001b[0;34m,\u001b[0m \u001b[0mcursor\u001b[0m\u001b[0;34m,\u001b[0m \u001b[0mcontext\u001b[0m\u001b[0;34m\u001b[0m\u001b[0;34m\u001b[0m\u001b[0m\n\u001b[0m\u001b[1;32m   1251\u001b[0m             )\n\u001b[1;32m   1252\u001b[0m \u001b[0;34m\u001b[0m\u001b[0m\n",
      "\u001b[0;32m//anaconda3/lib/python3.7/site-packages/sqlalchemy/engine/base.py\u001b[0m in \u001b[0;36m_handle_dbapi_exception\u001b[0;34m(self, e, statement, parameters, cursor, context)\u001b[0m\n\u001b[1;32m   1474\u001b[0m                 \u001b[0mutil\u001b[0m\u001b[0;34m.\u001b[0m\u001b[0mraise_from_cause\u001b[0m\u001b[0;34m(\u001b[0m\u001b[0mnewraise\u001b[0m\u001b[0;34m,\u001b[0m \u001b[0mexc_info\u001b[0m\u001b[0;34m)\u001b[0m\u001b[0;34m\u001b[0m\u001b[0;34m\u001b[0m\u001b[0m\n\u001b[1;32m   1475\u001b[0m             \u001b[0;32melif\u001b[0m \u001b[0mshould_wrap\u001b[0m\u001b[0;34m:\u001b[0m\u001b[0;34m\u001b[0m\u001b[0;34m\u001b[0m\u001b[0m\n\u001b[0;32m-> 1476\u001b[0;31m                 \u001b[0mutil\u001b[0m\u001b[0;34m.\u001b[0m\u001b[0mraise_from_cause\u001b[0m\u001b[0;34m(\u001b[0m\u001b[0msqlalchemy_exception\u001b[0m\u001b[0;34m,\u001b[0m \u001b[0mexc_info\u001b[0m\u001b[0;34m)\u001b[0m\u001b[0;34m\u001b[0m\u001b[0;34m\u001b[0m\u001b[0m\n\u001b[0m\u001b[1;32m   1477\u001b[0m             \u001b[0;32melse\u001b[0m\u001b[0;34m:\u001b[0m\u001b[0;34m\u001b[0m\u001b[0;34m\u001b[0m\u001b[0m\n\u001b[1;32m   1478\u001b[0m                 \u001b[0mutil\u001b[0m\u001b[0;34m.\u001b[0m\u001b[0mreraise\u001b[0m\u001b[0;34m(\u001b[0m\u001b[0;34m*\u001b[0m\u001b[0mexc_info\u001b[0m\u001b[0;34m)\u001b[0m\u001b[0;34m\u001b[0m\u001b[0;34m\u001b[0m\u001b[0m\n",
      "\u001b[0;32m//anaconda3/lib/python3.7/site-packages/sqlalchemy/util/compat.py\u001b[0m in \u001b[0;36mraise_from_cause\u001b[0;34m(exception, exc_info)\u001b[0m\n\u001b[1;32m    396\u001b[0m     \u001b[0mexc_type\u001b[0m\u001b[0;34m,\u001b[0m \u001b[0mexc_value\u001b[0m\u001b[0;34m,\u001b[0m \u001b[0mexc_tb\u001b[0m \u001b[0;34m=\u001b[0m \u001b[0mexc_info\u001b[0m\u001b[0;34m\u001b[0m\u001b[0;34m\u001b[0m\u001b[0m\n\u001b[1;32m    397\u001b[0m     \u001b[0mcause\u001b[0m \u001b[0;34m=\u001b[0m \u001b[0mexc_value\u001b[0m \u001b[0;32mif\u001b[0m \u001b[0mexc_value\u001b[0m \u001b[0;32mis\u001b[0m \u001b[0;32mnot\u001b[0m \u001b[0mexception\u001b[0m \u001b[0;32melse\u001b[0m \u001b[0;32mNone\u001b[0m\u001b[0;34m\u001b[0m\u001b[0;34m\u001b[0m\u001b[0m\n\u001b[0;32m--> 398\u001b[0;31m     \u001b[0mreraise\u001b[0m\u001b[0;34m(\u001b[0m\u001b[0mtype\u001b[0m\u001b[0;34m(\u001b[0m\u001b[0mexception\u001b[0m\u001b[0;34m)\u001b[0m\u001b[0;34m,\u001b[0m \u001b[0mexception\u001b[0m\u001b[0;34m,\u001b[0m \u001b[0mtb\u001b[0m\u001b[0;34m=\u001b[0m\u001b[0mexc_tb\u001b[0m\u001b[0;34m,\u001b[0m \u001b[0mcause\u001b[0m\u001b[0;34m=\u001b[0m\u001b[0mcause\u001b[0m\u001b[0;34m)\u001b[0m\u001b[0;34m\u001b[0m\u001b[0;34m\u001b[0m\u001b[0m\n\u001b[0m\u001b[1;32m    399\u001b[0m \u001b[0;34m\u001b[0m\u001b[0m\n\u001b[1;32m    400\u001b[0m \u001b[0;34m\u001b[0m\u001b[0m\n",
      "\u001b[0;32m//anaconda3/lib/python3.7/site-packages/sqlalchemy/util/compat.py\u001b[0m in \u001b[0;36mreraise\u001b[0;34m(tp, value, tb, cause)\u001b[0m\n\u001b[1;32m    150\u001b[0m             \u001b[0mvalue\u001b[0m\u001b[0;34m.\u001b[0m\u001b[0m__cause__\u001b[0m \u001b[0;34m=\u001b[0m \u001b[0mcause\u001b[0m\u001b[0;34m\u001b[0m\u001b[0;34m\u001b[0m\u001b[0m\n\u001b[1;32m    151\u001b[0m         \u001b[0;32mif\u001b[0m \u001b[0mvalue\u001b[0m\u001b[0;34m.\u001b[0m\u001b[0m__traceback__\u001b[0m \u001b[0;32mis\u001b[0m \u001b[0;32mnot\u001b[0m \u001b[0mtb\u001b[0m\u001b[0;34m:\u001b[0m\u001b[0;34m\u001b[0m\u001b[0;34m\u001b[0m\u001b[0m\n\u001b[0;32m--> 152\u001b[0;31m             \u001b[0;32mraise\u001b[0m \u001b[0mvalue\u001b[0m\u001b[0;34m.\u001b[0m\u001b[0mwith_traceback\u001b[0m\u001b[0;34m(\u001b[0m\u001b[0mtb\u001b[0m\u001b[0;34m)\u001b[0m\u001b[0;34m\u001b[0m\u001b[0;34m\u001b[0m\u001b[0m\n\u001b[0m\u001b[1;32m    153\u001b[0m         \u001b[0;32mraise\u001b[0m \u001b[0mvalue\u001b[0m\u001b[0;34m\u001b[0m\u001b[0;34m\u001b[0m\u001b[0m\n\u001b[1;32m    154\u001b[0m \u001b[0;34m\u001b[0m\u001b[0m\n",
      "\u001b[0;32m//anaconda3/lib/python3.7/site-packages/sqlalchemy/engine/base.py\u001b[0m in \u001b[0;36m_execute_context\u001b[0;34m(self, dialect, constructor, statement, parameters, *args)\u001b[0m\n\u001b[1;32m   1244\u001b[0m                 \u001b[0;32mif\u001b[0m \u001b[0;32mnot\u001b[0m \u001b[0mevt_handled\u001b[0m\u001b[0;34m:\u001b[0m\u001b[0;34m\u001b[0m\u001b[0;34m\u001b[0m\u001b[0m\n\u001b[1;32m   1245\u001b[0m                     self.dialect.do_execute(\n\u001b[0;32m-> 1246\u001b[0;31m                         \u001b[0mcursor\u001b[0m\u001b[0;34m,\u001b[0m \u001b[0mstatement\u001b[0m\u001b[0;34m,\u001b[0m \u001b[0mparameters\u001b[0m\u001b[0;34m,\u001b[0m \u001b[0mcontext\u001b[0m\u001b[0;34m\u001b[0m\u001b[0;34m\u001b[0m\u001b[0m\n\u001b[0m\u001b[1;32m   1247\u001b[0m                     )\n\u001b[1;32m   1248\u001b[0m         \u001b[0;32mexcept\u001b[0m \u001b[0mBaseException\u001b[0m \u001b[0;32mas\u001b[0m \u001b[0me\u001b[0m\u001b[0;34m:\u001b[0m\u001b[0;34m\u001b[0m\u001b[0;34m\u001b[0m\u001b[0m\n",
      "\u001b[0;32m//anaconda3/lib/python3.7/site-packages/sqlalchemy/engine/default.py\u001b[0m in \u001b[0;36mdo_execute\u001b[0;34m(self, cursor, statement, parameters, context)\u001b[0m\n\u001b[1;32m    586\u001b[0m \u001b[0;34m\u001b[0m\u001b[0m\n\u001b[1;32m    587\u001b[0m     \u001b[0;32mdef\u001b[0m \u001b[0mdo_execute\u001b[0m\u001b[0;34m(\u001b[0m\u001b[0mself\u001b[0m\u001b[0;34m,\u001b[0m \u001b[0mcursor\u001b[0m\u001b[0;34m,\u001b[0m \u001b[0mstatement\u001b[0m\u001b[0;34m,\u001b[0m \u001b[0mparameters\u001b[0m\u001b[0;34m,\u001b[0m \u001b[0mcontext\u001b[0m\u001b[0;34m=\u001b[0m\u001b[0;32mNone\u001b[0m\u001b[0;34m)\u001b[0m\u001b[0;34m:\u001b[0m\u001b[0;34m\u001b[0m\u001b[0;34m\u001b[0m\u001b[0m\n\u001b[0;32m--> 588\u001b[0;31m         \u001b[0mcursor\u001b[0m\u001b[0;34m.\u001b[0m\u001b[0mexecute\u001b[0m\u001b[0;34m(\u001b[0m\u001b[0mstatement\u001b[0m\u001b[0;34m,\u001b[0m \u001b[0mparameters\u001b[0m\u001b[0;34m)\u001b[0m\u001b[0;34m\u001b[0m\u001b[0;34m\u001b[0m\u001b[0m\n\u001b[0m\u001b[1;32m    589\u001b[0m \u001b[0;34m\u001b[0m\u001b[0m\n\u001b[1;32m    590\u001b[0m     \u001b[0;32mdef\u001b[0m \u001b[0mdo_execute_no_params\u001b[0m\u001b[0;34m(\u001b[0m\u001b[0mself\u001b[0m\u001b[0;34m,\u001b[0m \u001b[0mcursor\u001b[0m\u001b[0;34m,\u001b[0m \u001b[0mstatement\u001b[0m\u001b[0;34m,\u001b[0m \u001b[0mcontext\u001b[0m\u001b[0;34m=\u001b[0m\u001b[0;32mNone\u001b[0m\u001b[0;34m)\u001b[0m\u001b[0;34m:\u001b[0m\u001b[0;34m\u001b[0m\u001b[0;34m\u001b[0m\u001b[0m\n",
      "\u001b[0;31mProgrammingError\u001b[0m: (pyodbc.ProgrammingError) ('42Y08', '[42Y08] [Splice Machine][Splice] (370) Foreign key constraints are not allowed on system tables. (370) (SQLExecDirectW)')\n[SQL: \nCREATE TABLE mlmanager.model_metadata (\n\trun_uuid VARCHAR(32) NOT NULL, \n\tstatus VARCHAR(50) NOT NULL, \n\tdeployed_to VARCHAR(250) NOT NULL, \n\ttrigger_id VARCHAR(250) NOT NULL, \n\ttrigger_id_2 VARCHAR(250), \n\tdb_env VARCHAR(100), \n\tdeployed_by VARCHAR(250) NOT NULL, \n\tdeployed_date TIMESTAMP NOT NULL, \n\tPRIMARY KEY (run_uuid), \n\tFOREIGN KEY(deployed_to) REFERENCES sys.systables (\"TABLEID\"), \n\tFOREIGN KEY(trigger_id) REFERENCES sys.systriggers (\"TRIGGERID\"), \n\tFOREIGN KEY(trigger_id_2) REFERENCES sys.systriggers (\"TRIGGERID\"), \n\tFOREIGN KEY(deployed_by) REFERENCES sys.sysusers (\"USERNAME\")\n)\n\n]\n(Background on this error at: http://sqlalche.me/e/f405)"
     ]
    }
   ],
   "source": [
    "tables = [SysTables.__table__, SysUsers.__table__,SysTriggers.__table__, ModelMetadata.__table__]\n",
    "Base.metadata.create_all(engine, tables=tables, \n",
    "                         checkfirst=True)"
   ]
  },
  {
   "cell_type": "code",
   "execution_count": 44,
   "metadata": {
    "collapsed": true
   },
   "outputs": [
    {
     "ename": "NotImplementedError",
     "evalue": "",
     "output_type": "error",
     "traceback": [
      "\u001b[0;31m---------------------------------------------------------------------------\u001b[0m",
      "\u001b[0;31mNotImplementedError\u001b[0m                       Traceback (most recent call last)",
      "\u001b[0;32m<ipython-input-44-a05b8a8af47f>\u001b[0m in \u001b[0;36m<module>\u001b[0;34m\u001b[0m\n\u001b[1;32m      1\u001b[0m \u001b[0mm\u001b[0m \u001b[0;34m=\u001b[0m \u001b[0mMetaData\u001b[0m\u001b[0;34m(\u001b[0m\u001b[0mschema\u001b[0m\u001b[0;34m=\u001b[0m\u001b[0;34m'SPLICE'\u001b[0m\u001b[0;34m)\u001b[0m\u001b[0;34m\u001b[0m\u001b[0;34m\u001b[0m\u001b[0m\n\u001b[1;32m      2\u001b[0m \u001b[0ma_base\u001b[0m \u001b[0;34m=\u001b[0m \u001b[0mautomap_base\u001b[0m\u001b[0;34m(\u001b[0m\u001b[0mmetadata\u001b[0m\u001b[0;34m=\u001b[0m\u001b[0mm\u001b[0m\u001b[0;34m)\u001b[0m\u001b[0;34m\u001b[0m\u001b[0;34m\u001b[0m\u001b[0m\n\u001b[0;32m----> 3\u001b[0;31m \u001b[0ma_base\u001b[0m\u001b[0;34m.\u001b[0m\u001b[0mprepare\u001b[0m\u001b[0;34m(\u001b[0m\u001b[0mengine\u001b[0m\u001b[0;34m,\u001b[0m \u001b[0mreflect\u001b[0m\u001b[0;34m=\u001b[0m\u001b[0;32mTrue\u001b[0m\u001b[0;34m)\u001b[0m \u001b[0;31m# FAILURE\u001b[0m\u001b[0;34m\u001b[0m\u001b[0;34m\u001b[0m\u001b[0m\n\u001b[0m\u001b[1;32m      4\u001b[0m \u001b[0;31m# Triggers = a_base.classes.systriggers\u001b[0m\u001b[0;34m\u001b[0m\u001b[0;34m\u001b[0m\u001b[0;34m\u001b[0m\u001b[0m\n\u001b[1;32m      5\u001b[0m \u001b[0;31m# Users = a_base.classes.sysusers\u001b[0m\u001b[0;34m\u001b[0m\u001b[0;34m\u001b[0m\u001b[0;34m\u001b[0m\u001b[0m\n",
      "\u001b[0;32m//anaconda3/lib/python3.7/site-packages/sqlalchemy/ext/automap.py\u001b[0m in \u001b[0;36mprepare\u001b[0;34m(cls, engine, reflect, schema, classname_for_table, collection_class, name_for_scalar_relationship, name_for_collection_relationship, generate_relationship)\u001b[0m\n\u001b[1;32m    760\u001b[0m                 \u001b[0mschema\u001b[0m\u001b[0;34m=\u001b[0m\u001b[0mschema\u001b[0m\u001b[0;34m,\u001b[0m\u001b[0;34m\u001b[0m\u001b[0;34m\u001b[0m\u001b[0m\n\u001b[1;32m    761\u001b[0m                 \u001b[0mextend_existing\u001b[0m\u001b[0;34m=\u001b[0m\u001b[0;32mTrue\u001b[0m\u001b[0;34m,\u001b[0m\u001b[0;34m\u001b[0m\u001b[0;34m\u001b[0m\u001b[0m\n\u001b[0;32m--> 762\u001b[0;31m                 \u001b[0mautoload_replace\u001b[0m\u001b[0;34m=\u001b[0m\u001b[0;32mFalse\u001b[0m\u001b[0;34m,\u001b[0m\u001b[0;34m\u001b[0m\u001b[0;34m\u001b[0m\u001b[0m\n\u001b[0m\u001b[1;32m    763\u001b[0m             )\n\u001b[1;32m    764\u001b[0m \u001b[0;34m\u001b[0m\u001b[0m\n",
      "\u001b[0;32m//anaconda3/lib/python3.7/site-packages/sqlalchemy/sql/schema.py\u001b[0m in \u001b[0;36mreflect\u001b[0;34m(self, bind, schema, views, only, extend_existing, autoload_replace, resolve_fks, **dialect_kwargs)\u001b[0m\n\u001b[1;32m   4269\u001b[0m             \u001b[0;32mfor\u001b[0m \u001b[0mname\u001b[0m \u001b[0;32min\u001b[0m \u001b[0mload\u001b[0m\u001b[0;34m:\u001b[0m\u001b[0;34m\u001b[0m\u001b[0;34m\u001b[0m\u001b[0m\n\u001b[1;32m   4270\u001b[0m                 \u001b[0;32mtry\u001b[0m\u001b[0;34m:\u001b[0m\u001b[0;34m\u001b[0m\u001b[0;34m\u001b[0m\u001b[0m\n\u001b[0;32m-> 4271\u001b[0;31m                     \u001b[0mTable\u001b[0m\u001b[0;34m(\u001b[0m\u001b[0mname\u001b[0m\u001b[0;34m,\u001b[0m \u001b[0mself\u001b[0m\u001b[0;34m,\u001b[0m \u001b[0;34m**\u001b[0m\u001b[0mreflect_opts\u001b[0m\u001b[0;34m)\u001b[0m\u001b[0;34m\u001b[0m\u001b[0;34m\u001b[0m\u001b[0m\n\u001b[0m\u001b[1;32m   4272\u001b[0m                 \u001b[0;32mexcept\u001b[0m \u001b[0mexc\u001b[0m\u001b[0;34m.\u001b[0m\u001b[0mUnreflectableTableError\u001b[0m \u001b[0;32mas\u001b[0m \u001b[0muerr\u001b[0m\u001b[0;34m:\u001b[0m\u001b[0;34m\u001b[0m\u001b[0;34m\u001b[0m\u001b[0m\n\u001b[1;32m   4273\u001b[0m                     \u001b[0mutil\u001b[0m\u001b[0;34m.\u001b[0m\u001b[0mwarn\u001b[0m\u001b[0;34m(\u001b[0m\u001b[0;34m\"Skipping table %s: %s\"\u001b[0m \u001b[0;34m%\u001b[0m \u001b[0;34m(\u001b[0m\u001b[0mname\u001b[0m\u001b[0;34m,\u001b[0m \u001b[0muerr\u001b[0m\u001b[0;34m)\u001b[0m\u001b[0;34m)\u001b[0m\u001b[0;34m\u001b[0m\u001b[0;34m\u001b[0m\u001b[0m\n",
      "\u001b[0;32m<string>\u001b[0m in \u001b[0;36m__new__\u001b[0;34m(cls, *args, **kw)\u001b[0m\n",
      "\u001b[0;32m//anaconda3/lib/python3.7/site-packages/sqlalchemy/util/deprecations.py\u001b[0m in \u001b[0;36mwarned\u001b[0;34m(fn, *args, **kwargs)\u001b[0m\n\u001b[1;32m    126\u001b[0m                     )\n\u001b[1;32m    127\u001b[0m \u001b[0;34m\u001b[0m\u001b[0m\n\u001b[0;32m--> 128\u001b[0;31m             \u001b[0;32mreturn\u001b[0m \u001b[0mfn\u001b[0m\u001b[0;34m(\u001b[0m\u001b[0;34m*\u001b[0m\u001b[0margs\u001b[0m\u001b[0;34m,\u001b[0m \u001b[0;34m**\u001b[0m\u001b[0mkwargs\u001b[0m\u001b[0;34m)\u001b[0m\u001b[0;34m\u001b[0m\u001b[0;34m\u001b[0m\u001b[0m\n\u001b[0m\u001b[1;32m    129\u001b[0m \u001b[0;34m\u001b[0m\u001b[0m\n\u001b[1;32m    130\u001b[0m         \u001b[0mdoc\u001b[0m \u001b[0;34m=\u001b[0m \u001b[0mfn\u001b[0m\u001b[0;34m.\u001b[0m\u001b[0m__doc__\u001b[0m \u001b[0;32mis\u001b[0m \u001b[0;32mnot\u001b[0m \u001b[0;32mNone\u001b[0m \u001b[0;32mand\u001b[0m \u001b[0mfn\u001b[0m\u001b[0;34m.\u001b[0m\u001b[0m__doc__\u001b[0m \u001b[0;32mor\u001b[0m \u001b[0;34m\"\"\u001b[0m\u001b[0;34m\u001b[0m\u001b[0;34m\u001b[0m\u001b[0m\n",
      "\u001b[0;32m//anaconda3/lib/python3.7/site-packages/sqlalchemy/sql/schema.py\u001b[0m in \u001b[0;36m__new__\u001b[0;34m(cls, *args, **kw)\u001b[0m\n\u001b[1;32m    504\u001b[0m             \u001b[0;32mexcept\u001b[0m\u001b[0;34m:\u001b[0m\u001b[0;34m\u001b[0m\u001b[0;34m\u001b[0m\u001b[0m\n\u001b[1;32m    505\u001b[0m                 \u001b[0;32mwith\u001b[0m \u001b[0mutil\u001b[0m\u001b[0;34m.\u001b[0m\u001b[0msafe_reraise\u001b[0m\u001b[0;34m(\u001b[0m\u001b[0;34m)\u001b[0m\u001b[0;34m:\u001b[0m\u001b[0;34m\u001b[0m\u001b[0;34m\u001b[0m\u001b[0m\n\u001b[0;32m--> 506\u001b[0;31m                     \u001b[0mmetadata\u001b[0m\u001b[0;34m.\u001b[0m\u001b[0m_remove_table\u001b[0m\u001b[0;34m(\u001b[0m\u001b[0mname\u001b[0m\u001b[0;34m,\u001b[0m \u001b[0mschema\u001b[0m\u001b[0;34m)\u001b[0m\u001b[0;34m\u001b[0m\u001b[0;34m\u001b[0m\u001b[0m\n\u001b[0m\u001b[1;32m    507\u001b[0m \u001b[0;34m\u001b[0m\u001b[0m\n\u001b[1;32m    508\u001b[0m     \u001b[0;34m@\u001b[0m\u001b[0mproperty\u001b[0m\u001b[0;34m\u001b[0m\u001b[0;34m\u001b[0m\u001b[0m\n",
      "\u001b[0;32m//anaconda3/lib/python3.7/site-packages/sqlalchemy/util/langhelpers.py\u001b[0m in \u001b[0;36m__exit__\u001b[0;34m(self, type_, value, traceback)\u001b[0m\n\u001b[1;32m     66\u001b[0m             \u001b[0mself\u001b[0m\u001b[0;34m.\u001b[0m\u001b[0m_exc_info\u001b[0m \u001b[0;34m=\u001b[0m \u001b[0;32mNone\u001b[0m  \u001b[0;31m# remove potential circular references\u001b[0m\u001b[0;34m\u001b[0m\u001b[0;34m\u001b[0m\u001b[0m\n\u001b[1;32m     67\u001b[0m             \u001b[0;32mif\u001b[0m \u001b[0;32mnot\u001b[0m \u001b[0mself\u001b[0m\u001b[0;34m.\u001b[0m\u001b[0mwarn_only\u001b[0m\u001b[0;34m:\u001b[0m\u001b[0;34m\u001b[0m\u001b[0;34m\u001b[0m\u001b[0m\n\u001b[0;32m---> 68\u001b[0;31m                 \u001b[0mcompat\u001b[0m\u001b[0;34m.\u001b[0m\u001b[0mreraise\u001b[0m\u001b[0;34m(\u001b[0m\u001b[0mexc_type\u001b[0m\u001b[0;34m,\u001b[0m \u001b[0mexc_value\u001b[0m\u001b[0;34m,\u001b[0m \u001b[0mexc_tb\u001b[0m\u001b[0;34m)\u001b[0m\u001b[0;34m\u001b[0m\u001b[0;34m\u001b[0m\u001b[0m\n\u001b[0m\u001b[1;32m     69\u001b[0m         \u001b[0;32melse\u001b[0m\u001b[0;34m:\u001b[0m\u001b[0;34m\u001b[0m\u001b[0;34m\u001b[0m\u001b[0m\n\u001b[1;32m     70\u001b[0m             \u001b[0;32mif\u001b[0m \u001b[0;32mnot\u001b[0m \u001b[0mcompat\u001b[0m\u001b[0;34m.\u001b[0m\u001b[0mpy3k\u001b[0m \u001b[0;32mand\u001b[0m \u001b[0mself\u001b[0m\u001b[0;34m.\u001b[0m\u001b[0m_exc_info\u001b[0m \u001b[0;32mand\u001b[0m \u001b[0mself\u001b[0m\u001b[0;34m.\u001b[0m\u001b[0m_exc_info\u001b[0m\u001b[0;34m[\u001b[0m\u001b[0;36m1\u001b[0m\u001b[0;34m]\u001b[0m\u001b[0;34m:\u001b[0m\u001b[0;34m\u001b[0m\u001b[0;34m\u001b[0m\u001b[0m\n",
      "\u001b[0;32m//anaconda3/lib/python3.7/site-packages/sqlalchemy/util/compat.py\u001b[0m in \u001b[0;36mreraise\u001b[0;34m(tp, value, tb, cause)\u001b[0m\n\u001b[1;32m    151\u001b[0m         \u001b[0;32mif\u001b[0m \u001b[0mvalue\u001b[0m\u001b[0;34m.\u001b[0m\u001b[0m__traceback__\u001b[0m \u001b[0;32mis\u001b[0m \u001b[0;32mnot\u001b[0m \u001b[0mtb\u001b[0m\u001b[0;34m:\u001b[0m\u001b[0;34m\u001b[0m\u001b[0;34m\u001b[0m\u001b[0m\n\u001b[1;32m    152\u001b[0m             \u001b[0;32mraise\u001b[0m \u001b[0mvalue\u001b[0m\u001b[0;34m.\u001b[0m\u001b[0mwith_traceback\u001b[0m\u001b[0;34m(\u001b[0m\u001b[0mtb\u001b[0m\u001b[0;34m)\u001b[0m\u001b[0;34m\u001b[0m\u001b[0;34m\u001b[0m\u001b[0m\n\u001b[0;32m--> 153\u001b[0;31m         \u001b[0;32mraise\u001b[0m \u001b[0mvalue\u001b[0m\u001b[0;34m\u001b[0m\u001b[0;34m\u001b[0m\u001b[0m\n\u001b[0m\u001b[1;32m    154\u001b[0m \u001b[0;34m\u001b[0m\u001b[0m\n\u001b[1;32m    155\u001b[0m     \u001b[0;32mdef\u001b[0m \u001b[0mu\u001b[0m\u001b[0;34m(\u001b[0m\u001b[0ms\u001b[0m\u001b[0;34m)\u001b[0m\u001b[0;34m:\u001b[0m\u001b[0;34m\u001b[0m\u001b[0;34m\u001b[0m\u001b[0m\n",
      "\u001b[0;32m//anaconda3/lib/python3.7/site-packages/sqlalchemy/sql/schema.py\u001b[0m in \u001b[0;36m__new__\u001b[0;34m(cls, *args, **kw)\u001b[0m\n\u001b[1;32m    499\u001b[0m             \u001b[0mmetadata\u001b[0m\u001b[0;34m.\u001b[0m\u001b[0m_add_table\u001b[0m\u001b[0;34m(\u001b[0m\u001b[0mname\u001b[0m\u001b[0;34m,\u001b[0m \u001b[0mschema\u001b[0m\u001b[0;34m,\u001b[0m \u001b[0mtable\u001b[0m\u001b[0;34m)\u001b[0m\u001b[0;34m\u001b[0m\u001b[0;34m\u001b[0m\u001b[0m\n\u001b[1;32m    500\u001b[0m             \u001b[0;32mtry\u001b[0m\u001b[0;34m:\u001b[0m\u001b[0;34m\u001b[0m\u001b[0;34m\u001b[0m\u001b[0m\n\u001b[0;32m--> 501\u001b[0;31m                 \u001b[0mtable\u001b[0m\u001b[0;34m.\u001b[0m\u001b[0m_init\u001b[0m\u001b[0;34m(\u001b[0m\u001b[0mname\u001b[0m\u001b[0;34m,\u001b[0m \u001b[0mmetadata\u001b[0m\u001b[0;34m,\u001b[0m \u001b[0;34m*\u001b[0m\u001b[0margs\u001b[0m\u001b[0;34m,\u001b[0m \u001b[0;34m**\u001b[0m\u001b[0mkw\u001b[0m\u001b[0;34m)\u001b[0m\u001b[0;34m\u001b[0m\u001b[0;34m\u001b[0m\u001b[0m\n\u001b[0m\u001b[1;32m    502\u001b[0m                 \u001b[0mtable\u001b[0m\u001b[0;34m.\u001b[0m\u001b[0mdispatch\u001b[0m\u001b[0;34m.\u001b[0m\u001b[0mafter_parent_attach\u001b[0m\u001b[0;34m(\u001b[0m\u001b[0mtable\u001b[0m\u001b[0;34m,\u001b[0m \u001b[0mmetadata\u001b[0m\u001b[0;34m)\u001b[0m\u001b[0;34m\u001b[0m\u001b[0;34m\u001b[0m\u001b[0m\n\u001b[1;32m    503\u001b[0m                 \u001b[0;32mreturn\u001b[0m \u001b[0mtable\u001b[0m\u001b[0;34m\u001b[0m\u001b[0;34m\u001b[0m\u001b[0m\n",
      "\u001b[0;32m//anaconda3/lib/python3.7/site-packages/sqlalchemy/sql/schema.py\u001b[0m in \u001b[0;36m_init\u001b[0;34m(self, name, metadata, *args, **kwargs)\u001b[0m\n\u001b[1;32m    593\u001b[0m                 \u001b[0minclude_columns\u001b[0m\u001b[0;34m,\u001b[0m\u001b[0;34m\u001b[0m\u001b[0;34m\u001b[0m\u001b[0m\n\u001b[1;32m    594\u001b[0m                 \u001b[0m_extend_on\u001b[0m\u001b[0;34m=\u001b[0m\u001b[0m_extend_on\u001b[0m\u001b[0;34m,\u001b[0m\u001b[0;34m\u001b[0m\u001b[0;34m\u001b[0m\u001b[0m\n\u001b[0;32m--> 595\u001b[0;31m                 \u001b[0mresolve_fks\u001b[0m\u001b[0;34m=\u001b[0m\u001b[0mresolve_fks\u001b[0m\u001b[0;34m,\u001b[0m\u001b[0;34m\u001b[0m\u001b[0;34m\u001b[0m\u001b[0m\n\u001b[0m\u001b[1;32m    596\u001b[0m             )\n\u001b[1;32m    597\u001b[0m \u001b[0;34m\u001b[0m\u001b[0m\n",
      "\u001b[0;32m//anaconda3/lib/python3.7/site-packages/sqlalchemy/sql/schema.py\u001b[0m in \u001b[0;36m_autoload\u001b[0;34m(self, metadata, autoload_with, include_columns, exclude_columns, resolve_fks, _extend_on)\u001b[0m\n\u001b[1;32m    617\u001b[0m                 \u001b[0mexclude_columns\u001b[0m\u001b[0;34m,\u001b[0m\u001b[0;34m\u001b[0m\u001b[0;34m\u001b[0m\u001b[0m\n\u001b[1;32m    618\u001b[0m                 \u001b[0mresolve_fks\u001b[0m\u001b[0;34m,\u001b[0m\u001b[0;34m\u001b[0m\u001b[0;34m\u001b[0m\u001b[0m\n\u001b[0;32m--> 619\u001b[0;31m                 \u001b[0m_extend_on\u001b[0m\u001b[0;34m=\u001b[0m\u001b[0m_extend_on\u001b[0m\u001b[0;34m,\u001b[0m\u001b[0;34m\u001b[0m\u001b[0;34m\u001b[0m\u001b[0m\n\u001b[0m\u001b[1;32m    620\u001b[0m             )\n\u001b[1;32m    621\u001b[0m         \u001b[0;32melse\u001b[0m\u001b[0;34m:\u001b[0m\u001b[0;34m\u001b[0m\u001b[0;34m\u001b[0m\u001b[0m\n",
      "\u001b[0;32m//anaconda3/lib/python3.7/site-packages/sqlalchemy/engine/base.py\u001b[0m in \u001b[0;36mrun_callable\u001b[0;34m(self, callable_, *args, **kwargs)\u001b[0m\n\u001b[1;32m   1613\u001b[0m \u001b[0;34m\u001b[0m\u001b[0m\n\u001b[1;32m   1614\u001b[0m         \"\"\"\n\u001b[0;32m-> 1615\u001b[0;31m         \u001b[0;32mreturn\u001b[0m \u001b[0mcallable_\u001b[0m\u001b[0;34m(\u001b[0m\u001b[0mself\u001b[0m\u001b[0;34m,\u001b[0m \u001b[0;34m*\u001b[0m\u001b[0margs\u001b[0m\u001b[0;34m,\u001b[0m \u001b[0;34m**\u001b[0m\u001b[0mkwargs\u001b[0m\u001b[0;34m)\u001b[0m\u001b[0;34m\u001b[0m\u001b[0;34m\u001b[0m\u001b[0m\n\u001b[0m\u001b[1;32m   1616\u001b[0m \u001b[0;34m\u001b[0m\u001b[0m\n\u001b[1;32m   1617\u001b[0m     \u001b[0;32mdef\u001b[0m \u001b[0m_run_visitor\u001b[0m\u001b[0;34m(\u001b[0m\u001b[0mself\u001b[0m\u001b[0;34m,\u001b[0m \u001b[0mvisitorcallable\u001b[0m\u001b[0;34m,\u001b[0m \u001b[0melement\u001b[0m\u001b[0;34m,\u001b[0m \u001b[0;34m**\u001b[0m\u001b[0mkwargs\u001b[0m\u001b[0;34m)\u001b[0m\u001b[0;34m:\u001b[0m\u001b[0;34m\u001b[0m\u001b[0;34m\u001b[0m\u001b[0m\n",
      "\u001b[0;32m//anaconda3/lib/python3.7/site-packages/sqlalchemy/engine/default.py\u001b[0m in \u001b[0;36mreflecttable\u001b[0;34m(self, connection, table, include_columns, exclude_columns, resolve_fks, **opts)\u001b[0m\n\u001b[1;32m    465\u001b[0m         \u001b[0minsp\u001b[0m \u001b[0;34m=\u001b[0m \u001b[0mreflection\u001b[0m\u001b[0;34m.\u001b[0m\u001b[0mInspector\u001b[0m\u001b[0;34m.\u001b[0m\u001b[0mfrom_engine\u001b[0m\u001b[0;34m(\u001b[0m\u001b[0mconnection\u001b[0m\u001b[0;34m)\u001b[0m\u001b[0;34m\u001b[0m\u001b[0;34m\u001b[0m\u001b[0m\n\u001b[1;32m    466\u001b[0m         return insp.reflecttable(\n\u001b[0;32m--> 467\u001b[0;31m             \u001b[0mtable\u001b[0m\u001b[0;34m,\u001b[0m \u001b[0minclude_columns\u001b[0m\u001b[0;34m,\u001b[0m \u001b[0mexclude_columns\u001b[0m\u001b[0;34m,\u001b[0m \u001b[0mresolve_fks\u001b[0m\u001b[0;34m,\u001b[0m \u001b[0;34m**\u001b[0m\u001b[0mopts\u001b[0m\u001b[0;34m\u001b[0m\u001b[0;34m\u001b[0m\u001b[0m\n\u001b[0m\u001b[1;32m    468\u001b[0m         )\n\u001b[1;32m    469\u001b[0m \u001b[0;34m\u001b[0m\u001b[0m\n",
      "\u001b[0;32m//anaconda3/lib/python3.7/site-packages/sqlalchemy/engine/reflection.py\u001b[0m in \u001b[0;36mreflecttable\u001b[0;34m(self, table, include_columns, exclude_columns, resolve_fks, _extend_on)\u001b[0m\n\u001b[1;32m    677\u001b[0m             \u001b[0minclude_columns\u001b[0m\u001b[0;34m,\u001b[0m\u001b[0;34m\u001b[0m\u001b[0;34m\u001b[0m\u001b[0m\n\u001b[1;32m    678\u001b[0m             \u001b[0mexclude_columns\u001b[0m\u001b[0;34m,\u001b[0m\u001b[0;34m\u001b[0m\u001b[0;34m\u001b[0m\u001b[0m\n\u001b[0;32m--> 679\u001b[0;31m             \u001b[0mreflection_options\u001b[0m\u001b[0;34m,\u001b[0m\u001b[0;34m\u001b[0m\u001b[0;34m\u001b[0m\u001b[0m\n\u001b[0m\u001b[1;32m    680\u001b[0m         )\n\u001b[1;32m    681\u001b[0m \u001b[0;34m\u001b[0m\u001b[0m\n",
      "\u001b[0;32m//anaconda3/lib/python3.7/site-packages/sqlalchemy/engine/reflection.py\u001b[0m in \u001b[0;36m_reflect_indexes\u001b[0;34m(self, table_name, schema, table, cols_by_orig_name, include_columns, exclude_columns, reflection_options)\u001b[0m\n\u001b[1;32m    882\u001b[0m     ):\n\u001b[1;32m    883\u001b[0m         \u001b[0;31m# Indexes\u001b[0m\u001b[0;34m\u001b[0m\u001b[0;34m\u001b[0m\u001b[0;34m\u001b[0m\u001b[0m\n\u001b[0;32m--> 884\u001b[0;31m         \u001b[0mindexes\u001b[0m \u001b[0;34m=\u001b[0m \u001b[0mself\u001b[0m\u001b[0;34m.\u001b[0m\u001b[0mget_indexes\u001b[0m\u001b[0;34m(\u001b[0m\u001b[0mtable_name\u001b[0m\u001b[0;34m,\u001b[0m \u001b[0mschema\u001b[0m\u001b[0;34m)\u001b[0m\u001b[0;34m\u001b[0m\u001b[0;34m\u001b[0m\u001b[0m\n\u001b[0m\u001b[1;32m    885\u001b[0m         \u001b[0;32mfor\u001b[0m \u001b[0mindex_d\u001b[0m \u001b[0;32min\u001b[0m \u001b[0mindexes\u001b[0m\u001b[0;34m:\u001b[0m\u001b[0;34m\u001b[0m\u001b[0;34m\u001b[0m\u001b[0m\n\u001b[1;32m    886\u001b[0m             \u001b[0mname\u001b[0m \u001b[0;34m=\u001b[0m \u001b[0mindex_d\u001b[0m\u001b[0;34m[\u001b[0m\u001b[0;34m\"name\"\u001b[0m\u001b[0;34m]\u001b[0m\u001b[0;34m\u001b[0m\u001b[0;34m\u001b[0m\u001b[0m\n",
      "\u001b[0;32m//anaconda3/lib/python3.7/site-packages/sqlalchemy/engine/reflection.py\u001b[0m in \u001b[0;36mget_indexes\u001b[0;34m(self, table_name, schema, **kw)\u001b[0m\n\u001b[1;32m    489\u001b[0m \u001b[0;34m\u001b[0m\u001b[0m\n\u001b[1;32m    490\u001b[0m         return self.dialect.get_indexes(\n\u001b[0;32m--> 491\u001b[0;31m             \u001b[0mself\u001b[0m\u001b[0;34m.\u001b[0m\u001b[0mbind\u001b[0m\u001b[0;34m,\u001b[0m \u001b[0mtable_name\u001b[0m\u001b[0;34m,\u001b[0m \u001b[0mschema\u001b[0m\u001b[0;34m,\u001b[0m \u001b[0minfo_cache\u001b[0m\u001b[0;34m=\u001b[0m\u001b[0mself\u001b[0m\u001b[0;34m.\u001b[0m\u001b[0minfo_cache\u001b[0m\u001b[0;34m,\u001b[0m \u001b[0;34m**\u001b[0m\u001b[0mkw\u001b[0m\u001b[0;34m\u001b[0m\u001b[0;34m\u001b[0m\u001b[0m\n\u001b[0m\u001b[1;32m    492\u001b[0m         )\n\u001b[1;32m    493\u001b[0m \u001b[0;34m\u001b[0m\u001b[0m\n",
      "\u001b[0;32m//anaconda3/lib/python3.7/site-packages/sqlalchemy/engine/interfaces.py\u001b[0m in \u001b[0;36mget_indexes\u001b[0;34m(self, connection, table_name, schema, **kw)\u001b[0m\n\u001b[1;32m    365\u001b[0m         \"\"\"\n\u001b[1;32m    366\u001b[0m \u001b[0;34m\u001b[0m\u001b[0m\n\u001b[0;32m--> 367\u001b[0;31m         \u001b[0;32mraise\u001b[0m \u001b[0mNotImplementedError\u001b[0m\u001b[0;34m(\u001b[0m\u001b[0;34m)\u001b[0m\u001b[0;34m\u001b[0m\u001b[0;34m\u001b[0m\u001b[0m\n\u001b[0m\u001b[1;32m    368\u001b[0m \u001b[0;34m\u001b[0m\u001b[0m\n\u001b[1;32m    369\u001b[0m     def get_unique_constraints(\n",
      "\u001b[0;31mNotImplementedError\u001b[0m: "
     ]
    }
   ],
   "source": [
    "\n",
    "m = MetaData(schema='SPLICE')\n",
    "a_base = automap_base(metadata=m)\n",
    "a_base.prepare(engine, reflect=True) # FAILURE\n",
    "# Triggers = a_base.classes.systriggers \n",
    "# Users = a_base.classes.sysusers\n",
    "# Tables = a_base.classes.systables\n",
    "a_base.classes"
   ]
  },
  {
   "cell_type": "code",
   "execution_count": 11,
   "metadata": {
    "collapsed": true
   },
   "outputs": [
    {
     "data": {
      "text/plain": [
       "[<__main__.SysTables at 0x7fc3205dec50>,\n",
       " <__main__.SysTables at 0x7fc3205decc0>,\n",
       " <__main__.SysTables at 0x7fc3205ded30>,\n",
       " <__main__.SysTables at 0x7fc3205deda0>,\n",
       " <__main__.SysTables at 0x7fc3205dee10>,\n",
       " <__main__.SysTables at 0x7fc3205dee80>,\n",
       " <__main__.SysTables at 0x7fc3205deef0>,\n",
       " <__main__.SysTables at 0x7fc3205def60>,\n",
       " <__main__.SysTables at 0x7fc3205defd0>,\n",
       " <__main__.SysTables at 0x7fc3205e3080>,\n",
       " <__main__.SysTables at 0x7fc3205e30f0>,\n",
       " <__main__.SysTables at 0x7fc3205e3160>,\n",
       " <__main__.SysTables at 0x7fc3205e31d0>,\n",
       " <__main__.SysTables at 0x7fc3205e3240>,\n",
       " <__main__.SysTables at 0x7fc3205e32e8>,\n",
       " <__main__.SysTables at 0x7fc3205e3390>,\n",
       " <__main__.SysTables at 0x7fc3205e3438>,\n",
       " <__main__.SysTables at 0x7fc3205e34e0>,\n",
       " <__main__.SysTables at 0x7fc3205e3588>,\n",
       " <__main__.SysTables at 0x7fc3205e3630>,\n",
       " <__main__.SysTables at 0x7fc371f3b3c8>,\n",
       " <__main__.SysTables at 0x7fc371f3bc50>,\n",
       " <__main__.SysTables at 0x7fc371819b38>,\n",
       " <__main__.SysTables at 0x7fc3205e36d8>,\n",
       " <__main__.SysTables at 0x7fc3205e37b8>,\n",
       " <__main__.SysTables at 0x7fc3205e3860>,\n",
       " <__main__.SysTables at 0x7fc3205e3908>,\n",
       " <__main__.SysTables at 0x7fc3205e39b0>,\n",
       " <__main__.SysTables at 0x7fc3205e3a58>,\n",
       " <__main__.SysTables at 0x7fc3205e3b00>,\n",
       " <__main__.SysTables at 0x7fc3205e3ba8>,\n",
       " <__main__.SysTables at 0x7fc3205e3c50>,\n",
       " <__main__.SysTables at 0x7fc3205e3cf8>,\n",
       " <__main__.SysTables at 0x7fc3205e3da0>,\n",
       " <__main__.SysTables at 0x7fc3205e3e48>,\n",
       " <__main__.SysTables at 0x7fc3205e3ef0>,\n",
       " <__main__.SysTables at 0x7fc3205e3f98>,\n",
       " <__main__.SysTables at 0x7fc3205cd080>,\n",
       " <__main__.SysTables at 0x7fc3205cd128>,\n",
       " <__main__.SysTables at 0x7fc3205cd1d0>,\n",
       " <__main__.SysTables at 0x7fc3205cd278>,\n",
       " <__main__.SysTables at 0x7fc3205cd320>,\n",
       " <__main__.SysTables at 0x7fc3205cd3c8>,\n",
       " <__main__.SysTables at 0x7fc3205cd470>,\n",
       " <__main__.SysTables at 0x7fc3205cd518>,\n",
       " <__main__.SysTables at 0x7fc3205cd5c0>,\n",
       " <__main__.SysTables at 0x7fc3205cd668>,\n",
       " <__main__.SysTables at 0x7fc3205cd710>,\n",
       " <__main__.SysTables at 0x7fc3205cd7b8>,\n",
       " <__main__.SysTables at 0x7fc3205cd860>]"
      ]
     },
     "execution_count": 11,
     "metadata": {},
     "output_type": "execute_result"
    }
   ],
   "source": [
    "SessionMaker: sessionmaker = sessionmaker(bind=engine)\n",
    "\n",
    "\n",
    "# create a Session\n",
    "session = SessionMaker()\n",
    "session.query(SysTables).all()"
   ]
  },
  {
   "cell_type": "code",
   "execution_count": null,
   "metadata": {},
   "outputs": [],
   "source": [
    "SessionMaker."
   ]
  }
 ],
 "metadata": {
  "kernelspec": {
   "display_name": "Python 3",
   "language": "python",
   "name": "python3"
  },
  "language_info": {
   "codemirror_mode": {
    "name": "ipython",
    "version": 3
   },
   "file_extension": ".py",
   "mimetype": "text/x-python",
   "name": "python",
   "nbconvert_exporter": "python",
   "pygments_lexer": "ipython3",
   "version": "3.7.6"
  }
 },
 "nbformat": 4,
 "nbformat_minor": 2
}
