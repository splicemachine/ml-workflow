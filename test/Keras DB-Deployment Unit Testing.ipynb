{
 "cells": [
  {
   "cell_type": "code",
   "execution_count": null,
   "metadata": {},
   "outputs": [],
   "source": [
    "from pyspark.sql import SparkSession\n",
    "spark = SparkSession.builder.getOrCreate()"
   ]
  },
  {
   "cell_type": "code",
   "execution_count": null,
   "metadata": {},
   "outputs": [],
   "source": [
    "from splicemachine.spark import PySpliceContext\n",
    "splice = PySpliceContext(spark)"
   ]
  },
  {
   "cell_type": "code",
   "execution_count": null,
   "metadata": {},
   "outputs": [],
   "source": [
    "from splicemachine.mlflow_support import *\n",
    "from splicemachine.mlflow_support.utilities import get_user\n",
    "mlflow.register_splice_context(splice)\n",
    "schema = get_user()"
   ]
  },
  {
   "cell_type": "markdown",
   "metadata": {},
   "source": [
    "## One output node - Regression"
   ]
  },
  {
   "cell_type": "code",
   "execution_count": null,
   "metadata": {
    "scrolled": true
   },
   "outputs": [],
   "source": [
    "# first neural network with keras tutorial\n",
    "from numpy import loadtxt\n",
    "from tensorflow.keras.models import Sequential\n",
    "from tensorflow.keras.layers import Dense\n",
    "import pandas as pd\n",
    "import numpy as np\n",
    "from random import random\n",
    "\n",
    "with mlflow.start_run() as run:\n",
    "    # load the dataset\n",
    "    dataset = loadtxt('data.csv', delimiter=',')\n",
    "    # split into input (X) and output (y) variables\n",
    "    X = dataset[:,0:8]\n",
    "    y = dataset[:,8]\n",
    "    # Make it a regression problem\n",
    "    y = np.array([random() for _ in y])\n",
    "    # define the keras model\n",
    "    model = Sequential()\n",
    "    model.add(Dense(12, input_dim=8, activation='relu'))\n",
    "    model.add(Dense(8, activation='relu'))\n",
    "    model.add(Dense(1, activation='sigmoid'))\n",
    "    # compile the keras model\n",
    "    model.compile(loss='mean_squared_error', optimizer='adam', metrics=['accuracy'])\n",
    "    # fit the keras model on the dataset\n",
    "    model.fit(X, y, epochs=50, batch_size=10)\n",
    "\n",
    "#     model.save('simple_model_multiclass.h5')\n",
    "    mlflow.log_model(model, 'keras_model', model_lib='keras')\n",
    "    print(mlflow.current_run_id())\n",
    "    splice.dropTableIfExists(f'{schema}.keras_regression')\n",
    "    \n",
    "    run_id = mlflow.current_run_id()\n",
    "    \n",
    "    df = pd.DataFrame(X,columns=[f'C{i}' for i in range(len(X[0]))])\n",
    "    jid = mlflow.deploy_db(schema, 'keras_regression', mlflow.current_run_id(), primary_key=[('MOMENT', 'INT')], df=df, create_model_table=True)\n",
    "    mlflow.watch_job(jid)"
   ]
  },
  {
   "cell_type": "code",
   "execution_count": null,
   "metadata": {},
   "outputs": [],
   "source": [
    "mlflow.load_model(run.info.run_uuid)"
   ]
  },
  {
   "cell_type": "code",
   "execution_count": null,
   "metadata": {},
   "outputs": [],
   "source": [
    "%%time\n",
    "%%sql\n",
    "\n",
    "insert into keras_regression (c0,c1,c2,c3,c4,c5,c6,c7,moment) values(2.4,2.2,1.5,2.6,3.6,7.5,77.8,2.4,34512);\n",
    "insert into keras_regression (c0,c1,c2,c3,c4,c5,c6,c7,moment) values(66.2,3.78,33.5,-23.4,22.3,0.1,19.3,-339.2,345);\n",
    "\n",
    "select * from keras_regression;\n",
    "select * into ${data_and_preds} from keras_regression;"
   ]
  },
  {
   "cell_type": "code",
   "execution_count": null,
   "metadata": {},
   "outputs": [],
   "source": [
    "from beakerx.object import beakerx\n",
    "\n",
    "data = beakerx.get('data_and_preds')\n",
    "\n",
    "features = data[['C0','C1','C2','C3','C4','C5','C6','C7']]\n",
    "db_preds = data[['PREDICTION']]\n",
    "\n",
    "\n",
    "raw_preds = model.predict(features)\n",
    "\n",
    "\n",
    "for db_pred, raw_pred in zip(db_preds.iterrows(), raw_preds):\n",
    "    # Check reconstruction values\n",
    "    for db, raw in zip(db_pred[1], raw_pred):\n",
    "        l = min(len(str(raw)),len(str(db))) # Digit truncation because keras python only returns 7 decimal places\n",
    "        assert round(float(db),l) == round(float(raw),l), f'Something is wrong. Model Table gives {float(db)} but raw model gives {float(raw)}'\n",
    "\n",
    "    \n",
    "print('test passed!')"
   ]
  },
  {
   "cell_type": "markdown",
   "metadata": {},
   "source": [
    "## Use pred_threshold to make it a binary classification"
   ]
  },
  {
   "cell_type": "code",
   "execution_count": null,
   "metadata": {
    "scrolled": true
   },
   "outputs": [],
   "source": [
    "splice.dropTableIfExists(f'{schema}.keras_binary')\n",
    "jid = mlflow.deploy_db(schema, 'keras_binary', run_id, primary_key=[('MOMENT', 'INT')], df=df, create_model_table=True, classes=['Out1'], library_specific={'pred_threshold':0.5})\n",
    "mlflow.watch_job(jid)"
   ]
  },
  {
   "cell_type": "code",
   "execution_count": null,
   "metadata": {},
   "outputs": [],
   "source": [
    "%%time\n",
    "%%sql\n",
    "truncate table keras_binary;\n",
    "insert into keras_binary (c0,c1,c2,c3,c4,c5,c6,c7,moment) values(2.4,2.2,1.5,2.6,3.6,7.5,77.8,2.4,         34512);\n",
    "insert into keras_binary (c0,c1,c2,c3,c4,c5,c6,c7,moment) values(66.2,3.78,33.5,-23.4,22.3,0.1,19.3,-339.2,345);\n",
    "\n",
    "select * from keras_binary;\n",
    "select * into ${data_and_preds} from keras_binary;"
   ]
  },
  {
   "cell_type": "code",
   "execution_count": null,
   "metadata": {},
   "outputs": [],
   "source": [
    "from beakerx.object import beakerx\n",
    "\n",
    "data = beakerx.get('data_and_preds')\n",
    "\n",
    "features = data[['C0','C1','C2','C3','C4','C5','C6','C7']]\n",
    "db_preds = data[['Out1']]\n",
    "db_classpred = data[['prediction']]\n",
    "\n",
    "#set in the deploy call\n",
    "threshold = 0.5\n",
    "\n",
    "raw_preds = model.predict(features)\n",
    "\n",
    "\n",
    "for db_c, db_pred, raw_pred in zip(db_classpred.iterrows(),db_preds.iterrows(), raw_preds):\n",
    "    # Check reconstruction values\n",
    "    for c,db, raw in zip(db_c[1],db_pred[1], raw_pred):\n",
    "        l = min(len(str(raw)),len(str(db))) # Digit truncation\n",
    "        assert round(float(db),l) == round(float(raw),l), f'Something is wrong. Model Table gives {float(db)} but raw model gives {float(raw)}'\n",
    "        \n",
    "        raw_classpred = 1.0 if raw > threshold else 0.0\n",
    "        assert raw_classpred==c, f'Something is wrong. Model Table gives {float(c)} but raw model gives {float(raw_classpred)}'\n",
    "\n",
    "    \n",
    "print('test passed!')"
   ]
  },
  {
   "cell_type": "markdown",
   "metadata": {},
   "source": [
    "## Multiclass prediction"
   ]
  },
  {
   "cell_type": "code",
   "execution_count": null,
   "metadata": {
    "scrolled": true
   },
   "outputs": [],
   "source": [
    "# first neural network with keras tutorial\n",
    "from numpy import loadtxt\n",
    "from tensorflow.keras.models import Sequential\n",
    "from tensorflow.keras.layers import Dense\n",
    "import pandas as pd\n",
    "import numpy as np\n",
    "from random import random\n",
    "\n",
    "with mlflow.start_run() as run:\n",
    "    # load the dataset\n",
    "    dataset = loadtxt('data.csv', delimiter=',')\n",
    "    # split into input (X) and output (y) variables\n",
    "    X = dataset[:,0:8]\n",
    "    y = dataset[:,8]\n",
    "    # Make it a regression problem\n",
    "    y = np.array([random() for _ in y])\n",
    "    # define the keras model\n",
    "    model = Sequential()\n",
    "    model.add(Dense(12, input_dim=8, activation='relu'))\n",
    "    model.add(Dense(8, activation='relu'))\n",
    "    model.add(Dense(3, activation='sigmoid'))\n",
    "    # compile the keras model\n",
    "    model.compile(loss='mean_absolute_error', optimizer='adam', metrics=['accuracy'])\n",
    "    # fit the keras model on the dataset\n",
    "    model.fit(X, y, epochs=50, batch_size=10)\n",
    "\n",
    "#     model.save('simple_model_multiclass.h5')\n",
    "    mlflow.keras.log_model(model, 'keras_model')\n",
    "    print(mlflow.current_run_id())\n",
    "    splice.dropTableIfExists(f'{schema}.keras_multiclass')\n",
    "    \n",
    "    run_id = mlflow.current_run_id()\n",
    "    \n",
    "    df = pd.DataFrame(X,columns=[f'C{i}' for i in range(len(X[0]))])\n",
    "    jid = mlflow.deploy_db(schema, 'keras_multiclass', mlflow.current_run_id(), primary_key=[('MOMENT', 'INT')], classes=['class1','class2','class3'],df=df, create_model_table=True)\n",
    "    mlflow.watch_job(jid)"
   ]
  },
  {
   "cell_type": "code",
   "execution_count": null,
   "metadata": {},
   "outputs": [],
   "source": [
    "mlflow.load_model(run.info.run_uuid)"
   ]
  },
  {
   "cell_type": "code",
   "execution_count": null,
   "metadata": {},
   "outputs": [],
   "source": [
    "%%time\n",
    "%%sql\n",
    "truncate table keras_multiclass;\n",
    "insert into keras_multiclass (c0,c1,c2,c3,c4,c5,c6,c7,moment) values(2.4,2.2,1.5,2.6,3.6,7.5,77.8,2.4,         34512);\n",
    "insert into keras_multiclass (c0,c1,c2,c3,c4,c5,c6,c7,moment) values(66.2,3.78,33.5,-23.4,22.3,0.1,19.3,-339.2,345);\n",
    "\n",
    "select * from keras_multiclass;\n",
    "select * into ${data_and_preds} from keras_multiclass;"
   ]
  },
  {
   "cell_type": "code",
   "execution_count": null,
   "metadata": {
    "scrolled": true
   },
   "outputs": [],
   "source": [
    "from beakerx.object import beakerx\n",
    "\n",
    "data = beakerx.get('data_and_preds')\n",
    "\n",
    "features = data[['C0','C1','C2','C3','C4','C5','C6','C7']]\n",
    "db_preds = data[['prediction', 'class1', 'class2', 'class3']]\n",
    "\n",
    "#set in the deploy call\n",
    "threshold = 0.5\n",
    "\n",
    "raw_preds = list(model.predict(features))\n",
    "\n",
    "for db_pred, raw_pred in zip(db_preds.iterrows(), raw_preds):\n",
    "\n",
    "    # Add prediction\n",
    "    raw_pred = [list(raw_pred).index(max(raw_pred))] + list(raw_pred)\n",
    "    for db, raw in zip(db_pred[1], raw_pred):\n",
    "        l = min(len(str(raw)),len(str(db)),14) # Digit truncation\n",
    "        try:\n",
    "            assert round(float(db),l) == round(float(raw),l), f'Something is wrong. Model Table gives {round(float(db),l)} but raw model gives {round(float(raw),l)}'\n",
    "        except:\n",
    "            print('Likely rounding issue. Testing max precision')\n",
    "            for l in range(l,5,-1):\n",
    "                if round(float(db),l) == round(float(raw),l):\n",
    "                    print(f'Matched at precision {l}')\n",
    "                    break\n",
    "                if l == 6:\n",
    "                    raise Exception(f'Fields did not match. Model Table gives {round(float(db),l)} but raw model gives {round(float(raw),l)}')\n",
    "    \n",
    "print('test passed!')"
   ]
  },
  {
   "cell_type": "code",
   "execution_count": null,
   "metadata": {},
   "outputs": [],
   "source": [
    "spark.stop()"
   ]
  },
  {
   "cell_type": "code",
   "execution_count": null,
   "metadata": {},
   "outputs": [],
   "source": []
  }
 ],
 "metadata": {
  "kernelspec": {
   "display_name": "Python 3",
   "language": "python",
   "name": "python3"
  },
  "language_info": {
   "codemirror_mode": {
    "name": "ipython",
    "version": 3
   },
   "file_extension": ".py",
   "mimetype": "text/x-python",
   "name": "python",
   "nbconvert_exporter": "python",
   "pygments_lexer": "ipython3",
   "version": "3.7.7"
  },
  "toc": {
   "base_numbering": 1,
   "nav_menu": {},
   "number_sections": false,
   "sideBar": false,
   "skip_h1_title": false,
   "title_cell": "Table of Contents",
   "title_sidebar": "Contents",
   "toc_cell": false,
   "toc_position": {},
   "toc_section_display": false,
   "toc_window_display": false
  }
 },
 "nbformat": 4,
 "nbformat_minor": 4
}
