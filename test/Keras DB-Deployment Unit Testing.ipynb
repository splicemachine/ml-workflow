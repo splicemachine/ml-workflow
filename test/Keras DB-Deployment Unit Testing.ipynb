{
 "cells": [
  {
   "cell_type": "code",
   "execution_count": 1,
   "metadata": {},
   "outputs": [],
   "source": [
    "from pyspark.sql import SparkSession\n",
    "spark = SparkSession.builder.getOrCreate()"
   ]
  },
  {
   "cell_type": "code",
   "execution_count": 2,
   "metadata": {},
   "outputs": [],
   "source": [
    "from splicemachine.spark import PySpliceContext\n",
    "splice = PySpliceContext(spark)"
   ]
  },
  {
   "cell_type": "code",
   "execution_count": 7,
   "metadata": {},
   "outputs": [
    {
     "name": "stderr",
     "output_type": "stream",
     "text": [
      "/opt/conda/lib/python3.7/site-packages/ipykernel/ipkernel.py:287: DeprecationWarning: `should_run_async` will not call `transform_cell` automatically in the future. Please pass the result to `transformed_cell` argument and any exception that happen during thetransform in `preprocessing_exc_tuple` in IPython 7.17 and above.\n",
      "  and should_run_async(code)\n"
     ]
    }
   ],
   "source": [
    "from splicemachine.mlflow_support import *\n",
    "from splicemachine.mlflow_support.utilities import get_user\n",
    "mlflow.register_splice_context(splice)\n",
    "schema = get_user()"
   ]
  },
  {
   "cell_type": "markdown",
   "metadata": {},
   "source": [
    "## One output node - Regression"
   ]
  },
  {
   "cell_type": "code",
   "execution_count": 8,
   "metadata": {
    "scrolled": true
   },
   "outputs": [
    {
     "name": "stdout",
     "output_type": "stream",
     "text": [
      "Epoch 1/50\n",
      "77/77 [==============================] - ETA: 0s - loss: 0.3225 - accuracy: 0.0000e+ - ETA: 0s - loss: 0.3253 - accuracy: 0.0000e+ - 0s 1ms/step - loss: 0.3048 - accuracy: 0.0000e+00\n",
      "Epoch 2/50\n",
      "77/77 [==============================] - ETA: 0s - loss: 0.1678 - accuracy: 0.0000e+ - ETA: 0s - loss: 0.1273 - accuracy: 0.0000e+ - 0s 1ms/step - loss: 0.1149 - accuracy: 0.0000e+00\n",
      "Epoch 3/50\n",
      "77/77 [==============================] - ETA: 0s - loss: 0.0923 - accuracy: 0.0000e+ - ETA: 0s - loss: 0.0942 - accuracy: 0.0000e+ - 0s 1ms/step - loss: 0.0910 - accuracy: 0.0000e+00\n",
      "Epoch 4/50\n",
      "77/77 [==============================] - ETA: 0s - loss: 0.0614 - accuracy: 0.0000e+ - ETA: 0s - loss: 0.0857 - accuracy: 0.0000e+ - 0s 1ms/step - loss: 0.0874 - accuracy: 0.0000e+00\n",
      "Epoch 5/50\n",
      "77/77 [==============================] - ETA: 0s - loss: 0.0731 - accuracy: 0.0000e+ - ETA: 0s - loss: 0.0848 - accuracy: 0.0000e+ - 0s 1ms/step - loss: 0.0863 - accuracy: 0.0000e+00\n",
      "Epoch 6/50\n",
      "77/77 [==============================] - ETA: 0s - loss: 0.1165 - accuracy: 0.0000e+ - ETA: 0s - loss: 0.0878 - accuracy: 0.0000e+ - 0s 1ms/step - loss: 0.0864 - accuracy: 0.0000e+00\n",
      "Epoch 7/50\n",
      "77/77 [==============================] - ETA: 0s - loss: 0.1013 - accuracy: 0.0000e+ - ETA: 0s - loss: 0.0853 - accuracy: 0.0000e+ - 0s 1ms/step - loss: 0.0861 - accuracy: 0.0000e+00\n",
      "Epoch 8/50\n",
      "77/77 [==============================] - ETA: 0s - loss: 0.0954 - accuracy: 0.0000e+ - ETA: 0s - loss: 0.0830 - accuracy: 0.0000e+ - 0s 1ms/step - loss: 0.0861 - accuracy: 0.0000e+00\n",
      "Epoch 9/50\n",
      "77/77 [==============================] - ETA: 0s - loss: 0.0992 - accuracy: 0.0000e+ - ETA: 0s - loss: 0.0820 - accuracy: 0.0000e+ - 0s 1ms/step - loss: 0.0861 - accuracy: 0.0000e+00\n",
      "Epoch 10/50\n",
      "77/77 [==============================] - ETA: 0s - loss: 0.0987 - accuracy: 0.0000e+ - ETA: 0s - loss: 0.0850 - accuracy: 0.0000e+ - 0s 1ms/step - loss: 0.0861 - accuracy: 0.0000e+00\n",
      "Epoch 11/50\n",
      "77/77 [==============================] - ETA: 0s - loss: 0.0329 - accuracy: 0.0000e+ - ETA: 0s - loss: 0.0849 - accuracy: 0.0000e+ - 0s 1ms/step - loss: 0.0860 - accuracy: 0.0000e+00\n",
      "Epoch 12/50\n",
      "77/77 [==============================] - ETA: 0s - loss: 0.0739 - accuracy: 0.0000e+ - ETA: 0s - loss: 0.0859 - accuracy: 0.0000e+ - 0s 1ms/step - loss: 0.0862 - accuracy: 0.0000e+00\n",
      "Epoch 13/50\n",
      "77/77 [==============================] - ETA: 0s - loss: 0.1101 - accuracy: 0.0000e+ - ETA: 0s - loss: 0.0878 - accuracy: 0.0000e+ - 0s 1ms/step - loss: 0.0859 - accuracy: 0.0000e+00\n",
      "Epoch 14/50\n",
      "77/77 [==============================] - ETA: 0s - loss: 0.0905 - accuracy: 0.0000e+ - ETA: 0s - loss: 0.0891 - accuracy: 0.0000e+ - 0s 1ms/step - loss: 0.0858 - accuracy: 0.0000e+00\n",
      "Epoch 15/50\n",
      "77/77 [==============================] - ETA: 0s - loss: 0.0783 - accuracy: 0.0000e+ - ETA: 0s - loss: 0.0885 - accuracy: 0.0000e+ - 0s 1ms/step - loss: 0.0859 - accuracy: 0.0000e+00\n",
      "Epoch 16/50\n",
      "77/77 [==============================] - ETA: 0s - loss: 0.0797 - accuracy: 0.0000e+ - ETA: 0s - loss: 0.0881 - accuracy: 0.0000e+ - ETA: 0s - loss: 0.0857 - accuracy: 0.0000e+ - 0s 1ms/step - loss: 0.0860 - accuracy: 0.0000e+00\n",
      "Epoch 17/50\n",
      "77/77 [==============================] - ETA: 0s - loss: 0.1381 - accuracy: 0.0000e+ - ETA: 0s - loss: 0.0872 - accuracy: 0.0000e+ - 0s 1ms/step - loss: 0.0859 - accuracy: 0.0000e+00\n",
      "Epoch 18/50\n",
      "77/77 [==============================] - ETA: 0s - loss: 0.0636 - accuracy: 0.0000e+ - ETA: 0s - loss: 0.0880 - accuracy: 0.0000e+ - 0s 1ms/step - loss: 0.0857 - accuracy: 0.0000e+00\n",
      "Epoch 19/50\n",
      "77/77 [==============================] - ETA: 0s - loss: 0.0593 - accuracy: 0.0000e+ - ETA: 0s - loss: 0.0829 - accuracy: 0.0000e+ - 0s 1ms/step - loss: 0.0858 - accuracy: 0.0000e+00\n",
      "Epoch 20/50\n",
      "77/77 [==============================] - ETA: 0s - loss: 0.0991 - accuracy: 0.0000e+ - ETA: 0s - loss: 0.0879 - accuracy: 0.0000e+ - 0s 1ms/step - loss: 0.0859 - accuracy: 0.0000e+00\n",
      "Epoch 21/50\n",
      "77/77 [==============================] - ETA: 0s - loss: 0.0885 - accuracy: 0.0000e+ - ETA: 0s - loss: 0.0873 - accuracy: 0.0000e+ - 0s 1ms/step - loss: 0.0858 - accuracy: 0.0000e+00\n",
      "Epoch 22/50\n",
      "77/77 [==============================] - ETA: 0s - loss: 0.0760 - accuracy: 0.0000e+ - ETA: 0s - loss: 0.0836 - accuracy: 0.0000e+ - 0s 1ms/step - loss: 0.0859 - accuracy: 0.0000e+00\n",
      "Epoch 23/50\n",
      "77/77 [==============================] - ETA: 0s - loss: 0.0292 - accuracy: 0.0000e+ - ETA: 0s - loss: 0.0853 - accuracy: 0.0000e+ - 0s 1ms/step - loss: 0.0858 - accuracy: 0.0000e+00\n",
      "Epoch 24/50\n",
      "77/77 [==============================] - ETA: 0s - loss: 0.1439 - accuracy: 0.0000e+ - ETA: 0s - loss: 0.0867 - accuracy: 0.0000e+ - 0s 1ms/step - loss: 0.0857 - accuracy: 0.0000e+00\n",
      "Epoch 25/50\n",
      "77/77 [==============================] - ETA: 0s - loss: 0.0557 - accuracy: 0.0000e+ - ETA: 0s - loss: 0.0868 - accuracy: 0.0000e+ - 0s 1ms/step - loss: 0.0855 - accuracy: 0.0000e+00\n",
      "Epoch 26/50\n",
      "77/77 [==============================] - ETA: 0s - loss: 0.0518 - accuracy: 0.0000e+ - ETA: 0s - loss: 0.0814 - accuracy: 0.0000e+ - 0s 1ms/step - loss: 0.0857 - accuracy: 0.0000e+00\n",
      "Epoch 27/50\n",
      "77/77 [==============================] - ETA: 0s - loss: 0.0885 - accuracy: 0.0000e+ - ETA: 0s - loss: 0.0846 - accuracy: 0.0000e+ - 0s 1ms/step - loss: 0.0858 - accuracy: 0.0000e+00\n",
      "Epoch 28/50\n",
      "77/77 [==============================] - ETA: 0s - loss: 0.1165 - accuracy: 0.0000e+ - ETA: 0s - loss: 0.0859 - accuracy: 0.0000e+ - 0s 1ms/step - loss: 0.0856 - accuracy: 0.0000e+00\n",
      "Epoch 29/50\n",
      "77/77 [==============================] - ETA: 0s - loss: 0.0695 - accuracy: 0.0000e+ - ETA: 0s - loss: 0.0877 - accuracy: 0.0000e+ - 0s 1ms/step - loss: 0.0858 - accuracy: 0.0000e+00\n",
      "Epoch 30/50\n",
      "77/77 [==============================] - ETA: 0s - loss: 0.0789 - accuracy: 0.0000e+ - ETA: 0s - loss: 0.0868 - accuracy: 0.0000e+ - 0s 1ms/step - loss: 0.0855 - accuracy: 0.0000e+00\n",
      "Epoch 31/50\n",
      "77/77 [==============================] - ETA: 0s - loss: 0.1276 - accuracy: 0.0000e+ - ETA: 0s - loss: 0.0839 - accuracy: 0.0000e+ - 0s 1ms/step - loss: 0.0853 - accuracy: 0.0000e+00\n",
      "Epoch 32/50\n",
      "77/77 [==============================] - ETA: 0s - loss: 0.1101 - accuracy: 0.0000e+ - ETA: 0s - loss: 0.0851 - accuracy: 0.0000e+ - 0s 1ms/step - loss: 0.0853 - accuracy: 0.0000e+00\n",
      "Epoch 33/50\n",
      "77/77 [==============================] - ETA: 0s - loss: 0.0503 - accuracy: 0.0000e+ - ETA: 0s - loss: 0.0856 - accuracy: 0.0000e+ - 0s 1ms/step - loss: 0.0855 - accuracy: 0.0000e+00\n",
      "Epoch 34/50\n",
      "77/77 [==============================] - ETA: 0s - loss: 0.1010 - accuracy: 0.0000e+ - ETA: 0s - loss: 0.0822 - accuracy: 0.0000e+ - 0s 1ms/step - loss: 0.0853 - accuracy: 0.0000e+00\n",
      "Epoch 35/50\n",
      "77/77 [==============================] - ETA: 0s - loss: 0.0616 - accuracy: 0.0000e+ - ETA: 0s - loss: 0.0834 - accuracy: 0.0000e+ - 0s 1ms/step - loss: 0.0853 - accuracy: 0.0000e+00\n",
      "Epoch 36/50\n",
      "77/77 [==============================] - ETA: 0s - loss: 0.0841 - accuracy: 0.0000e+ - ETA: 0s - loss: 0.0884 - accuracy: 0.0000e+ - 0s 1ms/step - loss: 0.0852 - accuracy: 0.0000e+00\n",
      "Epoch 37/50\n",
      "77/77 [==============================] - ETA: 0s - loss: 0.0666 - accuracy: 0.0000e+ - ETA: 0s - loss: 0.0828 - accuracy: 0.0000e+ - 0s 1ms/step - loss: 0.0854 - accuracy: 0.0000e+00\n",
      "Epoch 38/50\n",
      "77/77 [==============================] - ETA: 0s - loss: 0.0958 - accuracy: 0.0000e+ - ETA: 0s - loss: 0.0869 - accuracy: 0.0000e+ - 0s 1ms/step - loss: 0.0849 - accuracy: 0.0000e+00\n",
      "Epoch 39/50\n",
      "77/77 [==============================] - ETA: 0s - loss: 0.0748 - accuracy: 0.0000e+ - ETA: 0s - loss: 0.0875 - accuracy: 0.0000e+ - 0s 1ms/step - loss: 0.0853 - accuracy: 0.0000e+00\n",
      "Epoch 40/50\n",
      "77/77 [==============================] - ETA: 0s - loss: 0.0998 - accuracy: 0.0000e+ - ETA: 0s - loss: 0.0851 - accuracy: 0.0000e+ - 0s 1ms/step - loss: 0.0849 - accuracy: 0.0000e+00\n",
      "Epoch 41/50\n",
      "77/77 [==============================] - ETA: 0s - loss: 0.0608 - accuracy: 0.0000e+ - ETA: 0s - loss: 0.0855 - accuracy: 0.0000e+ - 0s 1ms/step - loss: 0.0853 - accuracy: 0.0000e+00\n",
      "Epoch 42/50\n",
      "77/77 [==============================] - ETA: 0s - loss: 0.1034 - accuracy: 0.0000e+ - ETA: 0s - loss: 0.0842 - accuracy: 0.0000e+ - 0s 1ms/step - loss: 0.0849 - accuracy: 0.0000e+00\n"
     ]
    },
    {
     "name": "stdout",
     "output_type": "stream",
     "text": [
      "Epoch 43/50\n",
      "77/77 [==============================] - ETA: 0s - loss: 0.0840 - accuracy: 0.0000e+ - ETA: 0s - loss: 0.0839 - accuracy: 0.0000e+ - 0s 1ms/step - loss: 0.0850 - accuracy: 0.0000e+00\n",
      "Epoch 44/50\n",
      "77/77 [==============================] - ETA: 0s - loss: 0.0753 - accuracy: 0.0000e+ - ETA: 0s - loss: 0.0879 - accuracy: 0.0000e+ - 0s 1ms/step - loss: 0.0847 - accuracy: 0.0000e+00\n",
      "Epoch 45/50\n",
      "77/77 [==============================] - ETA: 0s - loss: 0.0661 - accuracy: 0.0000e+ - ETA: 0s - loss: 0.0837 - accuracy: 0.0000e+ - 0s 1ms/step - loss: 0.0849 - accuracy: 0.0000e+00\n",
      "Epoch 46/50\n",
      "77/77 [==============================] - ETA: 0s - loss: 0.1360 - accuracy: 0.0000e+ - ETA: 0s - loss: 0.0842 - accuracy: 0.0000e+ - 0s 1ms/step - loss: 0.0848 - accuracy: 0.0000e+00\n",
      "Epoch 47/50\n",
      "77/77 [==============================] - ETA: 0s - loss: 0.0809 - accuracy: 0.0000e+ - ETA: 0s - loss: 0.0842 - accuracy: 0.0000e+ - 0s 1ms/step - loss: 0.0849 - accuracy: 0.0000e+00\n",
      "Epoch 48/50\n",
      "77/77 [==============================] - ETA: 0s - loss: 0.0465 - accuracy: 0.0000e+ - ETA: 0s - loss: 0.0848 - accuracy: 0.0000e+ - 0s 1ms/step - loss: 0.0847 - accuracy: 0.0000e+00\n",
      "Epoch 49/50\n",
      "77/77 [==============================] - ETA: 0s - loss: 0.0819 - accuracy: 0.0000e+ - ETA: 0s - loss: 0.0854 - accuracy: 0.0000e+ - 0s 1ms/step - loss: 0.0848 - accuracy: 0.0000e+00\n",
      "Epoch 50/50\n",
      "77/77 [==============================] - ETA: 0s - loss: 0.1281 - accuracy: 0.0000e+ - ETA: 0s - loss: 0.0846 - accuracy: 0.0000e+ - 0s 1ms/step - loss: 0.0847 - accuracy: 0.0000e+00\n",
      "Saving artifact of size: 5.376 KB to Splice Machine DB\n",
      "acccfafdb9bf\n",
      "Deploying model to database...\n"
     ]
    },
    {
     "name": "stderr",
     "output_type": "stream",
     "text": [
      "Passing in primary keys as a list of tuples is deprecated. Use dictionary {column name: type}\n"
     ]
    },
    {
     "name": "stdout",
     "output_type": "stream",
     "text": [
      "Your Job has been submitted. The returned value of this function is the job id, which you can use to monitor the your task in real-time. Run mlflow.watch_job(<job id>) tostream them to stdout, or mlflow.fetch_logs(<job id>) to read them one time to a list\n",
      "---Job Logs---\n",
      "INFO     2020-09-14 18:40:12.351 - A service worker has found your request\n",
      "INFO     2020-09-14 18:40:12.371 - Checking whether handler DEPLOY_DATABASE is enabled\n",
      "INFO     2020-09-14 18:40:12.405 - Handler is available\n",
      "INFO     2020-09-14 18:40:12.419 - Retrieving Run from MLFlow Tracking Server...INFO     2020-09-14 18:40:12.419 - Retrieving Run from MLFlow Tracking Server...\n",
      "INFO     2020-09-14 18:40:12.495 - Retrieved MLFlow Run\n",
      "INFO     2020-09-14 18:40:12.509 - Updating MLFlow Run for the UI\n",
      "INFO     2020-09-14 18:40:12.543 - Reading Model Artifact Stream from Splice Machine\n",
      "INFO     2020-09-14 18:40:12.555 - Extracting Model from DB with Name: keras_model\n",
      "INFO     2020-09-14 18:40:12.578 - Decoding Model Artifact Binary Stream for Deployment\n",
      "INFO     2020-09-14 18:40:12.597 - Decompressing Model Artifact\n",
      "INFO     2020-09-14 18:40:12.611 - Creating raw model representation from MLModel\n",
      "INFO     2020-09-14 18:40:12.624 - Reading MLModel Flavor from Extracted Archive\n",
      "INFO     2020-09-14 18:40:12.702 - Registering Raw Model Representation...\n",
      "INFO     2020-09-14 18:40:12.716 - Done.\n",
      "INFO     2020-09-14 18:40:12.730 - Adding Model Schema and DF...\n",
      "INFO     2020-09-14 18:40:12.767 - Creating Alternative Keras Representations\n",
      "INFO     2020-09-14 18:40:12.795 - Registering Serialized Representation\n",
      "INFO     2020-09-14 18:40:12.829 - Updating Artifact with serialized representation\n",
      "INFO     2020-09-14 18:40:12.842 - Preparing Model Metadata for Deployment...\n",
      "INFO     2020-09-14 18:40:12.856 - Preparing Keras Metadata for Deployment...\n",
      "INFO     2020-09-14 18:40:12.868 - Adding Schema String to model metadata...\n",
      "INFO     2020-09-14 18:40:12.887 - Starting 'creating model deployment table'...\n",
      "INFO     2020-09-14 18:40:12.929 - Executing\n",
      "CREATE TABLE ben.keras_regression (\n",
      "                CUR_USER VARCHAR(50) DEFAULT CURRENT_USER,\n",
      "                EVAL_TIME TIMESTAMP DEFAULT CURRENT_TIMESTAMP,\n",
      "                RUN_ID VARCHAR(50) DEFAULT 'acccfafdb9bf',\n",
      "                C0 FLOAT, C1 FLOAT, C2 FLOAT, C3 FLOAT, C4 FLOAT, C5 FLOAT, C6 FLOAT, C7 FLOAT,MOMENT INT,PREDICTION DOUBLE,PRIMARY KEY(MOMENT))                C0 FLOAT, C1 FLOAT, C2 FLOAT, C3 FLOAT, C4 FLOAT, C5 FLOAT, C6 FLOAT, C7 FLOAT,MOMENT INT,PREDICTION DOUBLE,PRIMARY KEY(MOMENT))\n",
      "INFO     2020-09-14 18:40:13.756 - Done with 'creating model deployment table' [in 868.3972358703613 ms]\n",
      "INFO     2020-09-14 18:40:13.769 - Starting 'creating trigger'...\n",
      "INFO     2020-09-14 18:40:13.781 - Creating Prediction Trigger...\n",
      "INFO     2020-09-14 18:40:13.793 - Executing\n",
      "CREATE TRIGGER ben.runModel_keras_regression_acccfafdb9bf\n",
      "                           BEFORE INSERT ON ben.keras_regression REFERENCING NEW AS NEWROW \n",
      "                           FOR EACH ROW SET NEWROW.PREDICTION=MLMANAGER.PREDICT_REGRESSION('acccfafdb9bf',TRIM(CAST(CAST(NEWROW.C0 as DECIMAL(38,10)) as CHAR(41)))||','||TRIM(CAST(CAST(NEWROW.C1 as DECIMAL(38,10)) as CHAR(41)))||','||TRIM(CAST(CAST(NEWROW.C2 as DECIMAL(38,10)) as CHAR(41)))||','||TRIM(CAST(CAST(NEWROW.C3 as DECIMAL(38,10)) as CHAR(41)))||','||TRIM(CAST(CAST(NEWROW.C4 as DECIMAL(38,10)) as CHAR(41)))||','||TRIM(CAST(CAST(NEWROW.C5 as DECIMAL(38,10)) as CHAR(41)))||','||TRIM(CAST(CAST(NEWROW.C6 as DECIMAL(38,10)) as CHAR(41)))||','||TRIM(CAST(CAST(NEWROW.C7 as DECIMAL(38,10)) as CHAR(41))),\n",
      "'C0 FLOAT, C1 FLOAT, C2 FLOAT, C3 FLOAT, C4 FLOAT, C5 FLOAT, C6 FLOAT, C7 FLOAT')\n",
      "INFO     2020-09-14 18:40:13.949 - Done with 'creating trigger' [in 179.7494888305664 ms]\n",
      "INFO     2020-09-14 18:40:13.961 - Starting 'add model to metadata table'...\n",
      "INFO     2020-09-14 18:40:13.975 - Adding Model to Metadata table\n",
      "INFO     2020-09-14 18:40:14.057 - Executing SQL to insert Database Deployed Metadata\n",
      "INFO     2020-09-14 18:40:14.106 - Done executing.\n",
      "INFO     2020-09-14 18:40:14.118 - Done with 'add model to metadata table' [in 156.9385528564453 ms]\n",
      "INFO     2020-09-14 18:40:14.131 - Flushing\n",
      "WARNING  2020-09-14 18:40:14.144 - Committing Transaction to Database\n",
      "INFO     2020-09-14 18:40:14.178 - Committed.\n",
      "INFO     2020-09-14 18:40:14.194 - Cleaning up deployment\n",
      "INFO     2020-09-14 18:40:14.237 - Success! Target 'DEPLOY_DATABASE' completed successfully.\n",
      "INFO     2020-09-14 18:40:14.259 - TASK_COMPLETED"
     ]
    }
   ],
   "source": [
    "# first neural network with keras tutorial\n",
    "from numpy import loadtxt\n",
    "from tensorflow.keras.models import Sequential\n",
    "from tensorflow.keras.layers import Dense\n",
    "import pandas as pd\n",
    "import numpy as np\n",
    "from random import random\n",
    "\n",
    "with mlflow.start_run():\n",
    "    # load the dataset\n",
    "    dataset = loadtxt('data.csv', delimiter=',')\n",
    "    # split into input (X) and output (y) variables\n",
    "    X = dataset[:,0:8]\n",
    "    y = dataset[:,8]\n",
    "    # Make it a regression problem\n",
    "    y = np.array([random() for _ in y])\n",
    "    # define the keras model\n",
    "    model = Sequential()\n",
    "    model.add(Dense(12, input_dim=8, activation='relu'))\n",
    "    model.add(Dense(8, activation='relu'))\n",
    "    model.add(Dense(1, activation='sigmoid'))\n",
    "    # compile the keras model\n",
    "    model.compile(loss='mean_squared_error', optimizer='adam', metrics=['accuracy'])\n",
    "    # fit the keras model on the dataset\n",
    "    model.fit(X, y, epochs=50, batch_size=10)\n",
    "\n",
    "#     model.save('simple_model_multiclass.h5')\n",
    "    mlflow.log_model(model, 'keras_model')\n",
    "    print(mlflow.current_run_id())\n",
    "    splice.dropTableIfExists(f'{schema}.keras_regression')\n",
    "    \n",
    "    run_id = mlflow.current_run_id()\n",
    "    \n",
    "    df = pd.DataFrame(X,columns=[f'C{i}' for i in range(len(X[0]))])\n",
    "    jid = mlflow.deploy_db(schema, 'keras_regression', mlflow.current_run_id(), primary_key=[('MOMENT', 'INT')], df=df, create_model_table=True)\n",
    "    mlflow.watch_job(jid)"
   ]
  },
  {
   "cell_type": "code",
   "execution_count": 9,
   "metadata": {},
   "outputs": [
    {
     "data": {
      "application/vnd.jupyter.widget-view+json": {
       "model_id": "e51b19a0-aff6-4325-bcfd-5aa0b2f16122",
       "version_major": 2,
       "version_minor": 0
      },
      "method": "display_data"
     },
     "metadata": {},
     "output_type": "display_data"
    },
    {
     "data": {
      "application/vnd.jupyter.widget-view+json": {
       "model_id": "b98709cb-8d80-4999-8524-2f6abbb1f5e8",
       "version_major": 2,
       "version_minor": 0
      },
      "method": "display_data"
     },
     "metadata": {},
     "output_type": "display_data"
    },
    {
     "data": {
      "application/vnd.jupyter.widget-view+json": {
       "model_id": "9b27477a-a9e2-4825-b26a-a17cb05ea013",
       "version_major": 2,
       "version_minor": 0
      },
      "method": "display_data"
     },
     "metadata": {},
     "output_type": "display_data"
    },
    {
     "name": "stdout",
     "output_type": "stream",
     "text": [
      "CPU times: user 13 ms, sys: 5.53 ms, total: 18.5 ms\n",
      "Wall time: 4.66 s\n"
     ]
    }
   ],
   "source": [
    "%%time\n",
    "%%sql\n",
    "\n",
    "insert into keras_regression (c0,c1,c2,c3,c4,c5,c6,c7,moment) values(2.4,2.2,1.5,2.6,3.6,7.5,77.8,2.4,34512);\n",
    "insert into keras_regression (c0,c1,c2,c3,c4,c5,c6,c7,moment) values(66.2,3.78,33.5,-23.4,22.3,0.1,19.3,-339.2,345);\n",
    "\n",
    "select * from keras_regression;\n",
    "select * into ${data_and_preds} from keras_regression;"
   ]
  },
  {
   "cell_type": "code",
   "execution_count": 10,
   "metadata": {},
   "outputs": [
    {
     "name": "stdout",
     "output_type": "stream",
     "text": [
      "test passed!\n"
     ]
    }
   ],
   "source": [
    "from beakerx.object import beakerx\n",
    "\n",
    "data = beakerx.get('data_and_preds')\n",
    "\n",
    "features = data[['C0','C1','C2','C3','C4','C5','C6','C7']]\n",
    "db_preds = data[['PREDICTION']]\n",
    "\n",
    "\n",
    "raw_preds = model.predict(features)\n",
    "\n",
    "\n",
    "for db_pred, raw_pred in zip(db_preds.iterrows(), raw_preds):\n",
    "    # Check reconstruction values\n",
    "    for db, raw in zip(db_pred[1], raw_pred):\n",
    "        l = min(len(str(raw)),len(str(db))) # Digit truncation because keras python only returns 7 decimal places\n",
    "        assert round(float(db),l) == round(float(raw),l), f'Something is wrong. Model Table gives {float(db)} but raw model gives {float(raw)}'\n",
    "\n",
    "    \n",
    "print('test passed!')"
   ]
  },
  {
   "cell_type": "markdown",
   "metadata": {},
   "source": [
    "## Use pred_threshold to make it a binary classification"
   ]
  },
  {
   "cell_type": "code",
   "execution_count": 17,
   "metadata": {
    "scrolled": true
   },
   "outputs": [
    {
     "name": "stdout",
     "output_type": "stream",
     "text": [
      "Deploying model to database...\n"
     ]
    },
    {
     "name": "stderr",
     "output_type": "stream",
     "text": [
      "Passing in primary keys as a list of tuples is deprecated. Use dictionary {column name: type}\n"
     ]
    },
    {
     "name": "stdout",
     "output_type": "stream",
     "text": [
      "Your Job has been submitted. The returned value of this function is the job id, which you can use to monitor the your task in real-time. Run mlflow.watch_job(<job id>) tostream them to stdout, or mlflow.fetch_logs(<job id>) to read them one time to a list\n",
      "---Job Logs---\n",
      "INFO     2020-09-14 18:42:23.059 - A service worker has found your request\n",
      "INFO     2020-09-14 18:42:23.080 - Checking whether handler DEPLOY_DATABASE is enabled\n",
      "INFO     2020-09-14 18:42:23.110 - Handler is available\n",
      "INFO     2020-09-14 18:42:23.126 - Retrieving Run from MLFlow Tracking Server...INFO     2020-09-14 18:42:23.126 - Retrieving Run from MLFlow Tracking Server...\n",
      "INFO     2020-09-14 18:42:23.216 - Retrieved MLFlow Run\n",
      "INFO     2020-09-14 18:42:23.229 - Updating MLFlow Run for the UI\n",
      "INFO     2020-09-14 18:42:23.262 - Reading Model Artifact Stream from Splice Machine\n",
      "INFO     2020-09-14 18:42:23.274 - Extracting Model from DB with Name: keras_model\n",
      "INFO     2020-09-14 18:42:23.295 - Decoding Model Artifact Binary Stream for Deployment\n",
      "INFO     2020-09-14 18:42:23.315 - Decompressing Model Artifact\n",
      "INFO     2020-09-14 18:42:23.330 - Creating raw model representation from MLModel\n",
      "INFO     2020-09-14 18:42:23.343 - Reading MLModel Flavor from Extracted Archive\n",
      "INFO     2020-09-14 18:42:23.427 - Registering Raw Model Representation...\n",
      "INFO     2020-09-14 18:42:23.442 - Done.\n",
      "INFO     2020-09-14 18:42:23.454 - Adding Model Schema and DF...\n",
      "INFO     2020-09-14 18:42:23.493 - Creating Alternative Keras Representations\n",
      "INFO     2020-09-14 18:42:23.520 - Registering Serialized Representation\n",
      "INFO     2020-09-14 18:42:23.546 - Updating Artifact with serialized representation\n",
      "INFO     2020-09-14 18:42:23.560 - Preparing Model Metadata for Deployment...\n",
      "INFO     2020-09-14 18:42:23.572 - Preparing Keras Metadata for Deployment...\n",
      "WARNING  2020-09-14 18:42:23.585 - Classes were not specified... using ['Out1'] as fallback\n",
      "INFO     2020-09-14 18:42:23.598 - Adding Schema String to model metadata...\n",
      "INFO     2020-09-14 18:42:23.615 - Starting 'creating model deployment table'...\n",
      "INFO     2020-09-14 18:42:23.657 - Executing\n",
      "CREATE TABLE ben.keras_binary (\n",
      "                CUR_USER VARCHAR(50) DEFAULT CURRENT_USER,\n",
      "                EVAL_TIME TIMESTAMP DEFAULT CURRENT_TIMESTAMP,\n",
      "                RUN_ID VARCHAR(50) DEFAULT 'acccfafdb9bf',\n",
      "                C0 FLOAT, C1 FLOAT, C2 FLOAT, C3 FLOAT, C4 FLOAT, C5 FLOAT, C6 FLOAT, C7 FLOAT,MOMENT INT,\"prediction\" DOUBLE,\"Out1\" DOUBLE,PRIMARY KEY(MOMENT))                C0 FLOAT, C1 FLOAT, C2 FLOAT, C3 FLOAT, C4 FLOAT, C5 FLOAT, C6 FLOAT, C7 FLOAT,MOMENT INT,\"prediction\" DOUBLE,\"Out1\" DOUBLE,PRIMARY KEY(MOMENT))\n",
      "INFO     2020-09-14 18:42:24.486 - Done with 'creating model deployment table' [in 871.2782859802246 ms]\n",
      "INFO     2020-09-14 18:42:24.499 - Starting 'creating trigger'...\n",
      "INFO     2020-09-14 18:42:24.511 - Creating VTI Prediction Trigger...\n",
      "INFO     2020-09-14 18:42:24.524 - Managing Keras prediction args\n",
      "INFO     2020-09-14 18:42:24.536 - Executing\n",
      "CREATE TRIGGER ben.runModel_keras_binary_acccfafdb9bf \n",
      "                        AFTER INSERT ON ben.keras_binary REFERENCING NEW AS NEWROW FOR EACH ROW\n",
      "                        UPDATE ben.keras_binary SET (\"prediction\",\"Out1\") = (SELECT b.\"prediction\",b.\"Out1\" FROM new \"com.splicemachine.mlrunner.MLRunner\"('key_value', 'acccfafdb9bf', TRIM(CAST(CAST(NEWROW.C0 as DECIMAL(38,10)) as CHAR(41)))||','||TRIM(CAST(CAST(NEWROW.C1 as DECIMAL(38,10)) as CHAR(41)))||','||TRIM(CAST(CAST(NEWROW.C2 as DECIMAL(38,10)) as CHAR(41)))||','||TRIM(CAST(CAST(NEWROW.C3 as DECIMAL(38,10)) as CHAR(41)))||','||TRIM(CAST(CAST(NEWROW.C4 as DECIMAL(38,10)) as CHAR(41)))||','||TRIM(CAST(CAST(NEWROW.C5 as DECIMAL(38,10)) as CHAR(41)))||','||TRIM(CAST(CAST(NEWROW.C6 as DECIMAL(38,10)) as CHAR(41)))||','||TRIM(CAST(CAST(NEWROW.C7 as DECIMAL(38,10)) as CHAR(41))), \n",
      "        'C0 FLOAT, C1 FLOAT, C2 FLOAT, C3 FLOAT, C4 FLOAT, C5 FLOAT, C6 FLOAT, C7 FLOAT', '0.5') as b (\"prediction\" INT,\"Out1\" DOUBLE) WHERE 1=1) WHERE MOMENT = NEWROW.MOMENT\n",
      "INFO     2020-09-14 18:42:24.834 - Done with 'creating trigger' [in 335.33716201782227 ms]\n",
      "INFO     2020-09-14 18:42:24.848 - Starting 'add model to metadata table'...\n",
      "INFO     2020-09-14 18:42:24.862 - Adding Model to Metadata table\n",
      "INFO     2020-09-14 18:42:24.936 - Executing SQL to insert Database Deployed Metadata\n",
      "INFO     2020-09-14 18:42:24.979 - Done executing.\n",
      "INFO     2020-09-14 18:42:24.992 - Done with 'add model to metadata table' [in 143.7530517578125 ms]\n",
      "INFO     2020-09-14 18:42:25.004 - Flushing\n",
      "WARNING  2020-09-14 18:42:25.015 - Committing Transaction to Database\n",
      "INFO     2020-09-14 18:42:25.047 - Committed.\n",
      "INFO     2020-09-14 18:42:25.060 - Cleaning up deployment\n",
      "INFO     2020-09-14 18:42:25.103 - Success! Target 'DEPLOY_DATABASE' completed successfully.\n",
      "INFO     2020-09-14 18:42:25.124 - TASK_COMPLETED"
     ]
    }
   ],
   "source": [
    "splice.dropTableIfExists(f'{schema}.keras_binary')\n",
    "jid = mlflow.deploy_db(schema, 'keras_binary', run_id, primary_key=[('MOMENT', 'INT')], df=df, create_model_table=True, classes=['Out1'], library_specific={'pred_threshold':0.5})\n",
    "mlflow.watch_job(jid)"
   ]
  },
  {
   "cell_type": "code",
   "execution_count": 20,
   "metadata": {},
   "outputs": [
    {
     "data": {
      "application/vnd.jupyter.widget-view+json": {
       "model_id": "a7050e95-5ff1-4367-9147-42bc1381bbe7",
       "version_major": 2,
       "version_minor": 0
      },
      "method": "display_data"
     },
     "metadata": {},
     "output_type": "display_data"
    },
    {
     "data": {
      "application/vnd.jupyter.widget-view+json": {
       "model_id": "13c0f50d-e46f-49d4-9b76-e31083ef7398",
       "version_major": 2,
       "version_minor": 0
      },
      "method": "display_data"
     },
     "metadata": {},
     "output_type": "display_data"
    },
    {
     "data": {
      "application/vnd.jupyter.widget-view+json": {
       "model_id": "a1be3f4b-6e48-4521-a27b-e1c02d3dba0a",
       "version_major": 2,
       "version_minor": 0
      },
      "method": "display_data"
     },
     "metadata": {},
     "output_type": "display_data"
    },
    {
     "name": "stdout",
     "output_type": "stream",
     "text": [
      "CPU times: user 14.3 ms, sys: 2.42 ms, total: 16.7 ms\n",
      "Wall time: 1.26 s\n"
     ]
    }
   ],
   "source": [
    "%%time\n",
    "%%sql\n",
    "truncate table keras_binary;\n",
    "insert into keras_binary (c0,c1,c2,c3,c4,c5,c6,c7,moment) values(2.4,2.2,1.5,2.6,3.6,7.5,77.8,2.4,         34512);\n",
    "insert into keras_binary (c0,c1,c2,c3,c4,c5,c6,c7,moment) values(66.2,3.78,33.5,-23.4,22.3,0.1,19.3,-339.2,345);\n",
    "\n",
    "select * from keras_binary;\n",
    "select * into ${data_and_preds} from keras_binary;"
   ]
  },
  {
   "cell_type": "code",
   "execution_count": 21,
   "metadata": {},
   "outputs": [
    {
     "name": "stdout",
     "output_type": "stream",
     "text": [
      "test passed!\n"
     ]
    }
   ],
   "source": [
    "from beakerx.object import beakerx\n",
    "\n",
    "data = beakerx.get('data_and_preds')\n",
    "\n",
    "features = data[['C0','C1','C2','C3','C4','C5','C6','C7']]\n",
    "db_preds = data[['Out1']]\n",
    "db_classpred = data[['prediction']]\n",
    "\n",
    "#set in the deploy call\n",
    "threshold = 0.5\n",
    "\n",
    "raw_preds = model.predict(features)\n",
    "\n",
    "\n",
    "for db_c, db_pred, raw_pred in zip(db_classpred.iterrows(),db_preds.iterrows(), raw_preds):\n",
    "    # Check reconstruction values\n",
    "    for c,db, raw in zip(db_c[1],db_pred[1], raw_pred):\n",
    "        l = min(len(str(raw)),len(str(db))) # Digit truncation\n",
    "        assert round(float(db),l) == round(float(raw),l), f'Something is wrong. Model Table gives {float(db)} but raw model gives {float(raw)}'\n",
    "        \n",
    "        raw_classpred = 1.0 if raw > threshold else 0.0\n",
    "        assert raw_classpred==c, f'Something is wrong. Model Table gives {float(c)} but raw model gives {float(raw_classpred)}'\n",
    "\n",
    "    \n",
    "print('test passed!')"
   ]
  },
  {
   "cell_type": "markdown",
   "metadata": {},
   "source": [
    "## Multiclass prediction"
   ]
  },
  {
   "cell_type": "code",
   "execution_count": 23,
   "metadata": {
    "scrolled": true
   },
   "outputs": [
    {
     "name": "stdout",
     "output_type": "stream",
     "text": [
      "Epoch 1/50\n",
      "77/77 [==============================] - ETA: 0s - loss: 0.4236 - accuracy: 0.0000e+ - ETA: 0s - loss: 0.4584 - accuracy: 0.0000e+ - 0s 1ms/step - loss: 0.4609 - accuracy: 0.0000e+00\n",
      "Epoch 2/50\n",
      "77/77 [==============================] - ETA: 0s - loss: 0.4686 - accuracy: 0.0000e+ - ETA: 0s - loss: 0.4488 - accuracy: 0.0000e+ - ETA: 0s - loss: 0.4450 - accuracy: 0.0000e+ - 0s 1ms/step - loss: 0.4455 - accuracy: 0.0000e+00\n",
      "Epoch 3/50\n",
      "77/77 [==============================] - ETA: 0s - loss: 0.5057 - accuracy: 0.0000e+ - ETA: 0s - loss: 0.4377 - accuracy: 0.0000e+ - 0s 1ms/step - loss: 0.4352 - accuracy: 0.0000e+00\n",
      "Epoch 4/50\n",
      "77/77 [==============================] - ETA: 0s - loss: 0.5004 - accuracy: 0.0000e+ - ETA: 0s - loss: 0.4267 - accuracy: 0.0000e+ - 0s 1ms/step - loss: 0.4224 - accuracy: 0.0000e+00\n",
      "Epoch 5/50\n",
      "77/77 [==============================] - ETA: 0s - loss: 0.3734 - accuracy: 0.0000e+ - ETA: 0s - loss: 0.4077 - accuracy: 0.0000e+ - 0s 1ms/step - loss: 0.4124 - accuracy: 0.0000e+00\n",
      "Epoch 6/50\n",
      "77/77 [==============================] - ETA: 0s - loss: 0.4707 - accuracy: 0.0000e+ - ETA: 0s - loss: 0.3893 - accuracy: 0.0000e+ - 0s 1ms/step - loss: 0.3773 - accuracy: 0.0000e+00\n",
      "Epoch 7/50\n",
      "77/77 [==============================] - ETA: 0s - loss: 0.3821 - accuracy: 0.0000e+ - ETA: 0s - loss: 0.3657 - accuracy: 0.0000e+ - 0s 1ms/step - loss: 0.3612 - accuracy: 0.0000e+00\n",
      "Epoch 8/50\n",
      "77/77 [==============================] - ETA: 0s - loss: 0.3506 - accuracy: 0.0000e+ - ETA: 0s - loss: 0.3565 - accuracy: 0.0000e+ - ETA: 0s - loss: 0.3560 - accuracy: 0.0000e+ - 0s 1ms/step - loss: 0.3560 - accuracy: 0.0000e+00\n",
      "Epoch 9/50\n",
      "77/77 [==============================] - ETA: 0s - loss: 0.3346 - accuracy: 0.0000e+ - ETA: 0s - loss: 0.3508 - accuracy: 0.0000e+ - ETA: 0s - loss: 0.3475 - accuracy: 0.0000e+ - 0s 1ms/step - loss: 0.3468 - accuracy: 0.0000e+00\n",
      "Epoch 10/50\n",
      "77/77 [==============================] - ETA: 0s - loss: 0.3812 - accuracy: 0.0000e+ - ETA: 0s - loss: 0.3480 - accuracy: 0.0000e+ - ETA: 0s - loss: 0.3412 - accuracy: 0.0000e+ - 0s 1ms/step - loss: 0.3412 - accuracy: 0.0000e+00\n",
      "Epoch 11/50\n",
      "77/77 [==============================] - ETA: 0s - loss: 0.3176 - accuracy: 0.0000e+ - ETA: 0s - loss: 0.3266 - accuracy: 0.0000e+ - ETA: 0s - loss: 0.3335 - accuracy: 0.0000e+ - 0s 1ms/step - loss: 0.3328 - accuracy: 0.0000e+00\n",
      "Epoch 12/50\n",
      "77/77 [==============================] - ETA: 0s - loss: 0.3294 - accuracy: 0.0000e+ - ETA: 0s - loss: 0.3166 - accuracy: 0.0000e+ - 0s 1ms/step - loss: 0.3229 - accuracy: 0.0000e+00\n",
      "Epoch 13/50\n",
      "77/77 [==============================] - ETA: 0s - loss: 0.3275 - accuracy: 0.0000e+ - ETA: 0s - loss: 0.3270 - accuracy: 0.0000e+ - 0s 1ms/step - loss: 0.3205 - accuracy: 0.0000e+00\n",
      "Epoch 14/50\n",
      "77/77 [==============================] - ETA: 0s - loss: 0.3377 - accuracy: 0.0000e+ - ETA: 0s - loss: 0.3119 - accuracy: 0.0000e+ - 0s 1ms/step - loss: 0.3101 - accuracy: 0.0000e+00\n",
      "Epoch 15/50\n",
      "77/77 [==============================] - ETA: 0s - loss: 0.3009 - accuracy: 0.0000e+ - ETA: 0s - loss: 0.3086 - accuracy: 0.0000e+ - 0s 1ms/step - loss: 0.3090 - accuracy: 0.0000e+00\n",
      "Epoch 16/50\n",
      "77/77 [==============================] - ETA: 0s - loss: 0.3572 - accuracy: 0.0000e+ - ETA: 0s - loss: 0.3013 - accuracy: 0.0000e+ - 0s 1ms/step - loss: 0.2988 - accuracy: 0.0000e+00\n",
      "Epoch 17/50\n",
      "77/77 [==============================] - ETA: 0s - loss: 0.2673 - accuracy: 0.0000e+ - ETA: 0s - loss: 0.2848 - accuracy: 0.0000e+ - 0s 1ms/step - loss: 0.2926 - accuracy: 0.0000e+00\n",
      "Epoch 18/50\n",
      "77/77 [==============================] - ETA: 0s - loss: 0.2746 - accuracy: 0.0000e+ - ETA: 0s - loss: 0.2858 - accuracy: 0.0000e+ - 0s 1ms/step - loss: 0.2904 - accuracy: 0.0000e+00\n",
      "Epoch 19/50\n",
      "77/77 [==============================] - ETA: 0s - loss: 0.2469 - accuracy: 0.0000e+ - ETA: 0s - loss: 0.2839 - accuracy: 0.0000e+ - ETA: 0s - loss: 0.2848 - accuracy: 0.0000e+ - 0s 1ms/step - loss: 0.2850 - accuracy: 0.0000e+00\n",
      "Epoch 20/50\n",
      "77/77 [==============================] - ETA: 0s - loss: 0.3628 - accuracy: 0.0000e+ - ETA: 0s - loss: 0.2868 - accuracy: 0.0000e+ - ETA: 0s - loss: 0.2810 - accuracy: 0.0000e+ - 0s 1ms/step - loss: 0.2790 - accuracy: 0.0000e+00\n",
      "Epoch 21/50\n",
      "77/77 [==============================] - ETA: 0s - loss: 0.2697 - accuracy: 0.0000e+ - ETA: 0s - loss: 0.2665 - accuracy: 0.0000e+ - ETA: 0s - loss: 0.2789 - accuracy: 0.0000e+ - 0s 2ms/step - loss: 0.2770 - accuracy: 0.0000e+00\n",
      "Epoch 22/50\n",
      "77/77 [==============================] - ETA: 0s - loss: 0.2561 - accuracy: 0.0000e+ - ETA: 0s - loss: 0.2791 - accuracy: 0.0000e+ - 0s 1ms/step - loss: 0.2740 - accuracy: 0.0000e+00\n",
      "Epoch 23/50\n",
      "77/77 [==============================] - ETA: 0s - loss: 0.3248 - accuracy: 0.0000e+ - ETA: 0s - loss: 0.2740 - accuracy: 0.0000e+ - ETA: 0s - loss: 0.2719 - accuracy: 0.0000e+ - 0s 1ms/step - loss: 0.2719 - accuracy: 0.0000e+00\n",
      "Epoch 24/50\n",
      "77/77 [==============================] - ETA: 0s - loss: 0.2808 - accuracy: 0.0000e+ - ETA: 0s - loss: 0.2694 - accuracy: 0.0000e+ - 0s 1ms/step - loss: 0.2662 - accuracy: 0.0000e+00\n",
      "Epoch 25/50\n",
      "77/77 [==============================] - ETA: 0s - loss: 0.2797 - accuracy: 0.0000e+ - ETA: 0s - loss: 0.2663 - accuracy: 0.0000e+ - 0s 1ms/step - loss: 0.2665 - accuracy: 0.0000e+00\n",
      "Epoch 26/50\n",
      "77/77 [==============================] - ETA: 0s - loss: 0.3156 - accuracy: 0.0000e+ - ETA: 0s - loss: 0.2682 - accuracy: 0.0000e+ - 0s 1ms/step - loss: 0.2639 - accuracy: 0.0000e+00\n",
      "Epoch 27/50\n",
      "77/77 [==============================] - ETA: 0s - loss: 0.2503 - accuracy: 0.0000e+ - ETA: 0s - loss: 0.2660 - accuracy: 0.0000e+ - 0s 1ms/step - loss: 0.2631 - accuracy: 0.0000e+00\n",
      "Epoch 28/50\n",
      "77/77 [==============================] - ETA: 0s - loss: 0.2219 - accuracy: 0.0000e+ - ETA: 0s - loss: 0.2563 - accuracy: 0.0000e+ - 0s 1ms/step - loss: 0.2595 - accuracy: 0.0000e+00\n",
      "Epoch 29/50\n",
      "77/77 [==============================] - ETA: 0s - loss: 0.2627 - accuracy: 0.0000e+ - ETA: 0s - loss: 0.2566 - accuracy: 0.0000e+ - 0s 1ms/step - loss: 0.2598 - accuracy: 0.0000e+00\n",
      "Epoch 30/50\n",
      "77/77 [==============================] - ETA: 0s - loss: 0.2963 - accuracy: 0.0000e+ - ETA: 0s - loss: 0.2583 - accuracy: 0.0000e+ - 0s 1ms/step - loss: 0.2618 - accuracy: 0.0000e+00\n",
      "Epoch 31/50\n",
      "77/77 [==============================] - ETA: 0s - loss: 0.2600 - accuracy: 0.0000e+ - ETA: 0s - loss: 0.2500 - accuracy: 0.0000e+ - 0s 1ms/step - loss: 0.2569 - accuracy: 0.0000e+00\n",
      "Epoch 32/50\n",
      "77/77 [==============================] - ETA: 0s - loss: 0.2234 - accuracy: 0.0000e+ - ETA: 0s - loss: 0.2556 - accuracy: 0.0000e+ - 0s 1ms/step - loss: 0.2589 - accuracy: 0.0000e+00\n",
      "Epoch 33/50\n",
      "77/77 [==============================] - ETA: 0s - loss: 0.2767 - accuracy: 0.0000e+ - ETA: 0s - loss: 0.2535 - accuracy: 0.0000e+ - 0s 1ms/step - loss: 0.2554 - accuracy: 0.0000e+00\n",
      "Epoch 34/50\n",
      "77/77 [==============================] - ETA: 0s - loss: 0.2321 - accuracy: 0.0000e+ - ETA: 0s - loss: 0.2547 - accuracy: 0.0000e+ - 0s 1ms/step - loss: 0.2578 - accuracy: 0.0000e+00\n",
      "Epoch 35/50\n",
      "77/77 [==============================] - ETA: 0s - loss: 0.2951 - accuracy: 0.0000e+ - ETA: 0s - loss: 0.2600 - accuracy: 0.0000e+ - 0s 1ms/step - loss: 0.2564 - accuracy: 0.0000e+00\n",
      "Epoch 36/50\n",
      "77/77 [==============================] - ETA: 0s - loss: 0.3021 - accuracy: 0.0000e+ - ETA: 0s - loss: 0.2545 - accuracy: 0.0000e+ - ETA: 0s - loss: 0.2596 - accuracy: 0.0000e+ - 0s 1ms/step - loss: 0.2596 - accuracy: 0.0000e+00\n",
      "Epoch 37/50\n",
      "77/77 [==============================] - ETA: 0s - loss: 0.3173 - accuracy: 0.0000e+ - ETA: 0s - loss: 0.2636 - accuracy: 0.0000e+ - 0s 1ms/step - loss: 0.2591 - accuracy: 0.0000e+00\n",
      "Epoch 38/50\n",
      "77/77 [==============================] - ETA: 0s - loss: 0.1881 - accuracy: 0.0000e+ - ETA: 0s - loss: 0.2685 - accuracy: 0.0000e+ - 0s 1ms/step - loss: 0.2556 - accuracy: 0.0000e+00\n",
      "Epoch 39/50\n",
      "77/77 [==============================] - ETA: 0s - loss: 0.2070 - accuracy: 0.0000e+ - ETA: 0s - loss: 0.2519 - accuracy: 0.0000e+ - 0s 1ms/step - loss: 0.2545 - accuracy: 0.0000e+00\n",
      "Epoch 40/50\n",
      "77/77 [==============================] - ETA: 0s - loss: 0.2888 - accuracy: 0.0000e+ - ETA: 0s - loss: 0.2515 - accuracy: 0.0000e+ - 0s 1ms/step - loss: 0.2550 - accuracy: 0.0000e+00\n",
      "Epoch 41/50\n",
      "77/77 [==============================] - ETA: 0s - loss: 0.3184 - accuracy: 0.0000e+ - ETA: 0s - loss: 0.2637 - accuracy: 0.0000e+ - 0s 1ms/step - loss: 0.2601 - accuracy: 0.0000e+00\n",
      "Epoch 42/50\n",
      "77/77 [==============================] - ETA: 0s - loss: 0.2292 - accuracy: 0.0000e+ - ETA: 0s - loss: 0.2640 - accuracy: 0.0000e+ - ETA: 0s - loss: 0.2590 - accuracy: 0.0000e+ - 0s 1ms/step - loss: 0.2590 - accuracy: 0.0000e+00\n",
      "Epoch 43/50\n",
      "77/77 [==============================] - ETA: 0s - loss: 0.1920 - accuracy: 0.0000e+ - ETA: 0s - loss: 0.2521 - accuracy: 0.0000e+ - 0s 1ms/step - loss: 0.2531 - accuracy: 0.0000e+00\n",
      "Epoch 44/50\n",
      "77/77 [==============================] - ETA: 0s - loss: 0.3069 - accuracy: 0.0000e+ - ETA: 0s - loss: 0.2560 - accuracy: 0.0000e+ - 0s 1ms/step - loss: 0.2536 - accuracy: 0.0000e+00\n",
      "Epoch 45/50\n",
      "77/77 [==============================] - ETA: 0s - loss: 0.2869 - accuracy: 0.0000e+ - ETA: 0s - loss: 0.2572 - accuracy: 0.0000e+ - 0s 1ms/step - loss: 0.2554 - accuracy: 0.0000e+00\n",
      "Epoch 46/50\n",
      "77/77 [==============================] - ETA: 0s - loss: 0.2517 - accuracy: 0.0000e+ - ETA: 0s - loss: 0.2565 - accuracy: 0.0000e+ - 0s 1ms/step - loss: 0.2544 - accuracy: 0.0000e+00\n",
      "Epoch 47/50\n",
      "77/77 [==============================] - ETA: 0s - loss: 0.3159 - accuracy: 0.0000e+ - ETA: 0s - loss: 0.2536 - accuracy: 0.0000e+ - 0s 1ms/step - loss: 0.2527 - accuracy: 0.0000e+00\n",
      "Epoch 48/50\n",
      "77/77 [==============================] - ETA: 0s - loss: 0.2045 - accuracy: 0.0000e+ - ETA: 0s - loss: 0.2524 - accuracy: 0.0000e+ - 0s 1ms/step - loss: 0.2564 - accuracy: 0.0000e+00\n",
      "Epoch 49/50\n",
      "77/77 [==============================] - ETA: 0s - loss: 0.2484 - accuracy: 0.0000e+ - ETA: 0s - loss: 0.2563 - accuracy: 0.0000e+ - 0s 1ms/step - loss: 0.2578 - accuracy: 0.0000e+00\n",
      "Epoch 50/50\n",
      "77/77 [==============================] - ETA: 0s - loss: 0.2331 - accuracy: 0.0000e+ - ETA: 0s - loss: 0.2540 - accuracy: 0.0000e+ - 0s 1ms/step - loss: 0.2560 - accuracy: 0.0000e+00\n",
      "Saving artifact of size: 8.058 KB to Splice Machine DB\n",
      "bb3c158690b1\n",
      "Deploying model to database...\n"
     ]
    },
    {
     "name": "stderr",
     "output_type": "stream",
     "text": [
      "Passing in primary keys as a list of tuples is deprecated. Use dictionary {column name: type}\n"
     ]
    },
    {
     "name": "stdout",
     "output_type": "stream",
     "text": [
      "Your Job has been submitted. The returned value of this function is the job id, which you can use to monitor the your task in real-time. Run mlflow.watch_job(<job id>) tostream them to stdout, or mlflow.fetch_logs(<job id>) to read them one time to a list\n",
      "---Job Logs---\n",
      "INFO     2020-09-14 18:43:42.062 - A service worker has found your request\n",
      "INFO     2020-09-14 18:43:42.086 - Checking whether handler DEPLOY_DATABASE is enabled\n",
      "INFO     2020-09-14 18:43:42.117 - Handler is available\n",
      "INFO     2020-09-14 18:43:42.132 - Retrieving Run from MLFlow Tracking Server...INFO     2020-09-14 18:43:42.132 - Retrieving Run from MLFlow Tracking Server...\n",
      "INFO     2020-09-14 18:43:42.209 - Retrieved MLFlow Run\n",
      "INFO     2020-09-14 18:43:42.221 - Updating MLFlow Run for the UI\n",
      "INFO     2020-09-14 18:43:42.251 - Reading Model Artifact Stream from Splice Machine\n",
      "INFO     2020-09-14 18:43:42.262 - Extracting Model from DB with Name: keras_model\n",
      "INFO     2020-09-14 18:43:42.284 - Decoding Model Artifact Binary Stream for Deployment\n",
      "INFO     2020-09-14 18:43:42.302 - Decompressing Model Artifact\n",
      "INFO     2020-09-14 18:43:42.316 - Creating raw model representation from MLModel\n",
      "INFO     2020-09-14 18:43:42.328 - Reading MLModel Flavor from Extracted Archive\n",
      "INFO     2020-09-14 18:43:42.406 - Registering Raw Model Representation...\n",
      "INFO     2020-09-14 18:43:42.420 - Done.\n",
      "INFO     2020-09-14 18:43:42.433 - Adding Model Schema and DF...\n",
      "INFO     2020-09-14 18:43:42.471 - Creating Alternative Keras Representations\n",
      "INFO     2020-09-14 18:43:42.499 - Registering Serialized Representation\n",
      "INFO     2020-09-14 18:43:42.534 - Updating Artifact with serialized representation\n",
      "INFO     2020-09-14 18:43:42.547 - Preparing Model Metadata for Deployment...\n",
      "INFO     2020-09-14 18:43:42.558 - Preparing Keras Metadata for Deployment...\n",
      "WARNING  2020-09-14 18:43:42.571 - Classes were not specified... using ['class1', 'class2', 'class3'] as fallback\n",
      "INFO     2020-09-14 18:43:42.583 - Adding Schema String to model metadata...\n",
      "INFO     2020-09-14 18:43:42.602 - Starting 'creating model deployment table'...\n",
      "INFO     2020-09-14 18:43:42.642 - Executing\n",
      "CREATE TABLE ben.keras_multiclass (\n",
      "                CUR_USER VARCHAR(50) DEFAULT CURRENT_USER,\n",
      "                EVAL_TIME TIMESTAMP DEFAULT CURRENT_TIMESTAMP,\n",
      "                RUN_ID VARCHAR(50) DEFAULT 'bb3c158690b1',\n",
      "                C0 FLOAT, C1 FLOAT, C2 FLOAT, C3 FLOAT, C4 FLOAT, C5 FLOAT, C6 FLOAT, C7 FLOAT,MOMENT INT,\"prediction\" DOUBLE,\"class1\" DOUBLE,\"class2\" DOUBLE,\"class3\" DOUBLE,PRIMARY KEY(MOMENT))                C0 FLOAT, C1 FLOAT, C2 FLOAT, C3 FLOAT, C4 FLOAT, C5 FLOAT, C6 FLOAT, C7 FLOAT,MOMENT INT,\"prediction\" DOUBLE,\"class1\" DOUBLE,\"class2\" DOUBLE,\"class3\" DOUBLE,PRIMARY KEY(MOMENT))\n",
      "INFO     2020-09-14 18:43:43.467 - Done with 'creating model deployment table' [in 864.9227619171143 ms]\n",
      "INFO     2020-09-14 18:43:43.478 - Starting 'creating trigger'...\n",
      "INFO     2020-09-14 18:43:43.490 - Creating VTI Prediction Trigger...\n",
      "INFO     2020-09-14 18:43:43.502 - Executing\n",
      "CREATE TRIGGER ben.runModel_keras_multiclass_bb3c158690b1 \n",
      "                        AFTER INSERT ON ben.keras_multiclass REFERENCING NEW AS NEWROW FOR EACH ROW\n",
      "                        UPDATE ben.keras_multiclass SET (\"prediction\",\"class1\",\"class2\",\"class3\") = (SELECT b.\"prediction\",b.\"class1\",b.\"class2\",b.\"class3\" FROM new \"com.splicemachine.mlrunner.MLRunner\"('key_value', 'bb3c158690b1', TRIM(CAST(CAST(NEWROW.C0 as DECIMAL(38,10)) as CHAR(41)))||','||TRIM(CAST(CAST(NEWROW.C1 as DECIMAL(38,10)) as CHAR(41)))||','||TRIM(CAST(CAST(NEWROW.C2 as DECIMAL(38,10)) as CHAR(41)))||','||TRIM(CAST(CAST(NEWROW.C3 as DECIMAL(38,10)) as CHAR(41)))||','||TRIM(CAST(CAST(NEWROW.C4 as DECIMAL(38,10)) as CHAR(41)))||','||TRIM(CAST(CAST(NEWROW.C5 as DECIMAL(38,10)) as CHAR(41)))||','||TRIM(CAST(CAST(NEWROW.C6 as DECIMAL(38,10)) as CHAR(41)))||','||TRIM(CAST(CAST(NEWROW.C7 as DECIMAL(38,10)) as CHAR(41))), \n",
      "        'C0 FLOAT, C1 FLOAT, C2 FLOAT, C3 FLOAT, C4 FLOAT, C5 FLOAT, C6 FLOAT, C7 FLOAT') as b (\"prediction\" INT,\"class1\" DOUBLE,\"class2\" DOUBLE,\"class3\" DOUBLE) WHERE 1=1) WHERE MOMENT = NEWROW.MOMENT\n",
      "INFO     2020-09-14 18:43:43.795 - Done with 'creating trigger' [in 316.74909591674805 ms]\n",
      "INFO     2020-09-14 18:43:43.807 - Starting 'add model to metadata table'...\n",
      "INFO     2020-09-14 18:43:43.818 - Adding Model to Metadata table\n",
      "INFO     2020-09-14 18:43:43.892 - Executing SQL to insert Database Deployed Metadata\n",
      "INFO     2020-09-14 18:43:43.935 - Done executing.\n",
      "INFO     2020-09-14 18:43:43.947 - Done with 'add model to metadata table' [in 140.13314247131348 ms]\n",
      "INFO     2020-09-14 18:43:43.958 - Flushing\n",
      "WARNING  2020-09-14 18:43:43.970 - Committing Transaction to Database\n",
      "INFO     2020-09-14 18:43:44.006 - Committed.\n",
      "INFO     2020-09-14 18:43:44.017 - Cleaning up deployment\n",
      "INFO     2020-09-14 18:43:44.059 - Success! Target 'DEPLOY_DATABASE' completed successfully.\n",
      "INFO     2020-09-14 18:43:44.081 - TASK_COMPLETED"
     ]
    }
   ],
   "source": [
    "# first neural network with keras tutorial\n",
    "from numpy import loadtxt\n",
    "from tensorflow.keras.models import Sequential\n",
    "from tensorflow.keras.layers import Dense\n",
    "import pandas as pd\n",
    "import numpy as np\n",
    "from random import random\n",
    "\n",
    "with mlflow.start_run():\n",
    "    # load the dataset\n",
    "    dataset = loadtxt('data.csv', delimiter=',')\n",
    "    # split into input (X) and output (y) variables\n",
    "    X = dataset[:,0:8]\n",
    "    y = dataset[:,8]\n",
    "    # Make it a regression problem\n",
    "    y = np.array([random() for _ in y])\n",
    "    # define the keras model\n",
    "    model = Sequential()\n",
    "    model.add(Dense(12, input_dim=8, activation='relu'))\n",
    "    model.add(Dense(8, activation='relu'))\n",
    "    model.add(Dense(3, activation='sigmoid'))\n",
    "    # compile the keras model\n",
    "    model.compile(loss='mean_absolute_error', optimizer='adam', metrics=['accuracy'])\n",
    "    # fit the keras model on the dataset\n",
    "    model.fit(X, y, epochs=50, batch_size=10)\n",
    "\n",
    "#     model.save('simple_model_multiclass.h5')\n",
    "    mlflow.log_model(model, 'keras_model')\n",
    "    print(mlflow.current_run_id())\n",
    "    splice.dropTableIfExists(f'{schema}.keras_multiclass')\n",
    "    \n",
    "    run_id = mlflow.current_run_id()\n",
    "    \n",
    "    df = pd.DataFrame(X,columns=[f'C{i}' for i in range(len(X[0]))])\n",
    "    jid = mlflow.deploy_db(schema, 'keras_multiclass', mlflow.current_run_id(), primary_key=[('MOMENT', 'INT')], classes=['class1','class2','class3'],df=df, create_model_table=True)\n",
    "    mlflow.watch_job(jid)"
   ]
  },
  {
   "cell_type": "code",
   "execution_count": 24,
   "metadata": {},
   "outputs": [
    {
     "data": {
      "application/vnd.jupyter.widget-view+json": {
       "model_id": "bca50167-9b58-40d8-bc3f-7f541c2bd6c1",
       "version_major": 2,
       "version_minor": 0
      },
      "method": "display_data"
     },
     "metadata": {},
     "output_type": "display_data"
    },
    {
     "data": {
      "application/vnd.jupyter.widget-view+json": {
       "model_id": "dfddfddf-48ef-4927-b0e0-ace3706f5c7e",
       "version_major": 2,
       "version_minor": 0
      },
      "method": "display_data"
     },
     "metadata": {},
     "output_type": "display_data"
    },
    {
     "data": {
      "application/vnd.jupyter.widget-view+json": {
       "model_id": "df156d9e-5f3f-4be8-9c6c-5d08e80a7ea2",
       "version_major": 2,
       "version_minor": 0
      },
      "method": "display_data"
     },
     "metadata": {},
     "output_type": "display_data"
    },
    {
     "data": {
      "application/vnd.jupyter.widget-view+json": {
       "model_id": "d64e017e-8f81-4542-846c-91866a27355a",
       "version_major": 2,
       "version_minor": 0
      },
      "method": "display_data"
     },
     "metadata": {},
     "output_type": "display_data"
    },
    {
     "name": "stdout",
     "output_type": "stream",
     "text": [
      "CPU times: user 10 ms, sys: 6.2 ms, total: 16.2 ms\n",
      "Wall time: 2.43 s\n"
     ]
    }
   ],
   "source": [
    "%%time\n",
    "%%sql\n",
    "truncate table keras_multiclass;\n",
    "insert into keras_multiclass (c0,c1,c2,c3,c4,c5,c6,c7,moment) values(2.4,2.2,1.5,2.6,3.6,7.5,77.8,2.4,         34512);\n",
    "insert into keras_multiclass (c0,c1,c2,c3,c4,c5,c6,c7,moment) values(66.2,3.78,33.5,-23.4,22.3,0.1,19.3,-339.2,345);\n",
    "\n",
    "select * from keras_multiclass;\n",
    "select * into ${data_and_preds} from keras_multiclass;"
   ]
  },
  {
   "cell_type": "code",
   "execution_count": 39,
   "metadata": {
    "scrolled": true
   },
   "outputs": [
    {
     "name": "stderr",
     "output_type": "stream",
     "text": [
      "/opt/conda/lib/python3.7/site-packages/ipykernel/ipkernel.py:287: DeprecationWarning: `should_run_async` will not call `transform_cell` automatically in the future. Please pass the result to `transformed_cell` argument and any exception that happen during thetransform in `preprocessing_exc_tuple` in IPython 7.17 and above.\n",
      "  and should_run_async(code)\n"
     ]
    },
    {
     "name": "stdout",
     "output_type": "stream",
     "text": [
      "Likely rounding issue. Testing max precision\n",
      "Matched at precision 8\n",
      "Likely rounding issue. Testing max precision\n",
      "Matched at precision 7\n",
      "Likely rounding issue. Testing max precision\n",
      "Matched at precision 6\n",
      "Likely rounding issue. Testing max precision\n",
      "Matched at precision 6\n",
      "Likely rounding issue. Testing max precision\n",
      "Matched at precision 6\n",
      "Likely rounding issue. Testing max precision\n",
      "Matched at precision 6\n",
      "test passed!\n"
     ]
    }
   ],
   "source": [
    "from beakerx.object import beakerx\n",
    "\n",
    "data = beakerx.get('data_and_preds')\n",
    "\n",
    "features = data[['C0','C1','C2','C3','C4','C5','C6','C7']]\n",
    "db_preds = data[['prediction', 'class1', 'class2', 'class3']]\n",
    "\n",
    "#set in the deploy call\n",
    "threshold = 0.5\n",
    "\n",
    "raw_preds = list(model.predict(features))\n",
    "\n",
    "for db_pred, raw_pred in zip(db_preds.iterrows(), raw_preds):\n",
    "\n",
    "    # Add prediction\n",
    "    raw_pred = [list(raw_pred).index(max(raw_pred))] + list(raw_pred)\n",
    "    for db, raw in zip(db_pred[1], raw_pred):\n",
    "        l = min(len(str(raw)),len(str(db)),14) # Digit truncation\n",
    "        try:\n",
    "            assert round(float(db),l) == round(float(raw),l), f'Something is wrong. Model Table gives {round(float(db),l)} but raw model gives {round(float(raw),l)}'\n",
    "        except:\n",
    "            print('Likely rounding issue. Testing max precision')\n",
    "            for l in range(l,5,-1):\n",
    "                if round(float(db),l) == round(float(raw),l):\n",
    "                    print(f'Matched at precision {l}')\n",
    "                    break\n",
    "                if l == 6:\n",
    "                    raise Exception(f'Fields did not match. Model Table gives {round(float(db),l)} but raw model gives {round(float(raw),l)}')\n",
    "    \n",
    "print('test passed!')"
   ]
  },
  {
   "cell_type": "code",
   "execution_count": 40,
   "metadata": {},
   "outputs": [
    {
     "name": "stderr",
     "output_type": "stream",
     "text": [
      "/opt/conda/lib/python3.7/site-packages/ipykernel/ipkernel.py:287: DeprecationWarning: `should_run_async` will not call `transform_cell` automatically in the future. Please pass the result to `transformed_cell` argument and any exception that happen during thetransform in `preprocessing_exc_tuple` in IPython 7.17 and above.\n",
      "  and should_run_async(code)\n"
     ]
    }
   ],
   "source": [
    "spark.stop()"
   ]
  },
  {
   "cell_type": "code",
   "execution_count": null,
   "metadata": {},
   "outputs": [],
   "source": []
  }
 ],
 "metadata": {
  "kernelspec": {
   "display_name": "Python 3",
   "language": "python",
   "name": "python3"
  },
  "language_info": {
   "codemirror_mode": {
    "name": "ipython",
    "version": 3
   },
   "file_extension": ".py",
   "mimetype": "text/x-python",
   "name": "python",
   "nbconvert_exporter": "python",
   "pygments_lexer": "ipython3",
   "version": "3.7.8"
  },
  "toc": {
   "base_numbering": 1,
   "nav_menu": {},
   "number_sections": false,
   "sideBar": false,
   "skip_h1_title": false,
   "title_cell": "Table of Contents",
   "title_sidebar": "Contents",
   "toc_cell": false,
   "toc_position": {},
   "toc_section_display": false,
   "toc_window_display": false
  }
 },
 "nbformat": 4,
 "nbformat_minor": 4
}
