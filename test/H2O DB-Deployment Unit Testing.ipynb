{
 "cells": [
  {
   "cell_type": "code",
   "execution_count": 1,
   "metadata": {},
   "outputs": [],
   "source": [
    "from pyspark.sql import SparkSession\n",
    "from h2o.estimators import *\n",
    "from pysparkling import *\n",
    "import h2o\n",
    "import shutil\n",
    "from tqdm.notebook import tqdm\n",
    "spark = SparkSession.builder.getOrCreate()"
   ]
  },
  {
   "cell_type": "markdown",
   "metadata": {},
   "source": [
    "## Create H2O Sparkling Water cluster"
   ]
  },
  {
   "cell_type": "code",
   "execution_count": 2,
   "metadata": {
    "scrolled": true
   },
   "outputs": [
    {
     "name": "stdout",
     "output_type": "stream",
     "text": [
      "Connecting to H2O server at http://10.128.161.9:54321 ... successful.\n"
     ]
    },
    {
     "data": {
      "text/html": [
       "<div style=\"overflow:auto\"><table style=\"width:50%\"><tr><td>H2O cluster uptime:</td>\n",
       "<td>16 secs</td></tr>\n",
       "<tr><td>H2O cluster timezone:</td>\n",
       "<td>UTC</td></tr>\n",
       "<tr><td>H2O data parsing timezone:</td>\n",
       "<td>UTC</td></tr>\n",
       "<tr><td>H2O cluster version:</td>\n",
       "<td>3.28.1.2</td></tr>\n",
       "<tr><td>H2O cluster version age:</td>\n",
       "<td>5 months and 28 days !!!</td></tr>\n",
       "<tr><td>H2O cluster name:</td>\n",
       "<td>sparkling-water-jovyan_spark-application-1600109826852</td></tr>\n",
       "<tr><td>H2O cluster total nodes:</td>\n",
       "<td>2</td></tr>\n",
       "<tr><td>H2O cluster free memory:</td>\n",
       "<td>7.667 Gb</td></tr>\n",
       "<tr><td>H2O cluster total cores:</td>\n",
       "<td>32</td></tr>\n",
       "<tr><td>H2O cluster allowed cores:</td>\n",
       "<td>10</td></tr>\n",
       "<tr><td>H2O cluster status:</td>\n",
       "<td>locked, healthy</td></tr>\n",
       "<tr><td>H2O connection url:</td>\n",
       "<td>http://10.128.161.9:54321</td></tr>\n",
       "<tr><td>H2O connection proxy:</td>\n",
       "<td>None</td></tr>\n",
       "<tr><td>H2O internal security:</td>\n",
       "<td>False</td></tr>\n",
       "<tr><td>H2O API Extensions:</td>\n",
       "<td>XGBoost, Algos, Amazon S3, Sparkling Water REST API Extensions, AutoML, Core V3, TargetEncoder, Core V4</td></tr>\n",
       "<tr><td>Python version:</td>\n",
       "<td>3.7.8 final</td></tr></table></div>"
      ],
      "text/plain": [
       "--------------------------  -------------------------------------------------------------------------------------------------------\n",
       "H2O cluster uptime:         16 secs\n",
       "H2O cluster timezone:       UTC\n",
       "H2O data parsing timezone:  UTC\n",
       "H2O cluster version:        3.28.1.2\n",
       "H2O cluster version age:    5 months and 28 days !!!\n",
       "H2O cluster name:           sparkling-water-jovyan_spark-application-1600109826852\n",
       "H2O cluster total nodes:    2\n",
       "H2O cluster free memory:    7.667 Gb\n",
       "H2O cluster total cores:    32\n",
       "H2O cluster allowed cores:  10\n",
       "H2O cluster status:         locked, healthy\n",
       "H2O connection url:         http://10.128.161.9:54321\n",
       "H2O connection proxy:\n",
       "H2O internal security:      False\n",
       "H2O API Extensions:         XGBoost, Algos, Amazon S3, Sparkling Water REST API Extensions, AutoML, Core V3, TargetEncoder, Core V4\n",
       "Python version:             3.7.8 final\n",
       "--------------------------  -------------------------------------------------------------------------------------------------------"
      ]
     },
     "metadata": {},
     "output_type": "display_data"
    },
    {
     "name": "stdout",
     "output_type": "stream",
     "text": [
      "\n",
      "Sparkling Water Context:\n",
      " * Sparkling Water Version: 3.28.1.2-1-2.4\n",
      " * H2O name: sparkling-water-jovyan_spark-application-1600109826852\n",
      " * cluster size: 2\n",
      " * list of used nodes:\n",
      "  (executorId, host, port)\n",
      "  ------------------------\n",
      "  (1,10.128.161.171,54321)\n",
      "  (2,10.128.160.240,54321)\n",
      "  ------------------------\n",
      "\n",
      "  Open H2O Flow in browser: http://10.128.161.9:54321 (CMD + click in Mac OSX)\n",
      "\n",
      "    \n"
     ]
    }
   ],
   "source": [
    "conf = H2OConf().setInternalClusterMode()\n",
    "hc = H2OContext.getOrCreate(conf)"
   ]
  },
  {
   "cell_type": "code",
   "execution_count": 6,
   "metadata": {},
   "outputs": [],
   "source": [
    "from splicemachine.spark.context import PySpliceContext\n",
    "splice = PySpliceContext(spark)\n",
    "from splicemachine.mlflow_support import *\n",
    "from splicemachine.mlflow_support.utilities import get_user\n",
    "mlflow.register_splice_context(splice)\n",
    "mlflow.set_experiment('h2o deployment')\n",
    "schema = get_user()"
   ]
  },
  {
   "cell_type": "code",
   "execution_count": 11,
   "metadata": {},
   "outputs": [],
   "source": [
    "from beakerx.object import beakerx"
   ]
  },
  {
   "cell_type": "markdown",
   "metadata": {},
   "source": [
    "## GBM"
   ]
  },
  {
   "cell_type": "code",
   "execution_count": 7,
   "metadata": {
    "scrolled": true
   },
   "outputs": [
    {
     "name": "stdout",
     "output_type": "stream",
     "text": [
      "Parse progress: |█████████████████████████████████████████████████████████| 100%\n",
      "gbm Model Build progress: |███████████████████████████████████████████████| 100%\n",
      "deploying gbm\n",
      "Saving artifact of size: 65.013 KB to Splice Machine DB\n",
      "Deploying model to database...\n"
     ]
    },
    {
     "name": "stderr",
     "output_type": "stream",
     "text": [
      "Passing in primary keys as a list of tuples is deprecated. Use dictionary {column name: type}\n"
     ]
    },
    {
     "name": "stdout",
     "output_type": "stream",
     "text": [
      "Your Job has been submitted. The returned value of this function is the job id, which you can use to monitor the your task in real-time. Run mlflow.watch_job(<job id>) tostream them to stdout, or mlflow.fetch_logs(<job id>) to read them one time to a list\n",
      "---Job Logs---\n",
      "INFO     2020-09-14 18:58:43.994 - A service worker has found your request\n",
      "INFO     2020-09-14 18:58:44.012 - Checking whether handler DEPLOY_DATABASE is enabled\n",
      "INFO     2020-09-14 18:58:44.048 - Handler is available\n",
      "INFO     2020-09-14 18:58:44.062 - Retrieving Run from MLFlow Tracking Server...INFO     2020-09-14 18:58:44.062 - Retrieving Run from MLFlow Tracking Server...\n",
      "INFO     2020-09-14 18:58:44.133 - Retrieved MLFlow Run\n",
      "INFO     2020-09-14 18:58:44.145 - Updating MLFlow Run for the UI\n",
      "INFO     2020-09-14 18:58:44.174 - Reading Model Artifact Stream from Splice Machine\n",
      "INFO     2020-09-14 18:58:44.184 - Extracting Model from DB with Name: model\n",
      "INFO     2020-09-14 18:58:44.204 - Decoding Model Artifact Binary Stream for Deployment\n",
      "INFO     2020-09-14 18:58:44.222 - Decompressing Model Artifact\n",
      "INFO     2020-09-14 18:58:44.236 - Creating raw model representation from MLModel\n",
      "INFO     2020-09-14 18:58:44.247 - Reading MLModel Flavor from Extracted Archive\n",
      "INFO     2020-09-14 18:58:44.361 - Registering Raw Model Representation...\n",
      "INFO     2020-09-14 18:58:44.373 - Done.\n",
      "INFO     2020-09-14 18:58:44.385 - Adding Model Schema and DF...\n",
      "INFO     2020-09-14 18:58:44.489 - Adding Library Specific Representations...\n",
      "INFO     2020-09-14 18:58:44.503 - Adding Serialized Representation\n",
      "INFO     2020-09-14 18:58:44.594 - Updating Artifact with serialized representation\n",
      "INFO     2020-09-14 18:58:44.607 - Preparing Model Metadata for Deployment...\n",
      "INFO     2020-09-14 18:58:44.618 - Preparing H2O Model metadata for deployment\n",
      "INFO     2020-09-14 18:58:44.634 - Adding Schema String to model metadata...\n",
      "INFO     2020-09-14 18:58:44.652 - Starting 'creating model deployment table'...\n",
      "INFO     2020-09-14 18:58:44.689 - Executing\n",
      "CREATE TABLE ben.h2o_gbm (\n",
      "                CUR_USER VARCHAR(50) DEFAULT CURRENT_USER,\n",
      "                EVAL_TIME TIMESTAMP DEFAULT CURRENT_TIMESTAMP,\n",
      "                RUN_ID VARCHAR(50) DEFAULT '1934008dbd61',\n",
      "                sibsp TINYINT, sex VARCHAR(5000), age FLOAT,MOMENT_KEY INTEGER,PREDICTION VARCHAR(5000),\"C0\" DOUBLE,\"C1\" DOUBLE,PRIMARY KEY(MOMENT_KEY))                sibsp TINYINT, sex VARCHAR(5000), age FLOAT,MOMENT_KEY INTEGER,PREDICTION VARCHAR(5000),\"C0\" DOUBLE,\"C1\" DOUBLE,PRIMARY KEY(MOMENT_KEY))\n",
      "INFO     2020-09-14 18:58:45.506 - Done with 'creating model deployment table' [in 853.9621829986572 ms]\n",
      "INFO     2020-09-14 18:58:45.518 - Starting 'creating trigger'...\n",
      "INFO     2020-09-14 18:58:45.529 - Creating Prediction Trigger...\n",
      "INFO     2020-09-14 18:58:45.540 - Executing\n",
      "CREATE TRIGGER ben.runModel_h2o_gbm_1934008dbd61\n",
      "                           BEFORE INSERT ON ben.h2o_gbm REFERENCING NEW AS NEWROW \n",
      "                           FOR EACH ROW SET NEWROW.PREDICTION=MLMANAGER.PREDICT_CLASSIFICATION('1934008dbd61',TRIM(CAST(NEWROW.SIBSP as CHAR(41)))||','||NEWROW.SEX||','||TRIM(CAST(CAST(NEWROW.AGE as DECIMAL(38,10)) as CHAR(41))),\n",
      "'sibsp TINYINT, sex VARCHAR(5000), age FLOAT')\n",
      "INFO     2020-09-14 18:58:45.674 - Done with 'creating trigger' [in 156.19778633117676 ms]\n",
      "INFO     2020-09-14 18:58:45.685 - Starting 'create parsing trigger'...\n",
      "INFO     2020-09-14 18:58:45.697 - Creating parsing trigger...\n",
      "INFO     2020-09-14 18:58:45.708 - Executing\n",
      "CREATE TRIGGER ben.PARSERESULT_h2o_gbm_1934008dbd61                                 BEFORE INSERT ON ben.h2o_gbm REFERENCING NEW AS NEWROW                                 FOR EACH ROW set NEWROW.\"C0\"=MLMANAGER.PARSEPROBS(NEWROW.prediction,0),NEWROW.\"C1\"=MLMANAGER.PARSEPROBS(NEWROW.prediction,1),NEWROW.PREDICTION=   CASE   WHEN MLMANAGER.GETPREDICTION(NEWROW.prediction)=0 then 'C0'   WHEN MLMANAGER.GETPREDICTION(NEWROW.prediction)=1 then 'C1'   END;\n",
      "INFO     2020-09-14 18:58:45.969 - Done with 'create parsing trigger' [in 283.6804389953613 ms]\n",
      "INFO     2020-09-14 18:58:45.981 - Starting 'add model to metadata table'...\n",
      "INFO     2020-09-14 18:58:45.992 - Adding Model to Metadata table\n",
      "INFO     2020-09-14 18:58:46.070 - Executing SQL to insert Database Deployed Metadata\n",
      "INFO     2020-09-14 18:58:46.114 - Done executing.\n",
      "INFO     2020-09-14 18:58:46.126 - Done with 'add model to metadata table' [in 145.68233489990234 ms]\n",
      "INFO     2020-09-14 18:58:46.137 - Flushing\n",
      "WARNING  2020-09-14 18:58:46.149 - Committing Transaction to Database\n",
      "INFO     2020-09-14 18:58:46.191 - Committed.\n",
      "INFO     2020-09-14 18:58:46.203 - Cleaning up deployment\n",
      "INFO     2020-09-14 18:58:46.245 - Success! Target 'DEPLOY_DATABASE' completed successfully.\n",
      "INFO     2020-09-14 18:58:46.265 - TASK_COMPLETED"
     ]
    }
   ],
   "source": [
    "from h2o.estimators.gbm import H2OGradientBoostingEstimator\n",
    "from h2o.estimators.deeplearning import H2ODeepLearningEstimator\n",
    "\n",
    "\n",
    "# Import the titanic dataset into H2O:\n",
    "titanic = h2o.import_file(\"https://s3.amazonaws.com/h2o-public-test-data/smalldata/gbm_test/titanic.csv\")\n",
    "\n",
    "# Set the predictors and response; set the response as a factor:\n",
    "titanic[\"survived\"] = titanic[\"survived\"].asfactor()\n",
    "predictors = ['sibsp', 'sex', 'age']\n",
    "response = \"survived\"\n",
    "\n",
    "# Split the dataset into a train and valid set:\n",
    "train, valid = titanic.split_frame(ratios=[.8], seed=1234)\n",
    "\n",
    "\n",
    "model = H2OGradientBoostingEstimator(ntrees         =50,\n",
    "                                        max_depth      =6,\n",
    "                                        learn_rate     =0.1, \n",
    "                                        nfolds         =2)\n",
    "\n",
    "model.train(x               =predictors,\n",
    "               y               =response,\n",
    "               training_frame  =train,\n",
    "               validation_frame=valid\n",
    "               )\n",
    "\n",
    "\n",
    "print('deploying gbm')\n",
    "splice.dropTableIfExists(f'{schema}.h2o_gbm')\n",
    "\n",
    "with mlflow.start_run():\n",
    "    mlflow.log_model(model, 'model')\n",
    "    jid = mlflow.deploy_db(schema,'h2o_gbm',mlflow.current_run_id(), df=hc.asSparkFrame(train).select(predictors), create_model_table=True, primary_key=[('MOMENT_KEY','INTEGER')])\n",
    "    mlflow.watch_job(jid)"
   ]
  },
  {
   "cell_type": "code",
   "execution_count": 10,
   "metadata": {},
   "outputs": [
    {
     "data": {
      "application/vnd.jupyter.widget-view+json": {
       "model_id": "67e74dc7-85a5-423f-b2e0-657e678cea7c",
       "version_major": 2,
       "version_minor": 0
      },
      "method": "display_data"
     },
     "metadata": {},
     "output_type": "display_data"
    },
    {
     "data": {
      "application/vnd.jupyter.widget-view+json": {
       "model_id": "0b5d025e-04cd-45b9-a1a8-9faae793564d",
       "version_major": 2,
       "version_minor": 0
      },
      "method": "display_data"
     },
     "metadata": {},
     "output_type": "display_data"
    },
    {
     "data": {
      "application/vnd.jupyter.widget-view+json": {
       "model_id": "6aa64607-c6f6-4dd4-b87d-17289be87704",
       "version_major": 2,
       "version_minor": 0
      },
      "method": "display_data"
     },
     "metadata": {},
     "output_type": "display_data"
    }
   ],
   "source": [
    "%%sql\n",
    "\n",
    "insert into h2o_gbm (moment_key,sibsp,sex,age) values(0, 5,'female',2.496);\n",
    "insert into h2o_gbm (moment_key,sibsp,sex,age) values(1, 1,'male',-7.048);\n",
    "select * from h2o_gbm;\n",
    "select sibsp, sex, age, prediction, c0, c1 into ${data_and_preds} from h2o_gbm;\n"
   ]
  },
  {
   "cell_type": "code",
   "execution_count": 12,
   "metadata": {},
   "outputs": [
    {
     "name": "stdout",
     "output_type": "stream",
     "text": [
      "Parse progress: |█████████████████████████████████████████████████████████| 100%\n",
      "gbm prediction progress: |████████████████████████████████████████████████| 100%\n",
      "test passed!\n"
     ]
    }
   ],
   "source": [
    "data = beakerx.get('data_and_preds')\n",
    "\n",
    "features = h2o.H2OFrame(data[['SIBSP','SEX','AGE']])\n",
    "db_preds = data[['PREDICTION','C0','C1']]\n",
    "features.columns = [i.lower() for i in features.columns]\n",
    "\n",
    "raw_preds = model.predict(features).as_data_frame(use_pandas=True)\n",
    "\n",
    "\n",
    "\n",
    "for db_pred, raw_pred in zip(db_preds.iterrows(), raw_preds.iterrows()):\n",
    "    db_p, db_c0, db_c1 = db_pred[1]\n",
    "    raw_p, raw_c0, raw_c1 = raw_pred[1]\n",
    "    # Table returns string but h2o returns int index\n",
    "    raw_p = f'C{int(raw_p)}'\n",
    "    \n",
    "    assert db_p == raw_p, f'Something is wrong. Model Table gives {db_p} but raw model gives {raw_p}'\n",
    "    assert round(db_c0,14) == round(raw_c0,14), f'Something is wrong. Model Table gives {db_c0} but raw model gives {raw_c0}'\n",
    "    assert round(db_c1,14) == round(raw_c1,14), f'Something is wrong. Model Table gives {db_c1} but raw model gives {raw_c1}'\n",
    "\n",
    "print('test passed!')"
   ]
  },
  {
   "cell_type": "markdown",
   "metadata": {},
   "source": [
    "## Multinomial Model Example"
   ]
  },
  {
   "cell_type": "code",
   "execution_count": 13,
   "metadata": {
    "scrolled": true
   },
   "outputs": [
    {
     "name": "stdout",
     "output_type": "stream",
     "text": [
      "Parse progress: |█████████████████████████████████████████████████████████| 100%\n",
      "gbm Model Build progress: |███████████████████████████████████████████████| 100%\n",
      "deploying multinomial\n",
      "Saving artifact of size: 93.335 KB to Splice Machine DB\n",
      "Deploying model to database...\n"
     ]
    },
    {
     "name": "stderr",
     "output_type": "stream",
     "text": [
      "Passing in primary keys as a list of tuples is deprecated. Use dictionary {column name: type}\n"
     ]
    },
    {
     "name": "stdout",
     "output_type": "stream",
     "text": [
      "Your Job has been submitted. The returned value of this function is the job id, which you can use to monitor the your task in real-time. Run mlflow.watch_job(<job id>) tostream them to stdout, or mlflow.fetch_logs(<job id>) to read them one time to a list\n",
      "---Job Logs---\n",
      "INFO     2020-09-14 18:59:32.828 - A service worker has found your request\n",
      "INFO     2020-09-14 18:59:32.845 - Checking whether handler DEPLOY_DATABASE is enabled\n",
      "INFO     2020-09-14 18:59:32.872 - Handler is available\n",
      "INFO     2020-09-14 18:59:32.884 - Retrieving Run from MLFlow Tracking Server...\n",
      "INFO     2020-09-14 18:59:32.965 - Retrieved MLFlow RunINFO     2020-09-14 18:59:32.965 - Retrieved MLFlow Run\n",
      "INFO     2020-09-14 18:59:32.978 - Updating MLFlow Run for the UI\n",
      "INFO     2020-09-14 18:59:33.005 - Reading Model Artifact Stream from Splice Machine\n",
      "INFO     2020-09-14 18:59:33.016 - Extracting Model from DB with Name: model\n",
      "INFO     2020-09-14 18:59:33.038 - Decoding Model Artifact Binary Stream for Deployment\n",
      "INFO     2020-09-14 18:59:33.058 - Decompressing Model Artifact\n",
      "INFO     2020-09-14 18:59:33.071 - Creating raw model representation from MLModel\n",
      "INFO     2020-09-14 18:59:33.082 - Reading MLModel Flavor from Extracted Archive\n",
      "INFO     2020-09-14 18:59:33.154 - Registering Raw Model Representation...\n",
      "INFO     2020-09-14 18:59:33.165 - Done.\n",
      "INFO     2020-09-14 18:59:33.177 - Adding Model Schema and DF...\n",
      "INFO     2020-09-14 18:59:33.271 - Adding Library Specific Representations...\n",
      "INFO     2020-09-14 18:59:33.281 - Adding Serialized Representation\n",
      "INFO     2020-09-14 18:59:33.392 - Updating Artifact with serialized representation\n",
      "INFO     2020-09-14 18:59:33.406 - Preparing Model Metadata for Deployment...\n",
      "INFO     2020-09-14 18:59:33.416 - Preparing H2O Model metadata for deployment\n",
      "INFO     2020-09-14 18:59:33.433 - Adding Schema String to model metadata...\n",
      "INFO     2020-09-14 18:59:33.450 - Starting 'creating model deployment table'...\n",
      "INFO     2020-09-14 18:59:33.487 - Executing\n",
      "CREATE TABLE ben.h2o_multinomial (\n",
      "                CUR_USER VARCHAR(50) DEFAULT CURRENT_USER,\n",
      "                EVAL_TIME TIMESTAMP DEFAULT CURRENT_TIMESTAMP,\n",
      "                RUN_ID VARCHAR(50) DEFAULT '684a6f737b9e',\n",
      "                displacement FLOAT, power SMALLINT, weight SMALLINT, acceleration FLOAT, year_make TINYINT,MOMENT_KEY INTEGER,PREDICTION VARCHAR(5000),\"C3\" DOUBLE,\"C4\" DOUBLE,\"C5\" DOUBLE,\"C6\" DOUBLE,\"C8\" DOUBLE,PRIMARY KEY(MOMENT_KEY))                displacement FLOAT, power SMALLINT, weight SMALLINT, acceleration FLOAT, year_make TINYINT,MOMENT_KEY INTEGER,PREDICTION VARCHAR(5000),\"C3\" DOUBLE,\"C4\" DOUBLE,\"C5\" DOUBLE,\"C6\" DOUBLE,\"C8\" DOUBLE,PRIMARY KEY(MOMENT_KEY))\n",
      "INFO     2020-09-14 18:59:34.310 - Done with 'creating model deployment table' [in 859.9264621734619 ms]\n",
      "INFO     2020-09-14 18:59:34.321 - Starting 'creating trigger'...\n",
      "INFO     2020-09-14 18:59:34.332 - Creating Prediction Trigger...\n",
      "INFO     2020-09-14 18:59:34.343 - Executing\n",
      "CREATE TRIGGER ben.runModel_h2o_multinomial_684a6f737b9e\n",
      "                           BEFORE INSERT ON ben.h2o_multinomial REFERENCING NEW AS NEWROW \n",
      "                           FOR EACH ROW SET NEWROW.PREDICTION=MLMANAGER.PREDICT_CLASSIFICATION('684a6f737b9e',TRIM(CAST(CAST(NEWROW.DISPLACEMENT as DECIMAL(38,10)) as CHAR(41)))||','||TRIM(CAST(NEWROW.POWER as CHAR(41)))||','||TRIM(CAST(NEWROW.WEIGHT as CHAR(41)))||','||TRIM(CAST(CAST(NEWROW.ACCELERATION as DECIMAL(38,10)) as CHAR(41)))||','||TRIM(CAST(NEWROW.YEAR_MAKE as CHAR(41))),\n",
      "'displacement FLOAT, power SMALLINT, weight SMALLINT, acceleration FLOAT, year_make TINYINT')\n",
      "INFO     2020-09-14 18:59:34.508 - Done with 'creating trigger' [in 186.3572597503662 ms]\n",
      "INFO     2020-09-14 18:59:34.519 - Starting 'create parsing trigger'...\n",
      "INFO     2020-09-14 18:59:34.530 - Creating parsing trigger...\n",
      "INFO     2020-09-14 18:59:34.540 - Executing\n",
      "CREATE TRIGGER ben.PARSERESULT_h2o_multinomial_684a6f737b9e                                 BEFORE INSERT ON ben.h2o_multinomial REFERENCING NEW AS NEWROW                                 FOR EACH ROW set NEWROW.\"C3\"=MLMANAGER.PARSEPROBS(NEWROW.prediction,0),NEWROW.\"C4\"=MLMANAGER.PARSEPROBS(NEWROW.prediction,1),NEWROW.\"C5\"=MLMANAGER.PARSEPROBS(NEWROW.prediction,2),NEWROW.\"C6\"=MLMANAGER.PARSEPROBS(NEWROW.prediction,3),NEWROW.\"C8\"=MLMANAGER.PARSEPROBS(NEWROW.prediction,4),NEWROW.PREDICTION=   CASE   WHEN MLMANAGER.GETPREDICTION(NEWROW.prediction)=0 then 'C3'   WHEN MLMANAGER.GETPREDICTION(NEWROW.prediction)=1 then 'C4'   WHEN MLMANAGER.GETPREDICTION(NEWROW.prediction)=2 then 'C5'   WHEN MLMANAGER.GETPREDICTION(NEWROW.prediction)=3 then 'C6'   WHEN MLMANAGER.GETPREDICTION(NEWROW.prediction)=4 then 'C8'   END;\n",
      "INFO     2020-09-14 18:59:34.821 - Done with 'create parsing trigger' [in 301.21707916259766 ms]\n",
      "INFO     2020-09-14 18:59:34.832 - Starting 'add model to metadata table'...\n",
      "INFO     2020-09-14 18:59:34.844 - Adding Model to Metadata table\n",
      "INFO     2020-09-14 18:59:34.921 - Executing SQL to insert Database Deployed Metadata\n",
      "INFO     2020-09-14 18:59:34.963 - Done executing.\n",
      "INFO     2020-09-14 18:59:34.974 - Done with 'add model to metadata table' [in 141.90936088562012 ms]\n",
      "INFO     2020-09-14 18:59:34.984 - Flushing\n",
      "WARNING  2020-09-14 18:59:34.995 - Committing Transaction to Database\n",
      "INFO     2020-09-14 18:59:35.040 - Committed.\n",
      "INFO     2020-09-14 18:59:35.051 - Cleaning up deployment\n",
      "INFO     2020-09-14 18:59:35.091 - Success! Target 'DEPLOY_DATABASE' completed successfully.\n",
      "INFO     2020-09-14 18:59:35.110 - TASK_COMPLETED"
     ]
    }
   ],
   "source": [
    "cars = h2o.import_file(\"https://s3.amazonaws.com/h2o-public-test-data/smalldata/junit/cars_20mpg.csv\")\n",
    "cars[\"cylinders\"] = cars[\"cylinders\"].asfactor()\n",
    "r = cars[0].runif()\n",
    "train = cars[r > .2]\n",
    "valid = cars[r <= .2]\n",
    "response_col = \"cylinders\"\n",
    "distribution = \"multinomial\"\n",
    "predictors = [\"displacement\",\"power\",\"weight\",\"acceleration\",\"year_make\"]\n",
    "\n",
    "train.rename(columns={'year':'year_make'})\n",
    "\n",
    "model = H2OGradientBoostingEstimator(nfolds=3,\n",
    "                                   distribution=distribution)\n",
    "model.train(x=predictors,\n",
    "          y=response_col,\n",
    "          training_frame=train,\n",
    "          validation_frame=valid)\n",
    "\n",
    "\n",
    "\n",
    "print('deploying multinomial')\n",
    "splice.dropTableIfExists(f'{schema}.h2o_multinomial')\n",
    "\n",
    "with mlflow.start_run():\n",
    "    mlflow.log_model(model, 'model')\n",
    "    jid = mlflow.deploy_db(schema,'h2o_multinomial',mlflow.current_run_id(), df=hc.asSparkFrame(train).select(predictors), create_model_table=True, primary_key=[('MOMENT_KEY','INTEGER')])\n",
    "    mlflow.watch_job(jid)\n"
   ]
  },
  {
   "cell_type": "code",
   "execution_count": 14,
   "metadata": {
    "scrolled": true
   },
   "outputs": [
    {
     "data": {
      "application/vnd.jupyter.widget-view+json": {
       "model_id": "cf923971-1785-4b52-b320-8e1aee12febe",
       "version_major": 2,
       "version_minor": 0
      },
      "method": "display_data"
     },
     "metadata": {},
     "output_type": "display_data"
    },
    {
     "data": {
      "application/vnd.jupyter.widget-view+json": {
       "model_id": "706a40bf-e1d2-4023-8c78-dfc0ca615812",
       "version_major": 2,
       "version_minor": 0
      },
      "method": "display_data"
     },
     "metadata": {},
     "output_type": "display_data"
    },
    {
     "data": {
      "application/vnd.jupyter.widget-view+json": {
       "model_id": "8ffc8586-57a0-4ee6-b954-a9fbdf48db18",
       "version_major": 2,
       "version_minor": 0
      },
      "method": "display_data"
     },
     "metadata": {},
     "output_type": "display_data"
    }
   ],
   "source": [
    "%%sql\n",
    "\n",
    "insert into h2o_multinomial (displacement,power,weight,acceleration,year_make, moment_key) values(18,101,22,23.142,1,1 );\n",
    "insert into h2o_multinomial (displacement,power,weight,acceleration,year_make, moment_key) values(18,6,232,100,3,2);\n",
    "\n",
    "select * from h2o_multinomial;\n",
    "\n",
    "select displacement,power,weight,acceleration,year_make,prediction, c3,c4,c5,c6,c8 into ${data_and_preds} from h2o_multinomial;"
   ]
  },
  {
   "cell_type": "code",
   "execution_count": 15,
   "metadata": {},
   "outputs": [
    {
     "name": "stdout",
     "output_type": "stream",
     "text": [
      "Parse progress: |█████████████████████████████████████████████████████████| 100%\n",
      "gbm prediction progress: |████████████████████████████████████████████████| 100%\n",
      "test passed!\n"
     ]
    }
   ],
   "source": [
    "from beakerx.object import beakerx\n",
    "data = beakerx.get('data_and_preds')\n",
    "\n",
    "features = h2o.H2OFrame(data[['DISPLACEMENT','POWER','WEIGHT','ACCELERATION','YEAR_MAKE']])\n",
    "db_preds = data[['PREDICTION','C3','C4','C5','C6','C8']]\n",
    "features.columns = [i.lower() for i in features.columns]\n",
    "\n",
    "raw_preds = model.predict(features).as_data_frame(use_pandas=True)\n",
    "\n",
    "\n",
    "for db_pred, raw_pred in zip(db_preds.iterrows(), raw_preds.iterrows()):\n",
    "    db_p, db_c0, db_c1, db_c2, db_c3, db_c4 = db_pred[1]\n",
    "    raw_p, raw_c0, raw_c1, raw_c2, raw_c3, raw_c4 = raw_pred[1]\n",
    "    # Table returns string but h2o returns int index\n",
    "    raw_p = f'C{int(raw_p)}'\n",
    "    \n",
    "    assert db_p == raw_p, f'Something is wrong. Model Table gives {db_p} but raw model gives {raw_p}'\n",
    "    assert round(db_c0,14) == round(raw_c0,14), f'Something is wrong. Model Table gives {db_c0} but raw model gives {raw_c0}'\n",
    "    assert round(db_c1,14) == round(raw_c1,14), f'Something is wrong. Model Table gives {db_c1} but raw model gives {raw_c1}'\n",
    "    assert round(db_c2,14) == round(raw_c2,14), f'Something is wrong. Model Table gives {db_c1} but raw model gives {raw_c1}'\n",
    "    assert round(db_c3,14) == round(raw_c3,14), f'Something is wrong. Model Table gives {db_c1} but raw model gives {raw_c1}'\n",
    "    assert round(db_c4,14) == round(raw_c4,14), f'Something is wrong. Model Table gives {db_c1} but raw model gives {raw_c1}'\n",
    "\n",
    "print('test passed!')"
   ]
  },
  {
   "cell_type": "markdown",
   "metadata": {},
   "source": [
    "## Ordinal Model Example"
   ]
  },
  {
   "cell_type": "code",
   "execution_count": 16,
   "metadata": {
    "scrolled": true
   },
   "outputs": [
    {
     "name": "stdout",
     "output_type": "stream",
     "text": [
      "Parse progress: |█████████████████████████████████████████████████████████| 100%\n",
      "glm Model Build progress: |███████████████████████████████████████████████| 100%\n"
     ]
    },
    {
     "name": "stderr",
     "output_type": "stream",
     "text": [
      "Reached maximum number of iterations 50!\n"
     ]
    },
    {
     "name": "stdout",
     "output_type": "stream",
     "text": [
      "deploying ordinal\n",
      "Saving artifact of size: 6.704 KB to Splice Machine DB\n",
      "Deploying model to database...\n"
     ]
    },
    {
     "name": "stderr",
     "output_type": "stream",
     "text": [
      "Passing in primary keys as a list of tuples is deprecated. Use dictionary {column name: type}\n"
     ]
    },
    {
     "name": "stdout",
     "output_type": "stream",
     "text": [
      "Your Job has been submitted. The returned value of this function is the job id, which you can use to monitor the your task in real-time. Run mlflow.watch_job(<job id>) tostream them to stdout, or mlflow.fetch_logs(<job id>) to read them one time to a list\n",
      "---Job Logs---\n",
      "INFO     2020-09-14 18:59:58.598 - A service worker has found your request\n",
      "INFO     2020-09-14 18:59:58.615 - Checking whether handler DEPLOY_DATABASE is enabled\n",
      "INFO     2020-09-14 18:59:58.637 - Handler is available\n",
      "INFO     2020-09-14 18:59:58.649 - Retrieving Run from MLFlow Tracking Server...\n",
      "INFO     2020-09-14 18:59:58.718 - Retrieved MLFlow Run\n",
      "INFO     2020-09-14 18:59:58.729 - Updating MLFlow Run for the UIINFO     2020-09-14 18:59:58.729 - Updating MLFlow Run for the UI\n",
      "INFO     2020-09-14 18:59:58.759 - Reading Model Artifact Stream from Splice Machine\n",
      "INFO     2020-09-14 18:59:58.771 - Extracting Model from DB with Name: model\n",
      "INFO     2020-09-14 18:59:58.791 - Decoding Model Artifact Binary Stream for Deployment\n",
      "INFO     2020-09-14 18:59:58.808 - Decompressing Model Artifact\n",
      "INFO     2020-09-14 18:59:58.821 - Creating raw model representation from MLModel\n",
      "INFO     2020-09-14 18:59:58.832 - Reading MLModel Flavor from Extracted Archive\n",
      "INFO     2020-09-14 18:59:58.962 - Registering Raw Model Representation...\n",
      "INFO     2020-09-14 18:59:58.975 - Done.\n",
      "INFO     2020-09-14 18:59:58.988 - Adding Model Schema and DF...\n",
      "INFO     2020-09-14 18:59:59.054 - Adding Library Specific Representations...\n",
      "INFO     2020-09-14 18:59:59.064 - Adding Serialized Representation\n",
      "INFO     2020-09-14 18:59:59.102 - Updating Artifact with serialized representation\n",
      "INFO     2020-09-14 18:59:59.114 - Preparing Model Metadata for Deployment...\n",
      "INFO     2020-09-14 18:59:59.125 - Preparing H2O Model metadata for deployment\n",
      "INFO     2020-09-14 18:59:59.140 - Adding Schema String to model metadata...\n",
      "INFO     2020-09-14 18:59:59.155 - Starting 'creating model deployment table'...\n",
      "INFO     2020-09-14 18:59:59.192 - Executing\n",
      "CREATE TABLE ben.h2o_ordinal (\n",
      "                CUR_USER VARCHAR(50) DEFAULT CURRENT_USER,\n",
      "                EVAL_TIME TIMESTAMP DEFAULT CURRENT_TIMESTAMP,\n",
      "                RUN_ID VARCHAR(50) DEFAULT '49b409cb75e7',\n",
      "                displacement FLOAT, power SMALLINT, weight SMALLINT, acceleration FLOAT, year_make TINYINT,MOMENT_KEY INTEGER,PREDICTION VARCHAR(5000),\"C3\" DOUBLE,\"C4\" DOUBLE,\"C5\" DOUBLE,\"C6\" DOUBLE,\"C8\" DOUBLE,PRIMARY KEY(MOMENT_KEY))                displacement FLOAT, power SMALLINT, weight SMALLINT, acceleration FLOAT, year_make TINYINT,MOMENT_KEY INTEGER,PREDICTION VARCHAR(5000),\"C3\" DOUBLE,\"C4\" DOUBLE,\"C5\" DOUBLE,\"C6\" DOUBLE,\"C8\" DOUBLE,PRIMARY KEY(MOMENT_KEY))\n",
      "INFO     2020-09-14 19:00:00.012 - Done with 'creating model deployment table' [in 857.3334217071533 ms]\n",
      "INFO     2020-09-14 19:00:00.024 - Starting 'creating trigger'...\n",
      "INFO     2020-09-14 19:00:00.036 - Creating Prediction Trigger...\n",
      "INFO     2020-09-14 19:00:00.047 - Executing\n",
      "CREATE TRIGGER ben.runModel_h2o_ordinal_49b409cb75e7\n",
      "                           BEFORE INSERT ON ben.h2o_ordinal REFERENCING NEW AS NEWROW \n",
      "                           FOR EACH ROW SET NEWROW.PREDICTION=MLMANAGER.PREDICT_CLASSIFICATION('49b409cb75e7',TRIM(CAST(CAST(NEWROW.DISPLACEMENT as DECIMAL(38,10)) as CHAR(41)))||','||TRIM(CAST(NEWROW.POWER as CHAR(41)))||','||TRIM(CAST(NEWROW.WEIGHT as CHAR(41)))||','||TRIM(CAST(CAST(NEWROW.ACCELERATION as DECIMAL(38,10)) as CHAR(41)))||','||TRIM(CAST(NEWROW.YEAR_MAKE as CHAR(41))),\n",
      "'displacement FLOAT, power SMALLINT, weight SMALLINT, acceleration FLOAT, year_make TINYINT')\n",
      "INFO     2020-09-14 19:00:00.190 - Done with 'creating trigger' [in 166.08023643493652 ms]\n",
      "INFO     2020-09-14 19:00:00.201 - Starting 'create parsing trigger'...\n",
      "INFO     2020-09-14 19:00:00.212 - Creating parsing trigger...\n",
      "INFO     2020-09-14 19:00:00.224 - Executing\n",
      "CREATE TRIGGER ben.PARSERESULT_h2o_ordinal_49b409cb75e7                                 BEFORE INSERT ON ben.h2o_ordinal REFERENCING NEW AS NEWROW                                 FOR EACH ROW set NEWROW.\"C3\"=MLMANAGER.PARSEPROBS(NEWROW.prediction,0),NEWROW.\"C4\"=MLMANAGER.PARSEPROBS(NEWROW.prediction,1),NEWROW.\"C5\"=MLMANAGER.PARSEPROBS(NEWROW.prediction,2),NEWROW.\"C6\"=MLMANAGER.PARSEPROBS(NEWROW.prediction,3),NEWROW.\"C8\"=MLMANAGER.PARSEPROBS(NEWROW.prediction,4),NEWROW.PREDICTION=   CASE   WHEN MLMANAGER.GETPREDICTION(NEWROW.prediction)=0 then 'C3'   WHEN MLMANAGER.GETPREDICTION(NEWROW.prediction)=1 then 'C4'   WHEN MLMANAGER.GETPREDICTION(NEWROW.prediction)=2 then 'C5'   WHEN MLMANAGER.GETPREDICTION(NEWROW.prediction)=3 then 'C6'   WHEN MLMANAGER.GETPREDICTION(NEWROW.prediction)=4 then 'C8'   END;\n",
      "INFO     2020-09-14 19:00:00.477 - Done with 'create parsing trigger' [in 276.04079246520996 ms]\n",
      "INFO     2020-09-14 19:00:00.488 - Starting 'add model to metadata table'...\n",
      "INFO     2020-09-14 19:00:00.499 - Adding Model to Metadata table\n",
      "INFO     2020-09-14 19:00:00.567 - Executing SQL to insert Database Deployed Metadata\n",
      "INFO     2020-09-14 19:00:00.608 - Done executing.\n",
      "INFO     2020-09-14 19:00:00.621 - Done with 'add model to metadata table' [in 132.51829147338867 ms]\n",
      "INFO     2020-09-14 19:00:00.632 - Flushing\n",
      "WARNING  2020-09-14 19:00:00.643 - Committing Transaction to Database\n",
      "INFO     2020-09-14 19:00:00.688 - Committed.\n",
      "INFO     2020-09-14 19:00:00.700 - Cleaning up deployment\n",
      "INFO     2020-09-14 19:00:00.742 - Success! Target 'DEPLOY_DATABASE' completed successfully.\n",
      "INFO     2020-09-14 19:00:00.763 - TASK_COMPLETED"
     ]
    }
   ],
   "source": [
    "cars = h2o.import_file(\"https://s3.amazonaws.com/h2o-public-test-data/smalldata/junit/cars_20mpg.csv\")\n",
    "cars[\"cylinders\"] = cars[\"cylinders\"].asfactor()\n",
    "cars.rename(columns={'year':'year_make'})\n",
    "r = cars[0].runif()\n",
    "train = cars[r > .2]\n",
    "valid = cars[r <= .2]\n",
    "response = \"cylinders\"\n",
    "predictors = [\"displacement\",\"power\",\"weight\",\"acceleration\",\"year_make\"]\n",
    "model = H2OGeneralizedLinearEstimator(seed=1234,\n",
    "                                         family='ordinal')\n",
    "model.train(x=predictors,\n",
    "               y=response,\n",
    "               training_frame=train,\n",
    "               validation_frame=valid)\n",
    "\n",
    "\n",
    "print('deploying ordinal')\n",
    "splice.dropTableIfExists(f'{schema}.h2o_ordinal')\n",
    "\n",
    "with mlflow.start_run():\n",
    "    mlflow.log_model(model, 'model')\n",
    "    jid = mlflow.deploy_db(schema,'h2o_ordinal',mlflow.current_run_id(), df=hc.asSparkFrame(train).select(predictors), create_model_table=True, primary_key=[('MOMENT_KEY','INTEGER')])\n",
    "    mlflow.watch_job(jid)"
   ]
  },
  {
   "cell_type": "code",
   "execution_count": 17,
   "metadata": {},
   "outputs": [
    {
     "data": {
      "application/vnd.jupyter.widget-view+json": {
       "model_id": "1e22d319-b172-4ef4-8b84-0d27a833b274",
       "version_major": 2,
       "version_minor": 0
      },
      "method": "display_data"
     },
     "metadata": {},
     "output_type": "display_data"
    },
    {
     "data": {
      "application/vnd.jupyter.widget-view+json": {
       "model_id": "c66fe8e7-1543-44cb-b682-d1af9b0e720d",
       "version_major": 2,
       "version_minor": 0
      },
      "method": "display_data"
     },
     "metadata": {},
     "output_type": "display_data"
    },
    {
     "data": {
      "application/vnd.jupyter.widget-view+json": {
       "model_id": "e6efdf55-5f57-4e74-9d38-535eb3b14c68",
       "version_major": 2,
       "version_minor": 0
      },
      "method": "display_data"
     },
     "metadata": {},
     "output_type": "display_data"
    }
   ],
   "source": [
    "%%sql\n",
    "\n",
    "insert into h2o_ordinal (displacement,power,weight,acceleration,year_make, moment_key) values(18,101,22,23.142,1,1 );\n",
    "insert into h2o_ordinal (displacement,power,weight,acceleration,year_make, moment_key) values(18,6,232,100,3,2);\n",
    "\n",
    "select * from h2o_ordinal;\n",
    "\n",
    "select displacement,power,weight,acceleration,year_make,prediction, c3,c4,c5,c6,c8 into ${data_and_preds} from h2o_ordinal;"
   ]
  },
  {
   "cell_type": "code",
   "execution_count": 18,
   "metadata": {},
   "outputs": [
    {
     "name": "stdout",
     "output_type": "stream",
     "text": [
      "Parse progress: |█████████████████████████████████████████████████████████| 100%\n",
      "glm prediction progress: |████████████████████████████████████████████████| 100%\n",
      "test passed!\n"
     ]
    }
   ],
   "source": [
    "from beakerx.object import beakerx\n",
    "data = beakerx.get('data_and_preds')\n",
    "\n",
    "features = h2o.H2OFrame(data[['DISPLACEMENT','POWER','WEIGHT','ACCELERATION','YEAR_MAKE']])\n",
    "db_preds = data[['PREDICTION','C3','C4','C5','C6','C8']]\n",
    "features.columns = [i.lower() for i in features.columns]\n",
    "\n",
    "raw_preds = model.predict(features).as_data_frame(use_pandas=True)\n",
    "\n",
    "\n",
    "for db_pred, raw_pred in zip(db_preds.iterrows(), raw_preds.iterrows()):\n",
    "    db_p, db_c0, db_c1, db_c2, db_c3, db_c4 = db_pred[1]\n",
    "    raw_p, raw_c0, raw_c1, raw_c2, raw_c3, raw_c4 = raw_pred[1]\n",
    "    # Table returns string but h2o returns int index\n",
    "    raw_p = f'C{int(raw_p)}'\n",
    "    \n",
    "    assert db_p == raw_p, f'Something is wrong. Model Table gives {db_p} but raw model gives {raw_p}'\n",
    "    assert round(db_c0,14) == round(raw_c0,14), f'Something is wrong. Model Table gives {db_c0} but raw model gives {raw_c0}'\n",
    "    assert round(db_c1,14) == round(raw_c1,14), f'Something is wrong. Model Table gives {db_c1} but raw model gives {raw_c1}'\n",
    "    assert round(db_c2,14) == round(raw_c2,14), f'Something is wrong. Model Table gives {db_c1} but raw model gives {raw_c1}'\n",
    "    assert round(db_c3,14) == round(raw_c3,14), f'Something is wrong. Model Table gives {db_c1} but raw model gives {raw_c1}'\n",
    "    assert round(db_c4,14) == round(raw_c4,14), f'Something is wrong. Model Table gives {db_c1} but raw model gives {raw_c1}'\n",
    "\n",
    "print('test passed!')"
   ]
  },
  {
   "cell_type": "markdown",
   "metadata": {},
   "source": [
    "## Regression Model Example"
   ]
  },
  {
   "cell_type": "code",
   "execution_count": 19,
   "metadata": {},
   "outputs": [
    {
     "name": "stdout",
     "output_type": "stream",
     "text": [
      "Parse progress: |█████████████████████████████████████████████████████████| 100%\n",
      "gbm Model Build progress: |███████████████████████████████████████████████| 100%\n"
     ]
    },
    {
     "name": "stderr",
     "output_type": "stream",
     "text": [
      "PILLOW_VERSION is deprecated and will be removed in a future release. Use __version__ instead.\n"
     ]
    },
    {
     "data": {
      "image/png": "[encoded data removed]",
      "text/plain": [
       "<Figure size 432x288 with 1 Axes>"
      ]
     },
     "metadata": {
      "needs_background": "light"
     },
     "output_type": "display_data"
    },
    {
     "name": "stdout",
     "output_type": "stream",
     "text": [
      "deploying regression\n",
      "Saving artifact of size: 38.446 KB to Splice Machine DB\n",
      "Deploying model to database...\n"
     ]
    },
    {
     "name": "stderr",
     "output_type": "stream",
     "text": [
      "Passing in primary keys as a list of tuples is deprecated. Use dictionary {column name: type}\n"
     ]
    },
    {
     "name": "stdout",
     "output_type": "stream",
     "text": [
      "Your Job has been submitted. The returned value of this function is the job id, which you can use to monitor the your task in real-time. Run mlflow.watch_job(<job id>) tostream them to stdout, or mlflow.fetch_logs(<job id>) to read them one time to a list\n",
      "---Job Logs---\n",
      "INFO     2020-09-14 19:00:11.243 - A service worker has found your request\n",
      "INFO     2020-09-14 19:00:11.260 - Checking whether handler DEPLOY_DATABASE is enabled\n",
      "INFO     2020-09-14 19:00:11.284 - Handler is available\n",
      "INFO     2020-09-14 19:00:11.297 - Retrieving Run from MLFlow Tracking Server...\n",
      "INFO     2020-09-14 19:00:11.385 - Retrieved MLFlow RunINFO     2020-09-14 19:00:11.385 - Retrieved MLFlow Run\n",
      "INFO     2020-09-14 19:00:11.396 - Updating MLFlow Run for the UI\n",
      "INFO     2020-09-14 19:00:11.428 - Reading Model Artifact Stream from Splice Machine\n",
      "INFO     2020-09-14 19:00:11.439 - Extracting Model from DB with Name: model\n",
      "INFO     2020-09-14 19:00:11.460 - Decoding Model Artifact Binary Stream for Deployment\n",
      "INFO     2020-09-14 19:00:11.477 - Decompressing Model Artifact\n",
      "INFO     2020-09-14 19:00:11.490 - Creating raw model representation from MLModel\n",
      "INFO     2020-09-14 19:00:11.501 - Reading MLModel Flavor from Extracted Archive\n",
      "INFO     2020-09-14 19:00:11.562 - Registering Raw Model Representation...\n",
      "INFO     2020-09-14 19:00:11.572 - Done.\n",
      "INFO     2020-09-14 19:00:11.584 - Adding Model Schema and DF...\n",
      "INFO     2020-09-14 19:00:11.644 - Adding Library Specific Representations...\n",
      "INFO     2020-09-14 19:00:11.655 - Adding Serialized Representation\n",
      "INFO     2020-09-14 19:00:11.745 - Updating Artifact with serialized representation\n",
      "INFO     2020-09-14 19:00:11.758 - Preparing Model Metadata for Deployment...\n",
      "INFO     2020-09-14 19:00:11.768 - Preparing H2O Model metadata for deployment\n",
      "INFO     2020-09-14 19:00:11.779 - Adding Schema String to model metadata...\n",
      "INFO     2020-09-14 19:00:11.796 - Starting 'creating model deployment table'...\n",
      "INFO     2020-09-14 19:00:11.834 - Executing\n",
      "CREATE TABLE ben.h2o_regression (\n",
      "                CUR_USER VARCHAR(50) DEFAULT CURRENT_USER,\n",
      "                EVAL_TIME TIMESTAMP DEFAULT CURRENT_TIMESTAMP,\n",
      "                RUN_ID VARCHAR(50) DEFAULT '234a47c9e4b8',\n",
      "                displacement FLOAT, power SMALLINT, weight SMALLINT, acceleration FLOAT, year_make TINYINT,MOMENT_KEY INTEGER,PREDICTION DOUBLE,PRIMARY KEY(MOMENT_KEY))                displacement FLOAT, power SMALLINT, weight SMALLINT, acceleration FLOAT, year_make TINYINT,MOMENT_KEY INTEGER,PREDICTION DOUBLE,PRIMARY KEY(MOMENT_KEY))\n",
      "INFO     2020-09-14 19:00:12.636 - Done with 'creating model deployment table' [in 839.2093181610107 ms]\n",
      "INFO     2020-09-14 19:00:12.647 - Starting 'creating trigger'...\n",
      "INFO     2020-09-14 19:00:12.658 - Creating Prediction Trigger...\n",
      "INFO     2020-09-14 19:00:12.668 - Executing\n",
      "CREATE TRIGGER ben.runModel_h2o_regression_234a47c9e4b8\n",
      "                           BEFORE INSERT ON ben.h2o_regression REFERENCING NEW AS NEWROW \n",
      "                           FOR EACH ROW SET NEWROW.PREDICTION=MLMANAGER.PREDICT_REGRESSION('234a47c9e4b8',TRIM(CAST(CAST(NEWROW.DISPLACEMENT as DECIMAL(38,10)) as CHAR(41)))||','||TRIM(CAST(NEWROW.POWER as CHAR(41)))||','||TRIM(CAST(NEWROW.WEIGHT as CHAR(41)))||','||TRIM(CAST(CAST(NEWROW.ACCELERATION as DECIMAL(38,10)) as CHAR(41)))||','||TRIM(CAST(NEWROW.YEAR_MAKE as CHAR(41))),\n",
      "'displacement FLOAT, power SMALLINT, weight SMALLINT, acceleration FLOAT, year_make TINYINT')\n",
      "INFO     2020-09-14 19:00:12.796 - Done with 'creating trigger' [in 148.94437789916992 ms]\n",
      "INFO     2020-09-14 19:00:12.808 - Starting 'add model to metadata table'...\n",
      "INFO     2020-09-14 19:00:12.820 - Adding Model to Metadata table\n",
      "INFO     2020-09-14 19:00:12.898 - Executing SQL to insert Database Deployed Metadata\n",
      "INFO     2020-09-14 19:00:12.940 - Done executing.\n",
      "INFO     2020-09-14 19:00:12.951 - Done with 'add model to metadata table' [in 143.27001571655273 ms]\n",
      "INFO     2020-09-14 19:00:12.963 - Flushing\n",
      "WARNING  2020-09-14 19:00:12.974 - Committing Transaction to Database\n",
      "INFO     2020-09-14 19:00:13.009 - Committed.\n",
      "INFO     2020-09-14 19:00:13.020 - Cleaning up deployment\n",
      "INFO     2020-09-14 19:00:13.062 - Success! Target 'DEPLOY_DATABASE' completed successfully.\n",
      "INFO     2020-09-14 19:00:13.082 - TASK_COMPLETED"
     ]
    }
   ],
   "source": [
    "cars = h2o.import_file(\"https://s3.amazonaws.com/h2o-public-test-data/smalldata/junit/cars_20mpg.csv\")\n",
    "cars.rename(columns={'year':'year_make'})\n",
    "r = cars[0].runif()\n",
    "train = cars[r > .2]\n",
    "valid = cars[r <= .2]\n",
    "response_col = \"economy\"\n",
    "distribution = \"gaussian\"\n",
    "predictors = [\"displacement\",\"power\",\"weight\",\"acceleration\",\"year_make\"]\n",
    "model = H2OGradientBoostingEstimator(nfolds=3,\n",
    "                                   distribution=distribution,\n",
    "                                   fold_assignment=\"Random\")\n",
    "model.train(x=predictors,\n",
    "          y=response_col,\n",
    "          training_frame=train,\n",
    "          validation_frame=valid)\n",
    "model.plot(timestep=\"AUTO\", metric=\"AUTO\",)\n",
    "\n",
    "\n",
    "print('deploying regression')\n",
    "splice.dropTableIfExists(f'{schema}.h2o_regression')\n",
    "\n",
    "with mlflow.start_run():\n",
    "    mlflow.log_model(model, 'model')\n",
    "    jid = mlflow.deploy_db(schema,'h2o_regression',mlflow.current_run_id(), df=hc.asSparkFrame(train).select(predictors), create_model_table=True, primary_key=[('MOMENT_KEY','INTEGER')])\n",
    "    mlflow.watch_job(jid)"
   ]
  },
  {
   "cell_type": "code",
   "execution_count": 20,
   "metadata": {
    "scrolled": true
   },
   "outputs": [
    {
     "name": "stderr",
     "output_type": "stream",
     "text": [
      "`should_run_async` will not call `transform_cell` automatically in the future. Please pass the result to `transformed_cell` argument and any exception that happen during thetransform in `preprocessing_exc_tuple` in IPython 7.17 and above.\n"
     ]
    },
    {
     "data": {
      "application/vnd.jupyter.widget-view+json": {
       "model_id": "71bfd530-7101-4b7f-bfdd-dd96507d3105",
       "version_major": 2,
       "version_minor": 0
      },
      "method": "display_data"
     },
     "metadata": {},
     "output_type": "display_data"
    },
    {
     "data": {
      "application/vnd.jupyter.widget-view+json": {
       "model_id": "5e6de2e2-7142-495c-b8c4-4c20549de012",
       "version_major": 2,
       "version_minor": 0
      },
      "method": "display_data"
     },
     "metadata": {},
     "output_type": "display_data"
    },
    {
     "data": {
      "application/vnd.jupyter.widget-view+json": {
       "model_id": "15f50548-98b9-474a-b061-0e755840b127",
       "version_major": 2,
       "version_minor": 0
      },
      "method": "display_data"
     },
     "metadata": {},
     "output_type": "display_data"
    }
   ],
   "source": [
    "%%sql\n",
    "\n",
    "insert into h2o_regression (displacement,power,weight,acceleration,year_make, moment_key) values(18,101,22,23.142,1,1 );\n",
    "insert into h2o_regression (displacement,power,weight,acceleration,year_make, moment_key) values(18,6,232,100,3,2);\n",
    "\n",
    "select * from h2o_regression;\n",
    "\n",
    "select displacement,power,weight,acceleration,year_make,prediction into ${data_and_preds} from h2o_regression;"
   ]
  },
  {
   "cell_type": "code",
   "execution_count": 21,
   "metadata": {},
   "outputs": [
    {
     "name": "stdout",
     "output_type": "stream",
     "text": [
      "Parse progress: |█████████████████████████████████████████████████████████| 100%\n",
      "gbm prediction progress: |████████████████████████████████████████████████| 100%\n",
      "test passed!\n"
     ]
    }
   ],
   "source": [
    "from beakerx.object import beakerx\n",
    "data = beakerx.get('data_and_preds')\n",
    "\n",
    "features = h2o.H2OFrame(data[['DISPLACEMENT','POWER','WEIGHT','ACCELERATION','YEAR_MAKE']])\n",
    "db_preds = data[['PREDICTION']]\n",
    "features.columns = [i.lower() for i in features.columns]\n",
    "\n",
    "raw_preds = model.predict(features).as_data_frame(use_pandas=True)\n",
    "\n",
    "\n",
    "for db_pred, raw_pred in zip(db_preds.iterrows(), raw_preds.iterrows()):\n",
    "    db_p = db_pred[1]['PREDICTION']\n",
    "    raw_p = raw_pred[1]['predict']\n",
    "    \n",
    "    assert round(db_p,14) == round(raw_p,14), f'Something is wrong. Model Table gives {db_p} but raw model gives {raw_p}'\n",
    "\n",
    "print('test passed!')"
   ]
  },
  {
   "cell_type": "markdown",
   "metadata": {},
   "source": [
    "## HGLM Model example"
   ]
  },
  {
   "cell_type": "code",
   "execution_count": 22,
   "metadata": {
    "scrolled": true
   },
   "outputs": [
    {
     "name": "stdout",
     "output_type": "stream",
     "text": [
      "Parse progress: |█████████████████████████████████████████████████████████| 100%\n",
      "glm Model Build progress: |███████████████████████████████████████████████| 100%\n",
      "deploying hglm\n",
      "Saving artifact of size: 4.696 KB to Splice Machine DB\n",
      "Deploying model to database...\n"
     ]
    },
    {
     "name": "stderr",
     "output_type": "stream",
     "text": [
      "Passing in primary keys as a list of tuples is deprecated. Use dictionary {column name: type}\n"
     ]
    },
    {
     "name": "stdout",
     "output_type": "stream",
     "text": [
      "Your Job has been submitted. The returned value of this function is the job id, which you can use to monitor the your task in real-time. Run mlflow.watch_job(<job id>) tostream them to stdout, or mlflow.fetch_logs(<job id>) to read them one time to a list\n",
      "---Job Logs---\n",
      "INFO     2020-09-14 19:00:21.800 - A service worker has found your request\n",
      "INFO     2020-09-14 19:00:21.819 - Checking whether handler DEPLOY_DATABASE is enabled\n",
      "INFO     2020-09-14 19:00:21.842 - Handler is available\n",
      "INFO     2020-09-14 19:00:21.854 - Retrieving Run from MLFlow Tracking Server...\n",
      "INFO     2020-09-14 19:00:21.928 - Retrieved MLFlow Run\n",
      "INFO     2020-09-14 19:00:21.939 - Updating MLFlow Run for the UIINFO     2020-09-14 19:00:21.939 - Updating MLFlow Run for the UI\n",
      "INFO     2020-09-14 19:00:21.965 - Reading Model Artifact Stream from Splice Machine\n",
      "INFO     2020-09-14 19:00:21.975 - Extracting Model from DB with Name: model\n",
      "INFO     2020-09-14 19:00:21.996 - Decoding Model Artifact Binary Stream for Deployment\n",
      "INFO     2020-09-14 19:00:22.013 - Decompressing Model Artifact\n",
      "INFO     2020-09-14 19:00:22.025 - Creating raw model representation from MLModel\n",
      "INFO     2020-09-14 19:00:22.036 - Reading MLModel Flavor from Extracted Archive\n",
      "INFO     2020-09-14 19:00:22.089 - Registering Raw Model Representation...\n",
      "INFO     2020-09-14 19:00:22.101 - Done.\n",
      "INFO     2020-09-14 19:00:22.111 - Adding Model Schema and DF...\n",
      "INFO     2020-09-14 19:00:22.173 - Adding Library Specific Representations...\n",
      "INFO     2020-09-14 19:00:22.185 - Adding Serialized Representation\n",
      "INFO     2020-09-14 19:00:22.230 - Updating Artifact with serialized representation\n",
      "INFO     2020-09-14 19:00:22.242 - Preparing Model Metadata for Deployment...\n",
      "INFO     2020-09-14 19:00:22.252 - Preparing H2O Model metadata for deployment\n",
      "INFO     2020-09-14 19:00:22.265 - Adding Schema String to model metadata...\n",
      "INFO     2020-09-14 19:00:22.282 - Starting 'creating model deployment table'...\n",
      "INFO     2020-09-14 19:00:22.320 - Executing\n",
      "CREATE TABLE ben.h2o_hglm (\n",
      "                CUR_USER VARCHAR(50) DEFAULT CURRENT_USER,\n",
      "                EVAL_TIME TIMESTAMP DEFAULT CURRENT_TIMESTAMP,\n",
      "                RUN_ID VARCHAR(50) DEFAULT '0f49399ec02e',\n",
      "                displacement SMALLINT, power SMALLINT, weight SMALLINT, acceleration FLOAT, year_make TINYINT,MOMENT_KEY INTEGER,PREDICTION DOUBLE,PRIMARY KEY(MOMENT_KEY))                displacement SMALLINT, power SMALLINT, weight SMALLINT, acceleration FLOAT, year_make TINYINT,MOMENT_KEY INTEGER,PREDICTION DOUBLE,PRIMARY KEY(MOMENT_KEY))\n",
      "INFO     2020-09-14 19:00:23.126 - Done with 'creating model deployment table' [in 843.1756496429443 ms]\n",
      "INFO     2020-09-14 19:00:23.137 - Starting 'creating trigger'...\n",
      "INFO     2020-09-14 19:00:23.148 - Creating Prediction Trigger...\n",
      "INFO     2020-09-14 19:00:23.159 - Executing\n",
      "CREATE TRIGGER ben.runModel_h2o_hglm_0f49399ec02e\n",
      "                           BEFORE INSERT ON ben.h2o_hglm REFERENCING NEW AS NEWROW \n",
      "                           FOR EACH ROW SET NEWROW.PREDICTION=MLMANAGER.PREDICT_REGRESSION('0f49399ec02e',TRIM(CAST(NEWROW.DISPLACEMENT as CHAR(41)))||','||TRIM(CAST(NEWROW.POWER as CHAR(41)))||','||TRIM(CAST(NEWROW.WEIGHT as CHAR(41)))||','||TRIM(CAST(CAST(NEWROW.ACCELERATION as DECIMAL(38,10)) as CHAR(41)))||','||TRIM(CAST(NEWROW.YEAR_MAKE as CHAR(41))),\n",
      "'displacement SMALLINT, power SMALLINT, weight SMALLINT, acceleration FLOAT, year_make TINYINT')\n",
      "INFO     2020-09-14 19:00:23.279 - Done with 'creating trigger' [in 141.8139934539795 ms]\n",
      "INFO     2020-09-14 19:00:23.291 - Starting 'add model to metadata table'...\n",
      "INFO     2020-09-14 19:00:23.302 - Adding Model to Metadata table\n",
      "INFO     2020-09-14 19:00:23.365 - Executing SQL to insert Database Deployed Metadata\n",
      "INFO     2020-09-14 19:00:23.405 - Done executing.\n",
      "INFO     2020-09-14 19:00:23.417 - Done with 'add model to metadata table' [in 126.46842002868652 ms]\n",
      "INFO     2020-09-14 19:00:23.428 - Flushing\n",
      "WARNING  2020-09-14 19:00:23.438 - Committing Transaction to Database\n",
      "INFO     2020-09-14 19:00:23.471 - Committed.\n",
      "INFO     2020-09-14 19:00:23.485 - Cleaning up deployment\n",
      "INFO     2020-09-14 19:00:23.526 - Success! Target 'DEPLOY_DATABASE' completed successfully.\n",
      "INFO     2020-09-14 19:00:23.551 - TASK_COMPLETED"
     ]
    }
   ],
   "source": [
    "from h2o.estimators.glm import H2OGeneralizedLinearEstimator\n",
    "cars = h2o.import_file(\"https://s3.amazonaws.com/h2o-public-test-data/smalldata/junit/cars_20mpg.csv\")\n",
    "cars.rename(columns={'year':'year_make'})\n",
    "r = cars[0].runif()\n",
    "train = cars[r > .2]\n",
    "valid = cars[r <= .2]\n",
    "response = \"economy\"\n",
    "distribution = \"gaussian\"\n",
    "predictors = [\"displacement\",\"power\",\"weight\",\"acceleration\",\"year_make\"]\n",
    "model = H2OGeneralizedLinearEstimator(alpha=.25)\n",
    "model.train(x=predictors,\n",
    "                 y=response,\n",
    "                 training_frame=train,\n",
    "                 validation_frame=valid)\n",
    "\n",
    "\n",
    "print('deploying hglm')\n",
    "splice.dropTableIfExists(f'{schema}.h2o_hglm')\n",
    "\n",
    "while mlflow.active_run():\n",
    "    mlflow.end_run()\n",
    "\n",
    "with mlflow.start_run():\n",
    "    mlflow.log_model(model, 'model')\n",
    "    jid = mlflow.deploy_db(schema,'h2o_hglm',mlflow.current_run_id(), df=hc.asSparkFrame(train).select(predictors), create_model_table=True, primary_key=[('MOMENT_KEY','INTEGER')])\n",
    "    mlflow.watch_job(jid)"
   ]
  },
  {
   "cell_type": "code",
   "execution_count": 23,
   "metadata": {
    "scrolled": true
   },
   "outputs": [
    {
     "data": {
      "application/vnd.jupyter.widget-view+json": {
       "model_id": "c8f3a5cf-5ff7-427a-975d-6388e1ad1e9d",
       "version_major": 2,
       "version_minor": 0
      },
      "method": "display_data"
     },
     "metadata": {},
     "output_type": "display_data"
    },
    {
     "data": {
      "application/vnd.jupyter.widget-view+json": {
       "model_id": "1327f809-e217-4cf8-8b7a-324f147e2a57",
       "version_major": 2,
       "version_minor": 0
      },
      "method": "display_data"
     },
     "metadata": {},
     "output_type": "display_data"
    },
    {
     "data": {
      "application/vnd.jupyter.widget-view+json": {
       "model_id": "cae37d9c-156f-4d9d-95e8-8da93c8abadc",
       "version_major": 2,
       "version_minor": 0
      },
      "method": "display_data"
     },
     "metadata": {},
     "output_type": "display_data"
    }
   ],
   "source": [
    "%%sql\n",
    "\n",
    "insert into h2o_hglm (displacement,power,weight,acceleration,year_make, moment_key) values(18,101,22,23.142,1,1 );\n",
    "insert into h2o_hglm (displacement,power,weight,acceleration,year_make, moment_key) values(18,6,232,100,3,2);\n",
    "\n",
    "select * from h2o_hglm;\n",
    "\n",
    "select displacement,power,weight,acceleration,year_make,prediction into ${data_and_preds} from h2o_hglm;"
   ]
  },
  {
   "cell_type": "code",
   "execution_count": 24,
   "metadata": {},
   "outputs": [
    {
     "name": "stdout",
     "output_type": "stream",
     "text": [
      "Parse progress: |█████████████████████████████████████████████████████████| 100%\n",
      "glm prediction progress: |████████████████████████████████████████████████| 100%\n",
      "test passed!\n"
     ]
    }
   ],
   "source": [
    "from beakerx.object import beakerx\n",
    "data = beakerx.get('data_and_preds')\n",
    "\n",
    "features = h2o.H2OFrame(data[['DISPLACEMENT','POWER','WEIGHT','ACCELERATION','YEAR_MAKE']])\n",
    "db_preds = data[['PREDICTION']]\n",
    "features.columns = [i.lower() for i in features.columns]\n",
    "\n",
    "raw_preds = model.predict(features).as_data_frame(use_pandas=True)\n",
    "\n",
    "\n",
    "for db_pred, raw_pred in zip(db_preds.iterrows(), raw_preds.iterrows()):\n",
    "    db_p = db_pred[1]['PREDICTION']\n",
    "    raw_p = raw_pred[1]['predict']\n",
    "    \n",
    "    assert round(db_p,14) == round(raw_p,14), f'Something is wrong. Model Table gives {db_p} but raw model gives {raw_p}'\n",
    "\n",
    "print('test passed!')"
   ]
  },
  {
   "cell_type": "markdown",
   "metadata": {},
   "source": [
    "## Word2Vec example"
   ]
  },
  {
   "cell_type": "code",
   "execution_count": 25,
   "metadata": {
    "scrolled": true
   },
   "outputs": [
    {
     "name": "stdout",
     "output_type": "stream",
     "text": [
      "Parse progress: |█████████████████████████████████████████████████████████| 100%\n",
      "Build word2vec model\n",
      "word2vec Model Build progress: |██████████████████████████████████████████| 100%\n",
      "Sanity check - find synonyms for the word 'teacher'\n",
      "deploying w2v\n",
      "Saving artifact of size: 103.07 KB to Splice Machine DB\n",
      "Deploying model to database...\n"
     ]
    },
    {
     "name": "stderr",
     "output_type": "stream",
     "text": [
      "Passing in primary keys as a list of tuples is deprecated. Use dictionary {column name: type}\n"
     ]
    },
    {
     "name": "stdout",
     "output_type": "stream",
     "text": [
      "Your Job has been submitted. The returned value of this function is the job id, which you can use to monitor the your task in real-time. Run mlflow.watch_job(<job id>) tostream them to stdout, or mlflow.fetch_logs(<job id>) to read them one time to a list\n",
      "---Job Logs---\n",
      "INFO     2020-09-14 19:00:38.813 - A service worker has found your request\n",
      "INFO     2020-09-14 19:00:38.830 - Checking whether handler DEPLOY_DATABASE is enabled\n",
      "INFO     2020-09-14 19:00:38.855 - Handler is available\n",
      "INFO     2020-09-14 19:00:38.866 - Retrieving Run from MLFlow Tracking Server...INFO     2020-09-14 19:00:38.866 - Retrieving Run from MLFlow Tracking Server...\n",
      "INFO     2020-09-14 19:00:38.936 - Retrieved MLFlow Run\n",
      "INFO     2020-09-14 19:00:38.947 - Updating MLFlow Run for the UI\n",
      "INFO     2020-09-14 19:00:38.976 - Reading Model Artifact Stream from Splice Machine\n",
      "INFO     2020-09-14 19:00:38.986 - Extracting Model from DB with Name: model\n",
      "INFO     2020-09-14 19:00:39.007 - Decoding Model Artifact Binary Stream for Deployment\n",
      "INFO     2020-09-14 19:00:39.027 - Decompressing Model Artifact\n",
      "INFO     2020-09-14 19:00:39.040 - Creating raw model representation from MLModel\n",
      "INFO     2020-09-14 19:00:39.052 - Reading MLModel Flavor from Extracted Archive\n",
      "INFO     2020-09-14 19:00:39.118 - Registering Raw Model Representation...\n",
      "INFO     2020-09-14 19:00:39.130 - Done.\n",
      "INFO     2020-09-14 19:00:39.143 - Adding Model Schema and DF...\n",
      "INFO     2020-09-14 19:00:39.230 - Adding Library Specific Representations...\n",
      "INFO     2020-09-14 19:00:39.243 - Adding Serialized Representation\n",
      "INFO     2020-09-14 19:00:39.357 - Updating Artifact with serialized representation\n",
      "INFO     2020-09-14 19:00:39.369 - Preparing Model Metadata for Deployment...\n",
      "INFO     2020-09-14 19:00:39.381 - Preparing H2O Model metadata for deployment\n",
      "INFO     2020-09-14 19:00:39.417 - Adding Schema String to model metadata...\n",
      "INFO     2020-09-14 19:00:39.434 - Starting 'creating model deployment table'...\n",
      "INFO     2020-09-14 19:00:39.474 - Executing\n",
      "CREATE TABLE ben.h2o_w2v (\n",
      "                CUR_USER VARCHAR(50) DEFAULT CURRENT_USER,\n",
      "                EVAL_TIME TIMESTAMP DEFAULT CURRENT_TIMESTAMP,\n",
      "                RUN_ID VARCHAR(50) DEFAULT '03bb8954fd09',\n",
      "                word VARCHAR(5000),MOMENT_KEY INTEGER,\"word_C0\" DOUBLE,\"word_C1\" DOUBLE,\"word_C2\" DOUBLE,\"word_C3\" DOUBLE,\"word_C4\" DOUBLE,\"word_C5\" DOUBLE,\"word_C6\" DOUBLE,\"word_C7\" DOUBLE,\"word_C8\" DOUBLE,\"word_C9\" DOUBLE,\"word_C10\" DOUBLE,\"word_C11\" DOUBLE,\"word_C12\" DOUBLE,\"word_C13\" DOUBLE,\"word_C14\" DOUBLE,PRIMARY KEY(MOMENT_KEY))                word VARCHAR(5000),MOMENT_KEY INTEGER,\"word_C0\" DOUBLE,\"word_C1\" DOUBLE,\"word_C2\" DOUBLE,\"word_C3\" DOUBLE,\"word_C4\" DOUBLE,\"word_C5\" DOUBLE,\"word_C6\" DOUBLE,\"word_C7\" DOUBLE,\"word_C8\" DOUBLE,\"word_C9\" DOUBLE,\"word_C10\" DOUBLE,\"word_C11\" DOUBLE,\"word_C12\" DOUBLE,\"word_C13\" DOUBLE,\"word_C14\" DOUBLE,PRIMARY KEY(MOMENT_KEY))\n",
      "INFO     2020-09-14 19:00:40.302 - Done with 'creating model deployment table' [in 867.760181427002 ms]\n",
      "INFO     2020-09-14 19:00:40.313 - Starting 'creating trigger'...\n",
      "INFO     2020-09-14 19:00:40.325 - Creating VTI Prediction Trigger...\n",
      "INFO     2020-09-14 19:00:40.336 - Executing\n",
      "CREATE TRIGGER ben.runModel_h2o_w2v_03bb8954fd09 \n",
      "                        AFTER INSERT ON ben.h2o_w2v REFERENCING NEW AS NEWROW FOR EACH ROW\n",
      "                        UPDATE ben.h2o_w2v SET (\"word_C0\",\"word_C1\",\"word_C2\",\"word_C3\",\"word_C4\",\"word_C5\",\"word_C6\",\"word_C7\",\"word_C8\",\"word_C9\",\"word_C10\",\"word_C11\",\"word_C12\",\"word_C13\",\"word_C14\") = (SELECT b.\"word_C0\",b.\"word_C1\",b.\"word_C2\",b.\"word_C3\",b.\"word_C4\",b.\"word_C5\",b.\"word_C6\",b.\"word_C7\",b.\"word_C8\",b.\"word_C9\",b.\"word_C10\",b.\"word_C11\",b.\"word_C12\",b.\"word_C13\",b.\"word_C14\" FROM new \"com.splicemachine.mlrunner.MLRunner\"('key_value', '03bb8954fd09', NEWROW.WORD, \n",
      "        'word VARCHAR(5000)') as b (\"word_C0\" DOUBLE,\"word_C1\" DOUBLE,\"word_C2\" DOUBLE,\"word_C3\" DOUBLE,\"word_C4\" DOUBLE,\"word_C5\" DOUBLE,\"word_C6\" DOUBLE,\"word_C7\" DOUBLE,\"word_C8\" DOUBLE,\"word_C9\" DOUBLE,\"word_C10\" DOUBLE,\"word_C11\" DOUBLE,\"word_C12\" DOUBLE,\"word_C13\" DOUBLE,\"word_C14\" DOUBLE) WHERE 1=1) WHERE MOMENT_KEY = NEWROW.MOMENT_KEY\n",
      "INFO     2020-09-14 19:00:40.626 - Done with 'creating trigger' [in 312.9148483276367 ms]\n",
      "INFO     2020-09-14 19:00:40.638 - Starting 'add model to metadata table'...\n",
      "INFO     2020-09-14 19:00:40.649 - Adding Model to Metadata table\n",
      "INFO     2020-09-14 19:00:40.728 - Executing SQL to insert Database Deployed Metadata\n",
      "INFO     2020-09-14 19:00:40.773 - Done executing.\n",
      "INFO     2020-09-14 19:00:40.785 - Done with 'add model to metadata table' [in 146.6517448425293 ms]\n",
      "INFO     2020-09-14 19:00:40.796 - Flushing\n",
      "WARNING  2020-09-14 19:00:40.807 - Committing Transaction to Database\n",
      "INFO     2020-09-14 19:00:40.843 - Committed.\n",
      "INFO     2020-09-14 19:00:40.855 - Cleaning up deployment\n",
      "INFO     2020-09-14 19:00:40.898 - Success! Target 'DEPLOY_DATABASE' completed successfully.\n",
      "INFO     2020-09-14 19:00:40.918 - TASK_COMPLETED"
     ]
    }
   ],
   "source": [
    "from h2o.estimators.word2vec import H2OWord2vecEstimator\n",
    "job_titles_path = \"https://raw.githubusercontent.com/h2oai/sparkling-water/rel-1.6/examples/smalldata/craigslistJobTitles.csv\"\n",
    "job_titles = h2o.import_file(job_titles_path, destination_frame = \"jobtitles\",\n",
    "                             col_names = [\"category\", \"jobtitle\"], col_types = [\"enum\", \"string\"], header = 1)\n",
    "STOP_WORDS = [\"ax\",\"i\",\"you\",\"edu\",\"s\",\"t\",\"m\",\"subject\",\"can\",\"lines\",\"re\",\"what\",\n",
    "               \"there\",\"all\",\"we\",\"one\",\"the\",\"a\",\"an\",\"of\",\"or\",\"in\",\"for\",\"by\",\"on\",\n",
    "               \"but\",\"is\",\"in\",\"a\",\"not\",\"with\",\"as\",\"was\",\"if\",\"they\",\"are\",\"this\",\"and\",\"it\",\"have\",\n",
    "               \"from\",\"at\",\"my\",\"be\",\"by\",\"not\",\"that\",\"to\",\"from\",\"com\",\"org\",\"like\",\"likes\",\"so\"]\n",
    "\n",
    "def tokenize(sentences, stop_word = STOP_WORDS):\n",
    "    tokenized = sentences.tokenize(\"\\\\W+\")\n",
    "    tokenized_lower = tokenized.tolower()\n",
    "    tokenized_filtered = tokenized_lower[(tokenized_lower.nchar() >= 2) | (tokenized_lower.isna()),:]\n",
    "    tokenized_words = tokenized_filtered[tokenized_filtered.grep(\"[0-9]\",invert=True,output_logical=True),:]\n",
    "    tokenized_words = tokenized_words[(tokenized_words.isna()) | (~ tokenized_words.isin(STOP_WORDS)),:]\n",
    "    return tokenized_words\n",
    "\n",
    "\n",
    "words = tokenize(job_titles[\"jobtitle\"])\n",
    "words.columns = ['word']\n",
    "\n",
    "print(\"Build word2vec model\")\n",
    "model = H2OWord2vecEstimator(sent_sample_rate = 0.0, epochs = 10, vec_size=15)\n",
    "model.train(training_frame=words)\n",
    "\n",
    "\n",
    "print(\"Sanity check - find synonyms for the word 'teacher'\")\n",
    "model.find_synonyms(\"teacher\", count = 5)\n",
    "\n",
    "print('deploying w2v')\n",
    "splice.dropTableIfExists(f'{schema}.h2o_w2v')\n",
    "\n",
    "while mlflow.active_run():\n",
    "    mlflow.end_run()\n",
    "\n",
    "with mlflow.start_run():\n",
    "    mlflow.log_model(model, 'model')\n",
    "    jid = mlflow.deploy_db(schema,'h2o_w2v',mlflow.current_run_id(), df=hc.asSparkFrame(words), create_model_table=True, primary_key=[('MOMENT_KEY','INTEGER')])\n",
    "    mlflow.watch_job(jid)"
   ]
  },
  {
   "cell_type": "code",
   "execution_count": 26,
   "metadata": {},
   "outputs": [
    {
     "data": {
      "application/vnd.jupyter.widget-view+json": {
       "model_id": "5236e79f-4965-478b-ba2d-356ccc8bd8f3",
       "version_major": 2,
       "version_minor": 0
      },
      "method": "display_data"
     },
     "metadata": {},
     "output_type": "display_data"
    },
    {
     "data": {
      "application/vnd.jupyter.widget-view+json": {
       "model_id": "ab701130-3b7b-4612-a310-9047dc067a15",
       "version_major": 2,
       "version_minor": 0
      },
      "method": "display_data"
     },
     "metadata": {},
     "output_type": "display_data"
    },
    {
     "data": {
      "application/vnd.jupyter.widget-view+json": {
       "model_id": "b9ecf0ff-660d-4b6d-9ad4-023d56fc8395",
       "version_major": 2,
       "version_minor": 0
      },
      "method": "display_data"
     },
     "metadata": {},
     "output_type": "display_data"
    },
    {
     "data": {
      "application/vnd.jupyter.widget-view+json": {
       "model_id": "ffe82229-dab5-4591-b591-b2d7c1d05f18",
       "version_major": 2,
       "version_minor": 0
      },
      "method": "display_data"
     },
     "metadata": {},
     "output_type": "display_data"
    }
   ],
   "source": [
    "%%sql\n",
    "insert into h2o_w2v (word, moment_key) values('teacher', 1);\n",
    "insert into h2o_w2v (word, moment_key) values('teachers', 2);\n",
    "insert into h2o_w2v (word, moment_key) values('elementary', 3);\n",
    "\n",
    "select * from h2o_w2v;\n",
    "select * into ${data_and_preds} from h2o_w2v;"
   ]
  },
  {
   "cell_type": "code",
   "execution_count": 27,
   "metadata": {
    "scrolled": true
   },
   "outputs": [
    {
     "name": "stdout",
     "output_type": "stream",
     "text": [
      "Parse progress: |█████████████████████████████████████████████████████████| 100%\n",
      "test passed!\n"
     ]
    }
   ],
   "source": [
    "from beakerx.object import beakerx\n",
    "data = beakerx.get('data_and_preds')\n",
    "\n",
    "features = h2o.H2OFrame(data[['WORD']])\n",
    "db_preds = data[['word_C0','word_C1','word_C2','word_C3','word_C4','word_C5','word_C6','word_C7','word_C8','word_C9','word_C10','word_C11','word_C12','word_C13','word_C14']]\n",
    "features.columns = [i.lower() for i in features.columns]\n",
    "\n",
    "raw_preds = model.transform(features,aggregate_method=None).as_data_frame(use_pandas=True)\n",
    "\n",
    "\n",
    "for db_pred, raw_pred in zip(db_preds.iterrows(), raw_preds.iterrows()):\n",
    "#     db_p, db_c0, db_c1, db_c2, db_c3, db_c4 = db_pred[1]\n",
    "#     raw_p, raw_c0, raw_c1, raw_c2, raw_c3, raw_c4 = raw_pred[1]\n",
    "    # Table returns string but h2o returns int index\n",
    "    for db, raw in zip(db_pred[1], raw_pred[1]):\n",
    "        assert round(db,14) == round(raw,14), f'Something is wrong. Model Table gives {db} but raw model gives {raw}'\n",
    "\n",
    "print('test passed!')"
   ]
  },
  {
   "cell_type": "markdown",
   "metadata": {},
   "source": [
    "## AutoEncoder Example"
   ]
  },
  {
   "cell_type": "code",
   "execution_count": 28,
   "metadata": {
    "scrolled": true
   },
   "outputs": [
    {
     "name": "stdout",
     "output_type": "stream",
     "text": [
      "Parse progress: |█████████████████████████████████████████████████████████| 100%\n",
      "Parse progress: |█████████████████████████████████████████████████████████| 100%\n",
      "deeplearning Model Build progress: |██████████████████████████████████████| 100%\n"
     ]
    },
    {
     "data": {
      "text/html": [
       "<table>\n",
       "<thead>\n",
       "<tr><th style=\"text-align: right;\">  reconstr_C1.SE</th><th style=\"text-align: right;\">  reconstr_C2.SE</th><th style=\"text-align: right;\">  reconstr_C3.SE</th><th style=\"text-align: right;\">  reconstr_C4.SE</th><th style=\"text-align: right;\">  reconstr_C5.SE</th><th style=\"text-align: right;\">  reconstr_C6.SE</th></tr>\n",
       "</thead>\n",
       "<tbody>\n",
       "<tr><td style=\"text-align: right;\">      0.00625005</td><td style=\"text-align: right;\">     0.00178383 </td><td style=\"text-align: right;\">      0.153441  </td><td style=\"text-align: right;\">     0.0173554  </td><td style=\"text-align: right;\">     0.00383831 </td><td style=\"text-align: right;\">     0.000957371</td></tr>\n",
       "<tr><td style=\"text-align: right;\">      0.0553904 </td><td style=\"text-align: right;\">     0.223157   </td><td style=\"text-align: right;\">      0.0930231 </td><td style=\"text-align: right;\">     0.0175282  </td><td style=\"text-align: right;\">     2.58998e-07</td><td style=\"text-align: right;\">     0.0505844  </td></tr>\n",
       "<tr><td style=\"text-align: right;\">      0.0824846 </td><td style=\"text-align: right;\">     0.0618938  </td><td style=\"text-align: right;\">      0.154038  </td><td style=\"text-align: right;\">     0.10272    </td><td style=\"text-align: right;\">     0.0647235  </td><td style=\"text-align: right;\">     0.0337203  </td></tr>\n",
       "<tr><td style=\"text-align: right;\">      0.0112721 </td><td style=\"text-align: right;\">     0.0791058  </td><td style=\"text-align: right;\">      0.00265181</td><td style=\"text-align: right;\">     0.133522   </td><td style=\"text-align: right;\">     0.0783631  </td><td style=\"text-align: right;\">     0.00393955 </td></tr>\n",
       "<tr><td style=\"text-align: right;\">      0.0012635 </td><td style=\"text-align: right;\">     0.00382478 </td><td style=\"text-align: right;\">      0.035192  </td><td style=\"text-align: right;\">     0.00266859 </td><td style=\"text-align: right;\">     0.0562888  </td><td style=\"text-align: right;\">     0.00127272 </td></tr>\n",
       "<tr><td style=\"text-align: right;\">      0.0165973 </td><td style=\"text-align: right;\">     0.103392   </td><td style=\"text-align: right;\">      0.00279232</td><td style=\"text-align: right;\">     0.000164343</td><td style=\"text-align: right;\">     0.131857   </td><td style=\"text-align: right;\">     0.000241441</td></tr>\n",
       "<tr><td style=\"text-align: right;\">      0.00350217</td><td style=\"text-align: right;\">     0.306312   </td><td style=\"text-align: right;\">      0.0857734 </td><td style=\"text-align: right;\">     0.147358   </td><td style=\"text-align: right;\">     0.078604   </td><td style=\"text-align: right;\">     0.00982496 </td></tr>\n",
       "<tr><td style=\"text-align: right;\">      0.0141866 </td><td style=\"text-align: right;\">     0.00295695 </td><td style=\"text-align: right;\">      0.120334  </td><td style=\"text-align: right;\">     0.037098   </td><td style=\"text-align: right;\">     0.0628226  </td><td style=\"text-align: right;\">     0.000890948</td></tr>\n",
       "<tr><td style=\"text-align: right;\">      0.0212384 </td><td style=\"text-align: right;\">     0.000713439</td><td style=\"text-align: right;\">      0.0412403 </td><td style=\"text-align: right;\">     0.120871   </td><td style=\"text-align: right;\">     0.0647046  </td><td style=\"text-align: right;\">     0.0628532  </td></tr>\n",
       "<tr><td style=\"text-align: right;\">      0.00409135</td><td style=\"text-align: right;\">     6.63347e-05</td><td style=\"text-align: right;\">      0.0147051 </td><td style=\"text-align: right;\">     0.0232482  </td><td style=\"text-align: right;\">     0.0251209  </td><td style=\"text-align: right;\">     0.00552091 </td></tr>\n",
       "</tbody>\n",
       "</table>"
      ]
     },
     "metadata": {},
     "output_type": "display_data"
    },
    {
     "name": "stdout",
     "output_type": "stream",
     "text": [
      "\n",
      "deeplearning prediction progress: |███████████████████████████████████████| 100%\n",
      "deploying autoencoder\n",
      "Saving artifact of size: 6.836 KB to Splice Machine DB\n",
      "Deploying model to database...\n"
     ]
    },
    {
     "name": "stderr",
     "output_type": "stream",
     "text": [
      "Passing in primary keys as a list of tuples is deprecated. Use dictionary {column name: type}\n"
     ]
    },
    {
     "name": "stdout",
     "output_type": "stream",
     "text": [
      "Your Job has been submitted. The returned value of this function is the job id, which you can use to monitor the your task in real-time. Run mlflow.watch_job(<job id>) tostream them to stdout, or mlflow.fetch_logs(<job id>) to read them one time to a list\n",
      "---Job Logs---\n",
      "INFO     2020-09-14 19:00:54.669 - A service worker has found your request\n",
      "INFO     2020-09-14 19:00:54.685 - Checking whether handler DEPLOY_DATABASE is enabled\n",
      "INFO     2020-09-14 19:00:54.709 - Handler is available\n",
      "INFO     2020-09-14 19:00:54.721 - Retrieving Run from MLFlow Tracking Server...\n",
      "INFO     2020-09-14 19:00:54.799 - Retrieved MLFlow RunINFO     2020-09-14 19:00:54.799 - Retrieved MLFlow Run\n",
      "INFO     2020-09-14 19:00:54.809 - Updating MLFlow Run for the UI\n",
      "INFO     2020-09-14 19:00:54.835 - Reading Model Artifact Stream from Splice Machine\n",
      "INFO     2020-09-14 19:00:54.845 - Extracting Model from DB with Name: model\n",
      "INFO     2020-09-14 19:00:54.864 - Decoding Model Artifact Binary Stream for Deployment\n",
      "INFO     2020-09-14 19:00:54.880 - Decompressing Model Artifact\n",
      "INFO     2020-09-14 19:00:54.893 - Creating raw model representation from MLModel\n",
      "INFO     2020-09-14 19:00:54.906 - Reading MLModel Flavor from Extracted Archive\n",
      "INFO     2020-09-14 19:00:55.035 - Registering Raw Model Representation...\n",
      "INFO     2020-09-14 19:00:55.048 - Done.\n",
      "INFO     2020-09-14 19:00:55.063 - Adding Model Schema and DF...\n",
      "INFO     2020-09-14 19:00:55.125 - Adding Library Specific Representations...\n",
      "INFO     2020-09-14 19:00:55.135 - Adding Serialized Representation\n",
      "INFO     2020-09-14 19:00:55.175 - Updating Artifact with serialized representation\n",
      "INFO     2020-09-14 19:00:55.187 - Preparing Model Metadata for Deployment...\n",
      "INFO     2020-09-14 19:00:55.198 - Preparing H2O Model metadata for deployment\n",
      "INFO     2020-09-14 19:00:55.214 - Adding Schema String to model metadata...\n",
      "INFO     2020-09-14 19:00:55.232 - Starting 'creating model deployment table'...\n",
      "INFO     2020-09-14 19:00:55.268 - Executing\n",
      "CREATE TABLE ben.h2o_ae (\n",
      "                CUR_USER VARCHAR(50) DEFAULT CURRENT_USER,\n",
      "                EVAL_TIME TIMESTAMP DEFAULT CURRENT_TIMESTAMP,\n",
      "                RUN_ID VARCHAR(50) DEFAULT '780c5bdd8d5b',\n",
      "                C1 FLOAT, C2 FLOAT, C3 FLOAT, C4 FLOAT, C5 FLOAT, C6 FLOAT,MOMENT_KEY INTEGER,\"C1_reconstr\" DOUBLE,\"C2_reconstr\" DOUBLE,\"C3_reconstr\" DOUBLE,\"C4_reconstr\" DOUBLE,\"C5_reconstr\" DOUBLE,\"C6_reconstr\" DOUBLE,\"MSE_reconstr\" DOUBLE,PRIMARY KEY(MOMENT_KEY))                C1 FLOAT, C2 FLOAT, C3 FLOAT, C4 FLOAT, C5 FLOAT, C6 FLOAT,MOMENT_KEY INTEGER,\"C1_reconstr\" DOUBLE,\"C2_reconstr\" DOUBLE,\"C3_reconstr\" DOUBLE,\"C4_reconstr\" DOUBLE,\"C5_reconstr\" DOUBLE,\"C6_reconstr\" DOUBLE,\"MSE_reconstr\" DOUBLE,PRIMARY KEY(MOMENT_KEY))\n",
      "INFO     2020-09-14 19:00:56.074 - Done with 'creating model deployment table' [in 841.8049812316895 ms]\n",
      "INFO     2020-09-14 19:00:56.085 - Starting 'creating trigger'...\n",
      "INFO     2020-09-14 19:00:56.096 - Creating VTI Prediction Trigger...\n",
      "INFO     2020-09-14 19:00:56.107 - Executing\n",
      "CREATE TRIGGER ben.runModel_h2o_ae_780c5bdd8d5b \n",
      "                        AFTER INSERT ON ben.h2o_ae REFERENCING NEW AS NEWROW FOR EACH ROW\n",
      "                        UPDATE ben.h2o_ae SET (\"C1_reconstr\",\"C2_reconstr\",\"C3_reconstr\",\"C4_reconstr\",\"C5_reconstr\",\"C6_reconstr\",\"MSE_reconstr\") = (SELECT b.\"C1_reconstr\",b.\"C2_reconstr\",b.\"C3_reconstr\",b.\"C4_reconstr\",b.\"C5_reconstr\",b.\"C6_reconstr\",b.\"MSE_reconstr\" FROM new \"com.splicemachine.mlrunner.MLRunner\"('key_value', '780c5bdd8d5b', TRIM(CAST(CAST(NEWROW.C1 as DECIMAL(38,10)) as CHAR(41)))||','||TRIM(CAST(CAST(NEWROW.C2 as DECIMAL(38,10)) as CHAR(41)))||','||TRIM(CAST(CAST(NEWROW.C3 as DECIMAL(38,10)) as CHAR(41)))||','||TRIM(CAST(CAST(NEWROW.C4 as DECIMAL(38,10)) as CHAR(41)))||','||TRIM(CAST(CAST(NEWROW.C5 as DECIMAL(38,10)) as CHAR(41)))||','||TRIM(CAST(CAST(NEWROW.C6 as DECIMAL(38,10)) as CHAR(41))), \n",
      "        'C1 FLOAT, C2 FLOAT, C3 FLOAT, C4 FLOAT, C5 FLOAT, C6 FLOAT') as b (\"C1_reconstr\" DOUBLE,\"C2_reconstr\" DOUBLE,\"C3_reconstr\" DOUBLE,\"C4_reconstr\" DOUBLE,\"C5_reconstr\" DOUBLE,\"C6_reconstr\" DOUBLE,\"MSE_reconstr\" DOUBLE) WHERE 1=1) WHERE MOMENT_KEY = NEWROW.MOMENT_KEY\n",
      "INFO     2020-09-14 19:00:56.373 - Done with 'creating trigger' [in 287.36305236816406 ms]\n",
      "INFO     2020-09-14 19:00:56.384 - Starting 'add model to metadata table'...\n",
      "INFO     2020-09-14 19:00:56.395 - Adding Model to Metadata table\n",
      "INFO     2020-09-14 19:00:56.461 - Executing SQL to insert Database Deployed Metadata\n",
      "INFO     2020-09-14 19:00:56.504 - Done executing.\n",
      "INFO     2020-09-14 19:00:56.515 - Done with 'add model to metadata table' [in 131.15978240966797 ms]\n",
      "INFO     2020-09-14 19:00:56.527 - Flushing\n",
      "WARNING  2020-09-14 19:00:56.538 - Committing Transaction to Database\n",
      "INFO     2020-09-14 19:00:56.570 - Committed.\n",
      "INFO     2020-09-14 19:00:56.582 - Cleaning up deployment\n",
      "INFO     2020-09-14 19:00:56.625 - Success! Target 'DEPLOY_DATABASE' completed successfully.\n",
      "INFO     2020-09-14 19:00:56.645 - TASK_COMPLETED"
     ]
    }
   ],
   "source": [
    "from h2o.estimators.deeplearning import H2OAutoEncoderEstimator\n",
    "# train = h2o.import_file(\"https://s3.amazonaws.com/h2o-public-test-data/bigdata/laptop/mnist/train.csv.gz\")\n",
    "# test = h2o.import_file(\"https://s3.amazonaws.com/h2o-public-test-data/bigdata/laptop/mnist/test.csv.gz\")\n",
    "\n",
    "import random\n",
    "train = []\n",
    "test = []\n",
    "for i in range(60000):\n",
    "    train.append([random.random()*4 for i in range(6)])\n",
    "    test.append([random.random()*4 for i in range(6)])\n",
    "\n",
    "train = h2o.H2OFrame(train)\n",
    "test = h2o.H2OFrame(test)\n",
    "predictors = [f'C{i}' for i in range(1,7)]\n",
    "\n",
    "\n",
    "model = H2OAutoEncoderEstimator(activation=\"Tanh\",\n",
    "                                   hidden=[2],\n",
    "                                   l1=1e-5,\n",
    "                                   ignore_const_cols=False,\n",
    "                                   epochs=1)\n",
    "model.train(x=predictors,training_frame=train)\n",
    "test_rec_error = model.anomaly(test)\n",
    "test_rec_error\n",
    "test_rec_error_features = model.anomaly(test, per_feature=True)\n",
    "print(test_rec_error_features)\n",
    "model.predict(test)\n",
    "\n",
    "print('deploying autoencoder')\n",
    "splice.dropTableIfExists(f'{schema}.h2o_ae')\n",
    "\n",
    "while mlflow.active_run():\n",
    "    mlflow.end_run()\n",
    "\n",
    "with mlflow.start_run():\n",
    "    mlflow.log_model(model, 'model')\n",
    "    jid = mlflow.deploy_db(schema,'h2o_ae',mlflow.current_run_id(), df=hc.asSparkFrame(train).select(predictors), create_model_table=True, primary_key=[('MOMENT_KEY','INTEGER')])\n",
    "    mlflow.watch_job(jid)"
   ]
  },
  {
   "cell_type": "code",
   "execution_count": 29,
   "metadata": {},
   "outputs": [
    {
     "data": {
      "application/vnd.jupyter.widget-view+json": {
       "model_id": "2bd56e7f-d32a-4c53-aa9d-5826e9bf2399",
       "version_major": 2,
       "version_minor": 0
      },
      "method": "display_data"
     },
     "metadata": {},
     "output_type": "display_data"
    },
    {
     "data": {
      "application/vnd.jupyter.widget-view+json": {
       "model_id": "1dcf5438-3723-477d-a8b7-0d23b56f8f53",
       "version_major": 2,
       "version_minor": 0
      },
      "method": "display_data"
     },
     "metadata": {},
     "output_type": "display_data"
    },
    {
     "data": {
      "application/vnd.jupyter.widget-view+json": {
       "model_id": "7596c4b8-ac01-4a13-81a7-1198158a1202",
       "version_major": 2,
       "version_minor": 0
      },
      "method": "display_data"
     },
     "metadata": {},
     "output_type": "display_data"
    },
    {
     "data": {
      "application/vnd.jupyter.widget-view+json": {
       "model_id": "0ee88fb9-2548-4ce6-bfc7-a457bc1ca79f",
       "version_major": 2,
       "version_minor": 0
      },
      "method": "display_data"
     },
     "metadata": {},
     "output_type": "display_data"
    }
   ],
   "source": [
    "%%sql\n",
    "\n",
    "insert into h2o_ae (moment_key,c1,c2,c3,c4,c5,c6) values(1,0, 0, 0, 0, 0, 0);\n",
    "insert into h2o_ae (moment_key,c1,c2,c3,c4,c5,c6) values(2,1, 1, 1, 1, 1, 1);\n",
    "insert into h2o_ae (moment_key,c1,c2,c3,c4,c5,c6) values(3,0.25, 0.99, 0.623, 0.21, 0.52, 0.66);\n",
    "\n",
    "select * from h2o_ae;\n",
    "select * into ${data_and_preds} from h2o_ae;"
   ]
  },
  {
   "cell_type": "code",
   "execution_count": 30,
   "metadata": {
    "scrolled": true
   },
   "outputs": [
    {
     "name": "stdout",
     "output_type": "stream",
     "text": [
      "Parse progress: |█████████████████████████████████████████████████████████| 100%\n",
      "deeplearning prediction progress: |███████████████████████████████████████| 100%\n",
      "test passed!\n"
     ]
    }
   ],
   "source": [
    "from beakerx.object import beakerx\n",
    "data = beakerx.get('data_and_preds')\n",
    "\n",
    "features = h2o.H2OFrame(data[['C1','C2','C3','C4','C5','C6']])\n",
    "db_preds = data[['C1_reconstr','C2_reconstr','C3_reconstr','C4_reconstr','C5_reconstr','C6_reconstr']]\n",
    "\n",
    "raw_preds = model.predict(features).as_data_frame(use_pandas=True)\n",
    "\n",
    "\n",
    "for db_pred, raw_pred in zip(db_preds.iterrows(), raw_preds.iterrows()):\n",
    "    # Check reconstruction values\n",
    "    for db, raw in zip(db_pred[1], raw_pred[1]):\n",
    "        assert round(db,13) == round(raw,13), f'Something is wrong. Model Table gives {db} but raw model gives {raw}'\n",
    "\n",
    "# Check the MSE score\n",
    "raw_mses = model.anomaly(features).as_data_frame(use_pandas=True)\n",
    "db_mses = data[['MSE_reconstr']]\n",
    "for db_mse, raw_mse in zip(db_mses.iterrows(), raw_mses.iterrows()):\n",
    "    # Check reconstruction values\n",
    "    for db, raw in zip(db_pred[1], raw_pred[1]):\n",
    "        assert round(db,13) == round(raw,13), f'Something is wrong. Model Table gives {db} but raw model gives {raw}'\n",
    "    \n",
    "print('test passed!')"
   ]
  },
  {
   "cell_type": "markdown",
   "metadata": {},
   "source": [
    "## Clustering"
   ]
  },
  {
   "cell_type": "code",
   "execution_count": 31,
   "metadata": {},
   "outputs": [
    {
     "name": "stdout",
     "output_type": "stream",
     "text": [
      "Parse progress: |█████████████████████████████████████████████████████████| 100%\n",
      "Parse progress: |█████████████████████████████████████████████████████████| 100%\n",
      "kmeans Model Build progress: |████████████████████████████████████████████| 100%\n",
      "deploying clustering\n",
      "Saving artifact of size: 5.956 KB to Splice Machine DB\n",
      "Deploying model to database...\n"
     ]
    },
    {
     "name": "stderr",
     "output_type": "stream",
     "text": [
      "Passing in primary keys as a list of tuples is deprecated. Use dictionary {column name: type}\n"
     ]
    },
    {
     "name": "stdout",
     "output_type": "stream",
     "text": [
      "Your Job has been submitted. The returned value of this function is the job id, which you can use to monitor the your task in real-time. Run mlflow.watch_job(<job id>) tostream them to stdout, or mlflow.fetch_logs(<job id>) to read them one time to a list\n",
      "---Job Logs---\n",
      "INFO     2020-09-14 19:01:30.984 - A service worker has found your request\n",
      "INFO     2020-09-14 19:01:31.001 - Checking whether handler DEPLOY_DATABASE is enabled\n",
      "INFO     2020-09-14 19:01:31.025 - Handler is available\n",
      "INFO     2020-09-14 19:01:31.040 - Retrieving Run from MLFlow Tracking Server...\n",
      "INFO     2020-09-14 19:01:31.114 - Retrieved MLFlow Run\n",
      "INFO     2020-09-14 19:01:31.125 - Updating MLFlow Run for the UIINFO     2020-09-14 19:01:31.125 - Updating MLFlow Run for the UI\n",
      "INFO     2020-09-14 19:01:31.150 - Reading Model Artifact Stream from Splice Machine\n",
      "INFO     2020-09-14 19:01:31.161 - Extracting Model from DB with Name: model\n",
      "INFO     2020-09-14 19:01:31.181 - Decoding Model Artifact Binary Stream for Deployment\n",
      "INFO     2020-09-14 19:01:31.198 - Decompressing Model Artifact\n",
      "INFO     2020-09-14 19:01:31.211 - Creating raw model representation from MLModel\n",
      "INFO     2020-09-14 19:01:31.222 - Reading MLModel Flavor from Extracted Archive\n",
      "INFO     2020-09-14 19:01:31.291 - Registering Raw Model Representation...\n",
      "INFO     2020-09-14 19:01:31.302 - Done.\n",
      "INFO     2020-09-14 19:01:31.315 - Adding Model Schema and DF...\n",
      "INFO     2020-09-14 19:01:31.596 - Adding Library Specific Representations...\n",
      "INFO     2020-09-14 19:01:31.609 - Adding Serialized Representation\n",
      "INFO     2020-09-14 19:01:31.652 - Updating Artifact with serialized representation\n",
      "INFO     2020-09-14 19:01:31.664 - Preparing Model Metadata for Deployment...\n",
      "INFO     2020-09-14 19:01:31.675 - Preparing H2O Model metadata for deployment\n",
      "INFO     2020-09-14 19:01:31.687 - Adding Schema String to model metadata...\n",
      "INFO     2020-09-14 19:01:31.703 - Starting 'creating model deployment table'...\n",
      "INFO     2020-09-14 19:01:31.738 - Executing\n",
      "CREATE TABLE ben.h2o_cluster (\n",
      "                CUR_USER VARCHAR(50) DEFAULT CURRENT_USER,\n",
      "                EVAL_TIME TIMESTAMP DEFAULT CURRENT_TIMESTAMP,\n",
      "                RUN_ID VARCHAR(50) DEFAULT '0cfa7b59569e',\n",
      "                C1 FLOAT, C2 FLOAT, C3 FLOAT, C4 FLOAT, C5 FLOAT, C6 FLOAT,MOMENT_KEY INTEGER,PREDICTION INT,PRIMARY KEY(MOMENT_KEY))                C1 FLOAT, C2 FLOAT, C3 FLOAT, C4 FLOAT, C5 FLOAT, C6 FLOAT,MOMENT_KEY INTEGER,PREDICTION INT,PRIMARY KEY(MOMENT_KEY))\n",
      "INFO     2020-09-14 19:01:32.551 - Done with 'creating model deployment table' [in 847.8200435638428 ms]\n",
      "INFO     2020-09-14 19:01:32.563 - Starting 'creating trigger'...\n",
      "INFO     2020-09-14 19:01:32.575 - Creating Prediction Trigger...\n",
      "INFO     2020-09-14 19:01:32.585 - Executing\n",
      "CREATE TRIGGER ben.runModel_h2o_cluster_0cfa7b59569e\n",
      "                           BEFORE INSERT ON ben.h2o_cluster REFERENCING NEW AS NEWROW \n",
      "                           FOR EACH ROW SET NEWROW.PREDICTION=MLMANAGER.PREDICT_CLUSTER('0cfa7b59569e',TRIM(CAST(CAST(NEWROW.C1 as DECIMAL(38,10)) as CHAR(41)))||','||TRIM(CAST(CAST(NEWROW.C2 as DECIMAL(38,10)) as CHAR(41)))||','||TRIM(CAST(CAST(NEWROW.C3 as DECIMAL(38,10)) as CHAR(41)))||','||TRIM(CAST(CAST(NEWROW.C4 as DECIMAL(38,10)) as CHAR(41)))||','||TRIM(CAST(CAST(NEWROW.C5 as DECIMAL(38,10)) as CHAR(41)))||','||TRIM(CAST(CAST(NEWROW.C6 as DECIMAL(38,10)) as CHAR(41))),\n",
      "'C1 FLOAT, C2 FLOAT, C3 FLOAT, C4 FLOAT, C5 FLOAT, C6 FLOAT')\n",
      "INFO     2020-09-14 19:01:32.719 - Done with 'creating trigger' [in 156.0533046722412 ms]\n",
      "INFO     2020-09-14 19:01:32.731 - Starting 'add model to metadata table'...\n",
      "INFO     2020-09-14 19:01:32.742 - Adding Model to Metadata table\n",
      "INFO     2020-09-14 19:01:32.817 - Executing SQL to insert Database Deployed Metadata\n",
      "INFO     2020-09-14 19:01:32.864 - Done executing.\n",
      "INFO     2020-09-14 19:01:32.875 - Done with 'add model to metadata table' [in 144.73772048950195 ms]\n",
      "INFO     2020-09-14 19:01:32.887 - Flushing\n",
      "WARNING  2020-09-14 19:01:32.901 - Committing Transaction to Database\n",
      "INFO     2020-09-14 19:01:32.934 - Committed.\n",
      "INFO     2020-09-14 19:01:32.945 - Cleaning up deployment\n",
      "INFO     2020-09-14 19:01:32.986 - Success! Target 'DEPLOY_DATABASE' completed successfully.\n",
      "INFO     2020-09-14 19:01:33.005 - TASK_COMPLETED"
     ]
    }
   ],
   "source": [
    "from h2o.estimators.kmeans import H2OKMeansEstimator\n",
    "import random\n",
    "\n",
    "train = []\n",
    "test = []\n",
    "for i in range(60000):\n",
    "    train.append([random.random()*4 for i in range(6)])\n",
    "    test.append([random.random()*4 for i in range(6)])\n",
    "\n",
    "train = h2o.H2OFrame(train)\n",
    "test = h2o.H2OFrame(test)\n",
    "predictors = [f'C{i}' for i in range(1,7)]\n",
    "\n",
    "\n",
    "model = H2OKMeansEstimator(k=3, nfolds=3)\n",
    "model.train(x=list(range(4)), training_frame=train)\n",
    "\n",
    "\n",
    "print('deploying clustering')\n",
    "splice.dropTableIfExists(f'{schema}.h2o_cluster')\n",
    "\n",
    "while mlflow.active_run():\n",
    "    mlflow.end_run()\n",
    "\n",
    "with mlflow.start_run():\n",
    "    mlflow.log_model(model, 'model')\n",
    "    jid = mlflow.deploy_db(schema,'h2o_cluster',mlflow.current_run_id(), df=hc.asSparkFrame(train).select(predictors), create_model_table=True, primary_key=[('MOMENT_KEY','INTEGER')])\n",
    "    mlflow.watch_job(jid)"
   ]
  },
  {
   "cell_type": "code",
   "execution_count": 32,
   "metadata": {},
   "outputs": [
    {
     "data": {
      "application/vnd.jupyter.widget-view+json": {
       "model_id": "86e31c9a-d4f8-41c0-8988-df5268a960c0",
       "version_major": 2,
       "version_minor": 0
      },
      "method": "display_data"
     },
     "metadata": {},
     "output_type": "display_data"
    },
    {
     "data": {
      "application/vnd.jupyter.widget-view+json": {
       "model_id": "ea2e705a-191e-4df0-b05b-251682055df4",
       "version_major": 2,
       "version_minor": 0
      },
      "method": "display_data"
     },
     "metadata": {},
     "output_type": "display_data"
    },
    {
     "data": {
      "application/vnd.jupyter.widget-view+json": {
       "model_id": "f2b41744-b427-4d18-b1e1-459955685ad2",
       "version_major": 2,
       "version_minor": 0
      },
      "method": "display_data"
     },
     "metadata": {},
     "output_type": "display_data"
    },
    {
     "data": {
      "application/vnd.jupyter.widget-view+json": {
       "model_id": "e29045c0-1444-4568-950f-438d76be4e38",
       "version_major": 2,
       "version_minor": 0
      },
      "method": "display_data"
     },
     "metadata": {},
     "output_type": "display_data"
    }
   ],
   "source": [
    "%%sql\n",
    "\n",
    "insert into h2o_cluster (moment_key,c1,c2,c3,c4,c5,c6) values(1,0, 0, 0, 0, 0, 0);\n",
    "insert into h2o_cluster (moment_key,c1,c2,c3,c4,c5,c6) values(2,0.258682,2.03961,3.13087,2.71747,2.46077,0.24339);\n",
    "insert into h2o_cluster (moment_key,c1,c2,c3,c4,c5,c6) values(3,0.25, 0.99, 0.623, 0.21, 0.52, 0.66);\n",
    "\n",
    "select * from h2o_cluster;\n",
    "select * into ${data_and_preds} from h2o_cluster;"
   ]
  },
  {
   "cell_type": "code",
   "execution_count": 33,
   "metadata": {},
   "outputs": [
    {
     "name": "stdout",
     "output_type": "stream",
     "text": [
      "Parse progress: |█████████████████████████████████████████████████████████| 100%\n",
      "kmeans prediction progress: |█████████████████████████████████████████████| 100%\n",
      "test passed!\n"
     ]
    }
   ],
   "source": [
    "from beakerx.object import beakerx\n",
    "data = beakerx.get('data_and_preds')\n",
    "\n",
    "features = h2o.H2OFrame(data[['C1','C2','C3','C4','C5','C6']])\n",
    "db_preds = data[['PREDICTION']]\n",
    "\n",
    "raw_preds = model.predict(features).as_data_frame(use_pandas=True)\n",
    "\n",
    "\n",
    "for db_pred, raw_pred in zip(db_preds.iterrows(), raw_preds.iterrows()):\n",
    "    # Check reconstruction values\n",
    "    for db, raw in zip(db_pred[1], raw_pred[1]):\n",
    "        assert round(db,13) == round(raw,13), f'Something is wrong. Model Table gives {db} but raw model gives {raw}'\n",
    "\n",
    "    \n",
    "print('test passed!')"
   ]
  },
  {
   "cell_type": "markdown",
   "metadata": {},
   "source": [
    "## PCA Example"
   ]
  },
  {
   "cell_type": "code",
   "execution_count": 34,
   "metadata": {
    "scrolled": true
   },
   "outputs": [
    {
     "name": "stdout",
     "output_type": "stream",
     "text": [
      "Parse progress: |█████████████████████████████████████████████████████████| 100%\n",
      "Parse progress: |█████████████████████████████████████████████████████████| 100%\n",
      "pca Model Build progress: |███████████████████████████████████████████████| 100%\n"
     ]
    },
    {
     "name": "stderr",
     "output_type": "stream",
     "text": [
      "_train: PCA Power method failed to converge within TOLERANCE.  Increase max_iterations or reduce TOLERANCE to mitigate this problem.\n"
     ]
    },
    {
     "name": "stdout",
     "output_type": "stream",
     "text": [
      "deploying pca\n",
      "Saving artifact of size: 52.064 KB to Splice Machine DB\n",
      "Deploying model to database...\n"
     ]
    },
    {
     "name": "stderr",
     "output_type": "stream",
     "text": [
      "Passing in primary keys as a list of tuples is deprecated. Use dictionary {column name: type}\n"
     ]
    },
    {
     "name": "stdout",
     "output_type": "stream",
     "text": [
      "Your Job has been submitted. The returned value of this function is the job id, which you can use to monitor the your task in real-time. Run mlflow.watch_job(<job id>) tostream them to stdout, or mlflow.fetch_logs(<job id>) to read them one time to a list\n",
      "---Job Logs---\n",
      "INFO     2020-09-14 19:01:40.678 - A service worker has found your request\n",
      "INFO     2020-09-14 19:01:40.695 - Checking whether handler DEPLOY_DATABASE is enabled\n",
      "INFO     2020-09-14 19:01:40.717 - Handler is available\n",
      "INFO     2020-09-14 19:01:40.729 - Retrieving Run from MLFlow Tracking Server...\n",
      "INFO     2020-09-14 19:01:40.797 - Retrieved MLFlow Run\n",
      "INFO     2020-09-14 19:01:40.809 - Updating MLFlow Run for the UIINFO     2020-09-14 19:01:40.809 - Updating MLFlow Run for the UI\n",
      "INFO     2020-09-14 19:01:40.837 - Reading Model Artifact Stream from Splice Machine\n",
      "INFO     2020-09-14 19:01:40.846 - Extracting Model from DB with Name: model\n",
      "INFO     2020-09-14 19:01:40.871 - Decoding Model Artifact Binary Stream for Deployment\n",
      "INFO     2020-09-14 19:01:40.889 - Decompressing Model Artifact\n",
      "INFO     2020-09-14 19:01:40.904 - Creating raw model representation from MLModel\n",
      "INFO     2020-09-14 19:01:40.916 - Reading MLModel Flavor from Extracted Archive\n",
      "INFO     2020-09-14 19:01:41.078 - Registering Raw Model Representation...\n",
      "INFO     2020-09-14 19:01:41.090 - Done.\n",
      "INFO     2020-09-14 19:01:41.102 - Adding Model Schema and DF...\n",
      "INFO     2020-09-14 19:01:41.195 - Adding Library Specific Representations...\n",
      "INFO     2020-09-14 19:01:41.209 - Adding Serialized Representation\n",
      "INFO     2020-09-14 19:01:41.251 - Updating Artifact with serialized representation\n",
      "INFO     2020-09-14 19:01:41.263 - Preparing Model Metadata for Deployment...\n",
      "INFO     2020-09-14 19:01:41.274 - Preparing H2O Model metadata for deployment\n",
      "INFO     2020-09-14 19:01:41.286 - Adding Schema String to model metadata...\n",
      "INFO     2020-09-14 19:01:41.301 - Starting 'creating model deployment table'...\n",
      "INFO     2020-09-14 19:01:41.343 - Executing\n",
      "CREATE TABLE ben.h2o_pca (\n",
      "                CUR_USER VARCHAR(50) DEFAULT CURRENT_USER,\n",
      "                EVAL_TIME TIMESTAMP DEFAULT CURRENT_TIMESTAMP,\n",
      "                RUN_ID VARCHAR(50) DEFAULT 'a6c492beafcf',\n",
      "                C1 FLOAT, C2 FLOAT, C3 FLOAT, C4 FLOAT, C5 FLOAT, C6 FLOAT,MOMENT_KEY INTEGER,\"PC0\" DOUBLE,\"PC1\" DOUBLE,\"PC2\" DOUBLE,\"PC3\" DOUBLE,PRIMARY KEY(MOMENT_KEY))                C1 FLOAT, C2 FLOAT, C3 FLOAT, C4 FLOAT, C5 FLOAT, C6 FLOAT,MOMENT_KEY INTEGER,\"PC0\" DOUBLE,\"PC1\" DOUBLE,\"PC2\" DOUBLE,\"PC3\" DOUBLE,PRIMARY KEY(MOMENT_KEY))\n",
      "INFO     2020-09-14 19:01:42.156 - Done with 'creating model deployment table' [in 854.7103404998779 ms]\n",
      "INFO     2020-09-14 19:01:42.167 - Starting 'creating trigger'...\n",
      "INFO     2020-09-14 19:01:42.178 - Creating VTI Prediction Trigger...\n",
      "INFO     2020-09-14 19:01:42.189 - Executing\n",
      "CREATE TRIGGER ben.runModel_h2o_pca_a6c492beafcf \n",
      "                        AFTER INSERT ON ben.h2o_pca REFERENCING NEW AS NEWROW FOR EACH ROW\n",
      "                        UPDATE ben.h2o_pca SET (\"PC0\",\"PC1\",\"PC2\",\"PC3\") = (SELECT b.\"PC0\",b.\"PC1\",b.\"PC2\",b.\"PC3\" FROM new \"com.splicemachine.mlrunner.MLRunner\"('key_value', 'a6c492beafcf', TRIM(CAST(CAST(NEWROW.C1 as DECIMAL(38,10)) as CHAR(41)))||','||TRIM(CAST(CAST(NEWROW.C2 as DECIMAL(38,10)) as CHAR(41)))||','||TRIM(CAST(CAST(NEWROW.C3 as DECIMAL(38,10)) as CHAR(41)))||','||TRIM(CAST(CAST(NEWROW.C4 as DECIMAL(38,10)) as CHAR(41)))||','||TRIM(CAST(CAST(NEWROW.C5 as DECIMAL(38,10)) as CHAR(41)))||','||TRIM(CAST(CAST(NEWROW.C6 as DECIMAL(38,10)) as CHAR(41))), \n",
      "        'C1 FLOAT, C2 FLOAT, C3 FLOAT, C4 FLOAT, C5 FLOAT, C6 FLOAT') as b (\"PC0\" DOUBLE,\"PC1\" DOUBLE,\"PC2\" DOUBLE,\"PC3\" DOUBLE) WHERE 1=1) WHERE MOMENT_KEY = NEWROW.MOMENT_KEY\n",
      "INFO     2020-09-14 19:01:42.450 - Done with 'creating trigger' [in 282.5314998626709 ms]\n",
      "INFO     2020-09-14 19:01:42.461 - Starting 'add model to metadata table'...\n",
      "INFO     2020-09-14 19:01:42.472 - Adding Model to Metadata table\n",
      "INFO     2020-09-14 19:01:42.533 - Executing SQL to insert Database Deployed Metadata\n",
      "INFO     2020-09-14 19:01:42.573 - Done executing.\n",
      "INFO     2020-09-14 19:01:42.584 - Done with 'add model to metadata table' [in 122.9853630065918 ms]\n",
      "INFO     2020-09-14 19:01:42.595 - Flushing\n",
      "WARNING  2020-09-14 19:01:42.606 - Committing Transaction to Database\n",
      "INFO     2020-09-14 19:01:42.642 - Committed.\n",
      "INFO     2020-09-14 19:01:42.653 - Cleaning up deployment\n",
      "INFO     2020-09-14 19:01:42.696 - Success! Target 'DEPLOY_DATABASE' completed successfully.\n",
      "INFO     2020-09-14 19:01:42.716 - TASK_COMPLETED"
     ]
    }
   ],
   "source": [
    "from h2o.estimators import H2OPrincipalComponentAnalysisEstimator\n",
    "\n",
    "train = []\n",
    "test = []\n",
    "for i in range(60000):\n",
    "    train.append([random.random()*4 for i in range(6)])\n",
    "    test.append([random.random()*4 for i in range(6)])\n",
    "\n",
    "train = h2o.H2OFrame(train)\n",
    "test = h2o.H2OFrame(test)\n",
    "predictors = [f'C{i}' for i in range(1,7)]\n",
    "\n",
    "model = H2OPrincipalComponentAnalysisEstimator(k = 4, transform = \"STANDARDIZE\", pca_method=\"Power\",\n",
    "                   use_all_factor_levels=True, impute_missing=True)\n",
    "model.train(x=train.names, training_frame=train)\n",
    "\n",
    "\n",
    "print('deploying pca')\n",
    "splice.dropTableIfExists(f'{schema}.h2o_pca')\n",
    "\n",
    "while mlflow.active_run():\n",
    "    mlflow.end_run()\n",
    "\n",
    "with mlflow.start_run():\n",
    "    mlflow.log_model(model, 'model')\n",
    "    jid = mlflow.deploy_db(schema,'h2o_pca',mlflow.current_run_id(), df=hc.asSparkFrame(train).select(predictors), create_model_table=True, primary_key=[('MOMENT_KEY','INTEGER')])\n",
    "    mlflow.watch_job(jid)"
   ]
  },
  {
   "cell_type": "code",
   "execution_count": 35,
   "metadata": {
    "scrolled": true
   },
   "outputs": [
    {
     "data": {
      "application/vnd.jupyter.widget-view+json": {
       "model_id": "526664b0-80d2-4570-a457-561ab9266728",
       "version_major": 2,
       "version_minor": 0
      },
      "method": "display_data"
     },
     "metadata": {},
     "output_type": "display_data"
    },
    {
     "data": {
      "application/vnd.jupyter.widget-view+json": {
       "model_id": "dc5305c2-5621-43f6-9c00-68f289339253",
       "version_major": 2,
       "version_minor": 0
      },
      "method": "display_data"
     },
     "metadata": {},
     "output_type": "display_data"
    },
    {
     "data": {
      "application/vnd.jupyter.widget-view+json": {
       "model_id": "f6105595-157c-4c56-b320-9e04b230e03a",
       "version_major": 2,
       "version_minor": 0
      },
      "method": "display_data"
     },
     "metadata": {},
     "output_type": "display_data"
    },
    {
     "data": {
      "application/vnd.jupyter.widget-view+json": {
       "model_id": "11ba1a05-9f13-42a6-ad36-1683c1d6a724",
       "version_major": 2,
       "version_minor": 0
      },
      "method": "display_data"
     },
     "metadata": {},
     "output_type": "display_data"
    }
   ],
   "source": [
    "%%sql\n",
    "\n",
    "insert into h2o_pca (moment_key,c1,c2,c3,c4,c5,c6) values(1,0, 0, 0, 0, 0, 0);\n",
    "insert into h2o_pca (moment_key,c1,c2,c3,c4,c5,c6) values(2,0.258682,2.03961,3.13087,2.71747,2.46077,0.24339);\n",
    "insert into h2o_pca (moment_key,c1,c2,c3,c4,c5,c6) values(3,0.25, 0.99, 0.623, 0.21, 0.52, 0.66);\n",
    "\n",
    "select * from h2o_pca;\n",
    "select * into ${data_and_preds} from h2o_pca;"
   ]
  },
  {
   "cell_type": "code",
   "execution_count": 36,
   "metadata": {},
   "outputs": [
    {
     "name": "stdout",
     "output_type": "stream",
     "text": [
      "Parse progress: |█████████████████████████████████████████████████████████| 100%\n",
      "pca prediction progress: |████████████████████████████████████████████████| 100%\n",
      "test passed!\n"
     ]
    }
   ],
   "source": [
    "from beakerx.object import beakerx\n",
    "data = beakerx.get('data_and_preds')\n",
    "\n",
    "features = h2o.H2OFrame(data[['C1','C2','C3','C4','C5','C6']])\n",
    "db_preds = data[['PC0','PC1','PC2','PC3']]\n",
    "\n",
    "raw_preds = model.predict(features).as_data_frame(use_pandas=True)\n",
    "\n",
    "\n",
    "for db_pred, raw_pred in zip(db_preds.iterrows(), raw_preds.iterrows()):\n",
    "    # Check reconstruction values\n",
    "    for db, raw in zip(db_pred[1], raw_pred[1]):\n",
    "        assert round(db,13) == round(raw,13), f'Something is wrong. Model Table gives {db} but raw model gives {raw}'\n",
    "\n",
    "    \n",
    "print('test passed!')"
   ]
  },
  {
   "cell_type": "markdown",
   "metadata": {},
   "source": [
    "## Isolation Forest Example"
   ]
  },
  {
   "cell_type": "code",
   "execution_count": 39,
   "metadata": {
    "scrolled": true
   },
   "outputs": [
    {
     "name": "stdout",
     "output_type": "stream",
     "text": [
      "Parse progress: |█████████████████████████████████████████████████████████| 100%\n",
      "isolationforest Model Build progress: |███████████████████████████████████| 100%\n",
      "deploying isoforect\n",
      "Saving artifact of size: 89.351 KB to Splice Machine DB\n",
      "Deploying model to database...\n"
     ]
    },
    {
     "name": "stderr",
     "output_type": "stream",
     "text": [
      "Passing in primary keys as a list of tuples is deprecated. Use dictionary {column name: type}\n"
     ]
    },
    {
     "name": "stdout",
     "output_type": "stream",
     "text": [
      "Your Job has been submitted. The returned value of this function is the job id, which you can use to monitor the your task in real-time. Run mlflow.watch_job(<job id>) tostream them to stdout, or mlflow.fetch_logs(<job id>) to read them one time to a list\n",
      "---Job Logs---\n",
      "INFO     2020-09-14 19:04:12.811 - A service worker has found your request\n",
      "INFO     2020-09-14 19:04:12.830 - Checking whether handler DEPLOY_DATABASE is enabled\n",
      "INFO     2020-09-14 19:04:12.853 - Handler is available\n",
      "INFO     2020-09-14 19:04:12.866 - Retrieving Run from MLFlow Tracking Server...\n",
      "INFO     2020-09-14 19:04:12.943 - Retrieved MLFlow RunINFO     2020-09-14 19:04:12.943 - Retrieved MLFlow Run\n",
      "INFO     2020-09-14 19:04:12.955 - Updating MLFlow Run for the UI\n",
      "INFO     2020-09-14 19:04:12.984 - Reading Model Artifact Stream from Splice Machine\n",
      "INFO     2020-09-14 19:04:12.996 - Extracting Model from DB with Name: model\n",
      "INFO     2020-09-14 19:04:13.017 - Decoding Model Artifact Binary Stream for Deployment\n",
      "INFO     2020-09-14 19:04:13.037 - Decompressing Model Artifact\n",
      "INFO     2020-09-14 19:04:13.052 - Creating raw model representation from MLModel\n",
      "INFO     2020-09-14 19:04:13.063 - Reading MLModel Flavor from Extracted Archive\n",
      "INFO     2020-09-14 19:04:13.133 - Registering Raw Model Representation...\n",
      "INFO     2020-09-14 19:04:13.147 - Done.\n",
      "INFO     2020-09-14 19:04:13.159 - Adding Model Schema and DF...\n",
      "INFO     2020-09-14 19:04:13.233 - Adding Library Specific Representations...\n",
      "INFO     2020-09-14 19:04:13.247 - Adding Serialized Representation\n",
      "INFO     2020-09-14 19:04:13.363 - Updating Artifact with serialized representation\n",
      "INFO     2020-09-14 19:04:13.376 - Preparing Model Metadata for Deployment...\n",
      "INFO     2020-09-14 19:04:13.387 - Preparing H2O Model metadata for deployment\n",
      "INFO     2020-09-14 19:04:13.405 - Adding Schema String to model metadata...\n",
      "INFO     2020-09-14 19:04:13.426 - Starting 'creating model deployment table'...\n",
      "INFO     2020-09-14 19:04:13.476 - Executing\n",
      "CREATE TABLE ben.h2o_iso (\n",
      "                CUR_USER VARCHAR(50) DEFAULT CURRENT_USER,\n",
      "                EVAL_TIME TIMESTAMP DEFAULT CURRENT_TIMESTAMP,\n",
      "                RUN_ID VARCHAR(50) DEFAULT '993cda34d350',\n",
      "                displacement FLOAT, power SMALLINT, weight SMALLINT, acceleration FLOAT, year_make TINYINT,MOMENT_KEY INTEGER,\"score\" DOUBLE,\"normalizedScore\" DOUBLE,PRIMARY KEY(MOMENT_KEY))                displacement FLOAT, power SMALLINT, weight SMALLINT, acceleration FLOAT, year_make TINYINT,MOMENT_KEY INTEGER,\"score\" DOUBLE,\"normalizedScore\" DOUBLE,PRIMARY KEY(MOMENT_KEY))\n",
      "INFO     2020-09-14 19:04:14.314 - Done with 'creating model deployment table' [in 887.8350257873535 ms]\n",
      "INFO     2020-09-14 19:04:14.325 - Starting 'creating trigger'...\n",
      "INFO     2020-09-14 19:04:14.341 - Creating VTI Prediction Trigger...\n",
      "INFO     2020-09-14 19:04:14.360 - Executing\n",
      "CREATE TRIGGER ben.runModel_h2o_iso_993cda34d350 \n",
      "                        AFTER INSERT ON ben.h2o_iso REFERENCING NEW AS NEWROW FOR EACH ROW\n",
      "                        UPDATE ben.h2o_iso SET (\"score\",\"normalizedScore\") = (SELECT b.\"score\",b.\"normalizedScore\" FROM new \"com.splicemachine.mlrunner.MLRunner\"('key_value', '993cda34d350', TRIM(CAST(CAST(NEWROW.DISPLACEMENT as DECIMAL(38,10)) as CHAR(41)))||','||TRIM(CAST(NEWROW.POWER as CHAR(41)))||','||TRIM(CAST(NEWROW.WEIGHT as CHAR(41)))||','||TRIM(CAST(CAST(NEWROW.ACCELERATION as DECIMAL(38,10)) as CHAR(41)))||','||TRIM(CAST(NEWROW.YEAR_MAKE as CHAR(41))), \n",
      "        'displacement FLOAT, power SMALLINT, weight SMALLINT, acceleration FLOAT, year_make TINYINT') as b (\"score\" DOUBLE,\"normalizedScore\" DOUBLE) WHERE 1=1) WHERE MOMENT_KEY = NEWROW.MOMENT_KEY\n",
      "INFO     2020-09-14 19:04:14.607 - Done with 'creating trigger' [in 281.4164161682129 ms]\n",
      "INFO     2020-09-14 19:04:14.618 - Starting 'add model to metadata table'...\n",
      "INFO     2020-09-14 19:04:14.629 - Adding Model to Metadata table\n",
      "INFO     2020-09-14 19:04:14.704 - Executing SQL to insert Database Deployed Metadata\n",
      "INFO     2020-09-14 19:04:14.746 - Done executing.\n",
      "INFO     2020-09-14 19:04:14.759 - Done with 'add model to metadata table' [in 141.27469062805176 ms]\n",
      "INFO     2020-09-14 19:04:14.770 - Flushing\n",
      "WARNING  2020-09-14 19:04:14.782 - Committing Transaction to Database\n",
      "INFO     2020-09-14 19:04:14.815 - Committed.\n",
      "INFO     2020-09-14 19:04:14.827 - Cleaning up deployment\n",
      "INFO     2020-09-14 19:04:14.872 - Success! Target 'DEPLOY_DATABASE' completed successfully.\n",
      "INFO     2020-09-14 19:04:14.895 - TASK_COMPLETED"
     ]
    }
   ],
   "source": [
    "cars = h2o.import_file(\"https://s3.amazonaws.com/h2o-public-test-data/smalldata/junit/cars_20mpg.csv\")\n",
    "cars.rename(columns={'year':'year_make'})\n",
    "predictors = [\"displacement\",\"power\",\"weight\",\"acceleration\",\"year_make\"]\n",
    "model = H2OIsolationForestEstimator(seed=1234,score_each_iteration=True,score_tree_interval=5)\n",
    "model.train(x=predictors,\n",
    "              training_frame=cars)\n",
    "model.model_performance()\n",
    "\n",
    "\n",
    "print('deploying isoforect')\n",
    "splice.dropTableIfExists(f'{schema}.h2o_iso')\n",
    "\n",
    "with mlflow.start_run():\n",
    "    mlflow.log_model(model, 'model')\n",
    "    jid = mlflow.deploy_db(schema,'h2o_iso',mlflow.current_run_id(), df=hc.asSparkFrame(cars).select(predictors), create_model_table=True, primary_key=[('MOMENT_KEY','INTEGER')])\n",
    "    mlflow.watch_job(jid)"
   ]
  },
  {
   "cell_type": "code",
   "execution_count": 40,
   "metadata": {
    "scrolled": true
   },
   "outputs": [
    {
     "data": {
      "application/vnd.jupyter.widget-view+json": {
       "model_id": "96bd9940-e6e9-46cd-a582-63c55e8f3252",
       "version_major": 2,
       "version_minor": 0
      },
      "method": "display_data"
     },
     "metadata": {},
     "output_type": "display_data"
    },
    {
     "data": {
      "application/vnd.jupyter.widget-view+json": {
       "model_id": "e6f5a925-7c0f-4a01-85e5-d494de17897b",
       "version_major": 2,
       "version_minor": 0
      },
      "method": "display_data"
     },
     "metadata": {},
     "output_type": "display_data"
    },
    {
     "data": {
      "application/vnd.jupyter.widget-view+json": {
       "model_id": "3faa7892-6dde-4156-ab25-649a61ac09b2",
       "version_major": 2,
       "version_minor": 0
      },
      "method": "display_data"
     },
     "metadata": {},
     "output_type": "display_data"
    }
   ],
   "source": [
    "%%sql\n",
    "\n",
    "insert into h2o_iso (displacement,power,weight,acceleration,year_make, moment_key) values(18,101,22,23.142,1,1 );\n",
    "insert into h2o_iso (displacement,power,weight,acceleration,year_make, moment_key) values(18,6,232,100,3,2);\n",
    "\n",
    "select * from h2o_iso;\n",
    "\n",
    "select displacement,power,weight,acceleration,year_make, \"normalizedScore\",\"score\" into ${data_and_preds} from h2o_iso;"
   ]
  },
  {
   "cell_type": "code",
   "execution_count": 41,
   "metadata": {},
   "outputs": [
    {
     "name": "stdout",
     "output_type": "stream",
     "text": [
      "Parse progress: |█████████████████████████████████████████████████████████| 100%\n",
      "isolationforest prediction progress: |████████████████████████████████████| 100%\n",
      "test passed!\n"
     ]
    }
   ],
   "source": [
    "from beakerx.object import beakerx\n",
    "data = beakerx.get('data_and_preds')\n",
    "\n",
    "features = h2o.H2OFrame(data[['DISPLACEMENT','POWER','WEIGHT','ACCELERATION','YEAR_MAKE']])\n",
    "db_preds = data[['normalizedScore','score']]\n",
    "features.columns = [i.lower() for i in features.columns]\n",
    "\n",
    "raw_preds = model.predict(features).as_data_frame(use_pandas=True)\n",
    "\n",
    "for db_pred, raw_pred in zip(db_preds.iterrows(), raw_preds.iterrows()):\n",
    "    # Check reconstruction values\n",
    "    for db, raw in zip(db_pred[1], raw_pred[1]):\n",
    "        assert round(db,13) == round(raw,13), f'Something is wrong. Model Table gives {db} but raw model gives {raw}'\n",
    "\n",
    "print('test passed!')"
   ]
  },
  {
   "cell_type": "markdown",
   "metadata": {},
   "source": [
    "## Neural Network"
   ]
  },
  {
   "cell_type": "code",
   "execution_count": 42,
   "metadata": {
    "scrolled": true
   },
   "outputs": [
    {
     "name": "stdout",
     "output_type": "stream",
     "text": [
      "Parse progress: |█████████████████████████████████████████████████████████| 100%\n",
      "deeplearning Model Build progress: |██████████████████████████████████████| 100%\n",
      "deploying neural network\n",
      "Saving artifact of size: 485.38 KB to Splice Machine DB\n",
      "Deploying model to database...\n"
     ]
    },
    {
     "name": "stderr",
     "output_type": "stream",
     "text": [
      "Passing in primary keys as a list of tuples is deprecated. Use dictionary {column name: type}\n"
     ]
    },
    {
     "name": "stdout",
     "output_type": "stream",
     "text": [
      "Your Job has been submitted. The returned value of this function is the job id, which you can use to monitor the your task in real-time. Run mlflow.watch_job(<job id>) tostream them to stdout, or mlflow.fetch_logs(<job id>) to read them one time to a list\n",
      "---Job Logs---\n",
      "INFO     2020-09-14 19:05:22.774 - A service worker has found your request\n",
      "INFO     2020-09-14 19:05:22.794 - Checking whether handler DEPLOY_DATABASE is enabled\n",
      "INFO     2020-09-14 19:05:22.820 - Handler is available\n",
      "INFO     2020-09-14 19:05:22.835 - Retrieving Run from MLFlow Tracking Server...\n",
      "INFO     2020-09-14 19:05:22.905 - Retrieved MLFlow RunINFO     2020-09-14 19:05:22.905 - Retrieved MLFlow Run\n",
      "INFO     2020-09-14 19:05:22.918 - Updating MLFlow Run for the UI\n",
      "INFO     2020-09-14 19:05:22.949 - Reading Model Artifact Stream from Splice Machine\n",
      "INFO     2020-09-14 19:05:22.960 - Extracting Model from DB with Name: model\n",
      "INFO     2020-09-14 19:05:22.984 - Decoding Model Artifact Binary Stream for Deployment\n",
      "INFO     2020-09-14 19:05:23.013 - Decompressing Model Artifact\n",
      "INFO     2020-09-14 19:05:23.031 - Creating raw model representation from MLModel\n",
      "INFO     2020-09-14 19:05:23.044 - Reading MLModel Flavor from Extracted Archive\n",
      "INFO     2020-09-14 19:05:23.124 - Registering Raw Model Representation...\n",
      "INFO     2020-09-14 19:05:23.137 - Done.\n",
      "INFO     2020-09-14 19:05:23.150 - Adding Model Schema and DF...\n",
      "INFO     2020-09-14 19:05:23.339 - Adding Library Specific Representations...\n",
      "INFO     2020-09-14 19:05:23.354 - Adding Serialized Representation\n",
      "INFO     2020-09-14 19:05:23.479 - Updating Artifact with serialized representation\n",
      "INFO     2020-09-14 19:05:23.492 - Preparing Model Metadata for Deployment...\n",
      "INFO     2020-09-14 19:05:23.504 - Preparing H2O Model metadata for deployment\n",
      "INFO     2020-09-14 19:05:23.523 - Adding Schema String to model metadata...\n",
      "INFO     2020-09-14 19:05:23.543 - Starting 'creating model deployment table'...\n",
      "INFO     2020-09-14 19:05:23.584 - Executing\n",
      "CREATE TABLE ben.h2o_nn (\n",
      "                CUR_USER VARCHAR(50) DEFAULT CURRENT_USER,\n",
      "                EVAL_TIME TIMESTAMP DEFAULT CURRENT_TIMESTAMP,\n",
      "                RUN_ID VARCHAR(50) DEFAULT '65f278d5deb2',\n",
      "                displacement SMALLINT, power SMALLINT, weight SMALLINT, acceleration FLOAT, year_make TINYINT,MOMENT_KEY INTEGER,PREDICTION VARCHAR(5000),\"C3\" DOUBLE,\"C4\" DOUBLE,\"C5\" DOUBLE,\"C6\" DOUBLE,\"C8\" DOUBLE,PRIMARY KEY(MOMENT_KEY))                displacement SMALLINT, power SMALLINT, weight SMALLINT, acceleration FLOAT, year_make TINYINT,MOMENT_KEY INTEGER,PREDICTION VARCHAR(5000),\"C3\" DOUBLE,\"C4\" DOUBLE,\"C5\" DOUBLE,\"C6\" DOUBLE,\"C8\" DOUBLE,PRIMARY KEY(MOMENT_KEY))\n",
      "INFO     2020-09-14 19:05:24.919 - Done with 'creating model deployment table' [in 1376.3878345489502 ms]\n",
      "INFO     2020-09-14 19:05:24.931 - Starting 'creating trigger'...\n",
      "INFO     2020-09-14 19:05:24.944 - Creating Prediction Trigger...\n",
      "INFO     2020-09-14 19:05:24.956 - Executing\n",
      "CREATE TRIGGER ben.runModel_h2o_nn_65f278d5deb2\n",
      "                           BEFORE INSERT ON ben.h2o_nn REFERENCING NEW AS NEWROW \n",
      "                           FOR EACH ROW SET NEWROW.PREDICTION=MLMANAGER.PREDICT_CLASSIFICATION('65f278d5deb2',TRIM(CAST(NEWROW.DISPLACEMENT as CHAR(41)))||','||TRIM(CAST(NEWROW.POWER as CHAR(41)))||','||TRIM(CAST(NEWROW.WEIGHT as CHAR(41)))||','||TRIM(CAST(CAST(NEWROW.ACCELERATION as DECIMAL(38,10)) as CHAR(41)))||','||TRIM(CAST(NEWROW.YEAR_MAKE as CHAR(41))),\n",
      "'displacement SMALLINT, power SMALLINT, weight SMALLINT, acceleration FLOAT, year_make TINYINT')\n",
      "INFO     2020-09-14 19:05:25.109 - Done with 'creating trigger' [in 177.8254508972168 ms]\n",
      "INFO     2020-09-14 19:05:25.123 - Starting 'create parsing trigger'...\n",
      "INFO     2020-09-14 19:05:25.136 - Creating parsing trigger...\n",
      "INFO     2020-09-14 19:05:25.148 - Executing\n",
      "CREATE TRIGGER ben.PARSERESULT_h2o_nn_65f278d5deb2                                 BEFORE INSERT ON ben.h2o_nn REFERENCING NEW AS NEWROW                                 FOR EACH ROW set NEWROW.\"C3\"=MLMANAGER.PARSEPROBS(NEWROW.prediction,0),NEWROW.\"C4\"=MLMANAGER.PARSEPROBS(NEWROW.prediction,1),NEWROW.\"C5\"=MLMANAGER.PARSEPROBS(NEWROW.prediction,2),NEWROW.\"C6\"=MLMANAGER.PARSEPROBS(NEWROW.prediction,3),NEWROW.\"C8\"=MLMANAGER.PARSEPROBS(NEWROW.prediction,4),NEWROW.PREDICTION=   CASE   WHEN MLMANAGER.GETPREDICTION(NEWROW.prediction)=0 then 'C3'   WHEN MLMANAGER.GETPREDICTION(NEWROW.prediction)=1 then 'C4'   WHEN MLMANAGER.GETPREDICTION(NEWROW.prediction)=2 then 'C5'   WHEN MLMANAGER.GETPREDICTION(NEWROW.prediction)=3 then 'C6'   WHEN MLMANAGER.GETPREDICTION(NEWROW.prediction)=4 then 'C8'   END;CREATE TRIGGER ben.PARSERESULT_h2o_nn_65f278d5deb2                                 BEFORE INSERT ON ben.h2o_nn REFERENCING NEW AS NEWROW                                 FOR EACH ROW set NEWROW.\"C3\"=MLMANAGER.PARSEPROBS(NEWROW.prediction,0),NEWROW.\"C4\"=MLMANAGER.PARSEPROBS(NEWROW.prediction,1),NEWROW.\"C5\"=MLMANAGER.PARSEPROBS(NEWROW.prediction,2),NEWROW.\"C6\"=MLMANAGER.PARSEPROBS(NEWROW.prediction,3),NEWROW.\"C8\"=MLMANAGER.PARSEPROBS(NEWROW.prediction,4),NEWROW.PREDICTION=   CASE   WHEN MLMANAGER.GETPREDICTION(NEWROW.prediction)=0 then 'C3'   WHEN MLMANAGER.GETPREDICTION(NEWROW.prediction)=1 then 'C4'   WHEN MLMANAGER.GETPREDICTION(NEWROW.prediction)=2 then 'C5'   WHEN MLMANAGER.GETPREDICTION(NEWROW.prediction)=3 then 'C6'   WHEN MLMANAGER.GETPREDICTION(NEWROW.prediction)=4 then 'C8'   END;\n",
      "INFO     2020-09-14 19:05:25.466 - Done with 'create parsing trigger' [in 343.3818817138672 ms]\n",
      "INFO     2020-09-14 19:05:25.479 - Starting 'add model to metadata table'...\n",
      "INFO     2020-09-14 19:05:25.491 - Adding Model to Metadata table\n",
      "INFO     2020-09-14 19:05:25.587 - Executing SQL to insert Database Deployed Metadata\n",
      "INFO     2020-09-14 19:05:25.637 - Done executing.\n",
      "INFO     2020-09-14 19:05:25.756 - Done with 'add model to metadata table' [in 276.83186531066895 ms]\n",
      "INFO     2020-09-14 19:05:25.769 - Flushing\n",
      "WARNING  2020-09-14 19:05:25.781 - Committing Transaction to Database\n",
      "INFO     2020-09-14 19:05:25.829 - Committed.\n",
      "INFO     2020-09-14 19:05:25.842 - Cleaning up deployment\n",
      "INFO     2020-09-14 19:05:25.887 - Success! Target 'DEPLOY_DATABASE' completed successfully.\n",
      "INFO     2020-09-14 19:05:25.908 - TASK_COMPLETED"
     ]
    }
   ],
   "source": [
    "cars = h2o.import_file(\"https://s3.amazonaws.com/h2o-public-test-data/smalldata/junit/cars_20mpg.csv\")\n",
    "cars.rename(columns={'year':'year_make'})\n",
    "cars[\"cylinders\"] = cars[\"cylinders\"].asfactor()\n",
    "r = cars[0].runif()\n",
    "train = cars[r > .2]\n",
    "valid = cars[r <= .2]\n",
    "response_col = \"cylinders\"\n",
    "\n",
    "predictors = [\"displacement\",\"power\",\"weight\",\"acceleration\",\"year_make\"]\n",
    "\n",
    "\n",
    "\n",
    "model = H2ODeepLearningEstimator(variable_importances=True,loss =\"Automatic\")\n",
    "\n",
    "model.train(x                =predictors,\n",
    "              y                =response_col,\n",
    "               training_frame  =train,\n",
    "              validation_frame=valid)\n",
    "\n",
    "\n",
    "\n",
    "print('deploying neural network')\n",
    "splice.dropTableIfExists(f'{schema}.h2o_nn')\n",
    "\n",
    "with mlflow.start_run():\n",
    "    mlflow.log_model(model, 'model')\n",
    "    jid = mlflow.deploy_db(schema,'h2o_nn',mlflow.current_run_id(), df=hc.asSparkFrame(train).select(predictors), create_model_table=True, primary_key=[('MOMENT_KEY','INTEGER')])\n",
    "    mlflow.watch_job(jid)\n"
   ]
  },
  {
   "cell_type": "code",
   "execution_count": 43,
   "metadata": {},
   "outputs": [
    {
     "data": {
      "application/vnd.jupyter.widget-view+json": {
       "model_id": "ccbfa33e-514e-4298-b9c7-97360ff82a3c",
       "version_major": 2,
       "version_minor": 0
      },
      "method": "display_data"
     },
     "metadata": {},
     "output_type": "display_data"
    },
    {
     "data": {
      "application/vnd.jupyter.widget-view+json": {
       "model_id": "f8708b99-c144-44be-b1df-29daf2035a6d",
       "version_major": 2,
       "version_minor": 0
      },
      "method": "display_data"
     },
     "metadata": {},
     "output_type": "display_data"
    },
    {
     "data": {
      "application/vnd.jupyter.widget-view+json": {
       "model_id": "953ebdb4-85d3-4368-8c2f-10e963f4f931",
       "version_major": 2,
       "version_minor": 0
      },
      "method": "display_data"
     },
     "metadata": {},
     "output_type": "display_data"
    }
   ],
   "source": [
    "%%sql\n",
    "\n",
    "insert into h2o_nn (displacement,power,weight,acceleration,year_make, moment_key) values(18,101,22,23.142,1,1 );\n",
    "insert into h2o_nn (displacement,power,weight,acceleration,year_make, moment_key) values(18,6,232,100,3,2);\n",
    "\n",
    "select * from h2o_nn;\n",
    "\n",
    "select displacement,power,weight,acceleration,year_make,prediction, c3,c4,c5,c6,c8 into ${data_and_preds} from h2o_nn;"
   ]
  },
  {
   "cell_type": "code",
   "execution_count": 44,
   "metadata": {},
   "outputs": [
    {
     "name": "stdout",
     "output_type": "stream",
     "text": [
      "Parse progress: |█████████████████████████████████████████████████████████| 100%\n",
      "deeplearning prediction progress: |███████████████████████████████████████| 100%\n",
      "test passed!\n"
     ]
    }
   ],
   "source": [
    "from beakerx.object import beakerx\n",
    "data = beakerx.get('data_and_preds')\n",
    "\n",
    "features = h2o.H2OFrame(data[['DISPLACEMENT','POWER','WEIGHT','ACCELERATION','YEAR_MAKE']])\n",
    "db_preds = data[['PREDICTION','C3','C4','C5','C6','C8']]\n",
    "features.columns = [i.lower() for i in features.columns]\n",
    "\n",
    "raw_preds = model.predict(features).as_data_frame(use_pandas=True)\n",
    "\n",
    "\n",
    "for db_pred, raw_pred in zip(db_preds.iterrows(), raw_preds.iterrows()):\n",
    "    # Check reconstruction values\n",
    "    for db, raw in zip(db_pred[1], raw_pred[1]):\n",
    "        if isinstance(db,str):\n",
    "            raw = f'C{int(raw)}'\n",
    "            assert db==raw, f'Something is wrong. Model Table gives {db} but raw model gives {raw}'\n",
    "        else:\n",
    "            assert round(db,13) == round(raw,13), f'Something is wrong. Model Table gives {db} but raw model gives {raw}'\n",
    "\n",
    "    \n",
    "print('test passed!')"
   ]
  },
  {
   "cell_type": "code",
   "execution_count": 46,
   "metadata": {},
   "outputs": [],
   "source": [
    "spark.stop()"
   ]
  },
  {
   "cell_type": "markdown",
   "metadata": {},
   "source": [
    "# ===================================== Below is Broken =====================================\n",
    "\n",
    "## GLRM (not broken but can't test), XGBoost (broken on training), TargetEncoder (broken on deploy)\n",
    "\n",
    "### GLRM explanation https://0xdata.atlassian.net/browse/PUBDEV-7761"
   ]
  },
  {
   "cell_type": "markdown",
   "metadata": {},
   "source": [
    "## GLRM"
   ]
  },
  {
   "cell_type": "code",
   "execution_count": 37,
   "metadata": {
    "scrolled": true
   },
   "outputs": [
    {
     "name": "stdout",
     "output_type": "stream",
     "text": [
      "Parse progress: |█████████████████████████████████████████████████████████| 100%\n",
      "glrm Model Build progress: |██████████████████████████████████████████████| 100%\n",
      "deploying glrm\n",
      "Saving artifact of size: 2421.376 KB to Splice Machine DB\n",
      "Deploying model to database...\n"
     ]
    },
    {
     "name": "stderr",
     "output_type": "stream",
     "text": [
      "Passing in primary keys as a list of tuples is deprecated. Use dictionary {column name: type}\n"
     ]
    },
    {
     "name": "stdout",
     "output_type": "stream",
     "text": [
      "Your Job has been submitted. The returned value of this function is the job id, which you can use to monitor the your task in real-time. Run mlflow.watch_job(<job id>) tostream them to stdout, or mlflow.fetch_logs(<job id>) to read them one time to a list\n",
      "---Job Logs---\n",
      "INFO     2020-09-14 19:02:04.340 - A service worker has found your request\n",
      "INFO     2020-09-14 19:02:04.359 - Checking whether handler DEPLOY_DATABASE is enabled\n",
      "INFO     2020-09-14 19:02:04.388 - Handler is available\n",
      "INFO     2020-09-14 19:02:04.400 - Retrieving Run from MLFlow Tracking Server...\n",
      "INFO     2020-09-14 19:02:04.486 - Retrieved MLFlow RunINFO     2020-09-14 19:02:04.486 - Retrieved MLFlow Run\n",
      "INFO     2020-09-14 19:02:04.498 - Updating MLFlow Run for the UI\n",
      "INFO     2020-09-14 19:02:04.527 - Reading Model Artifact Stream from Splice Machine\n",
      "INFO     2020-09-14 19:02:04.537 - Extracting Model from DB with Name: model\n",
      "INFO     2020-09-14 19:02:04.568 - Decoding Model Artifact Binary Stream for Deployment\n",
      "INFO     2020-09-14 19:02:04.637 - Decompressing Model Artifact\n",
      "INFO     2020-09-14 19:02:04.670 - Creating raw model representation from MLModel\n",
      "INFO     2020-09-14 19:02:04.680 - Reading MLModel Flavor from Extracted Archive\n",
      "INFO     2020-09-14 19:02:04.761 - Registering Raw Model Representation...\n",
      "INFO     2020-09-14 19:02:04.772 - Done.\n",
      "INFO     2020-09-14 19:02:04.784 - Adding Model Schema and DF...\n",
      "INFO     2020-09-14 19:02:04.844 - Adding Library Specific Representations...\n",
      "INFO     2020-09-14 19:02:04.855 - Adding Serialized Representation\n",
      "INFO     2020-09-14 19:02:04.911 - Updating Artifact with serialized representation\n",
      "INFO     2020-09-14 19:02:04.924 - Preparing Model Metadata for Deployment...\n",
      "INFO     2020-09-14 19:02:04.933 - Preparing H2O Model metadata for deployment\n",
      "INFO     2020-09-14 19:02:04.946 - Adding Schema String to model metadata...\n",
      "INFO     2020-09-14 19:02:04.964 - Starting 'creating model deployment table'...\n",
      "INFO     2020-09-14 19:02:05.002 - Executing\n",
      "CREATE TABLE ben.h2o_glrm (\n",
      "                CUR_USER VARCHAR(50) DEFAULT CURRENT_USER,\n",
      "                EVAL_TIME TIMESTAMP DEFAULT CURRENT_TIMESTAMP,\n",
      "                RUN_ID VARCHAR(50) DEFAULT 'b0f7f466d4cb',\n",
      "                C1 FLOAT, C2 FLOAT, C3 FLOAT, C4 FLOAT, C5 FLOAT, C6 FLOAT,MOMENT_KEY INTEGER,\"PC0\" DOUBLE,\"PC1\" DOUBLE,\"PC2\" DOUBLE,\"PC3\" DOUBLE,\"PC4\" DOUBLE,\"PC5\" DOUBLE,PRIMARY KEY(MOMENT_KEY))                C1 FLOAT, C2 FLOAT, C3 FLOAT, C4 FLOAT, C5 FLOAT, C6 FLOAT,MOMENT_KEY INTEGER,\"PC0\" DOUBLE,\"PC1\" DOUBLE,\"PC2\" DOUBLE,\"PC3\" DOUBLE,\"PC4\" DOUBLE,\"PC5\" DOUBLE,PRIMARY KEY(MOMENT_KEY))\n",
      "INFO     2020-09-14 19:02:05.823 - Done with 'creating model deployment table' [in 859.238862991333 ms]\n",
      "INFO     2020-09-14 19:02:05.835 - Starting 'creating trigger'...\n",
      "INFO     2020-09-14 19:02:05.846 - Creating VTI Prediction Trigger...\n",
      "INFO     2020-09-14 19:02:05.857 - Executing\n",
      "CREATE TRIGGER ben.runModel_h2o_glrm_b0f7f466d4cb \n",
      "                        AFTER INSERT ON ben.h2o_glrm REFERENCING NEW AS NEWROW FOR EACH ROW\n",
      "                        UPDATE ben.h2o_glrm SET (\"PC0\",\"PC1\",\"PC2\",\"PC3\",\"PC4\",\"PC5\") = (SELECT b.\"PC0\",b.\"PC1\",b.\"PC2\",b.\"PC3\",b.\"PC4\",b.\"PC5\" FROM new \"com.splicemachine.mlrunner.MLRunner\"('key_value', 'b0f7f466d4cb', TRIM(CAST(CAST(NEWROW.C1 as DECIMAL(38,10)) as CHAR(41)))||','||TRIM(CAST(CAST(NEWROW.C2 as DECIMAL(38,10)) as CHAR(41)))||','||TRIM(CAST(CAST(NEWROW.C3 as DECIMAL(38,10)) as CHAR(41)))||','||TRIM(CAST(CAST(NEWROW.C4 as DECIMAL(38,10)) as CHAR(41)))||','||TRIM(CAST(CAST(NEWROW.C5 as DECIMAL(38,10)) as CHAR(41)))||','||TRIM(CAST(CAST(NEWROW.C6 as DECIMAL(38,10)) as CHAR(41))), \n",
      "        'C1 FLOAT, C2 FLOAT, C3 FLOAT, C4 FLOAT, C5 FLOAT, C6 FLOAT') as b (\"PC0\" DOUBLE,\"PC1\" DOUBLE,\"PC2\" DOUBLE,\"PC3\" DOUBLE,\"PC4\" DOUBLE,\"PC5\" DOUBLE) WHERE 1=1) WHERE MOMENT_KEY = NEWROW.MOMENT_KEY\n",
      "INFO     2020-09-14 19:02:06.143 - Done with 'creating trigger' [in 307.77525901794434 ms]\n",
      "INFO     2020-09-14 19:02:06.154 - Starting 'add model to metadata table'...\n",
      "INFO     2020-09-14 19:02:06.165 - Adding Model to Metadata table\n",
      "INFO     2020-09-14 19:02:06.244 - Executing SQL to insert Database Deployed Metadata\n",
      "INFO     2020-09-14 19:02:06.286 - Done executing.\n",
      "INFO     2020-09-14 19:02:06.298 - Done with 'add model to metadata table' [in 143.65816116333008 ms]\n",
      "INFO     2020-09-14 19:02:06.309 - Flushing\n",
      "WARNING  2020-09-14 19:02:06.319 - Committing Transaction to Database\n",
      "INFO     2020-09-14 19:02:06.352 - Committed.\n",
      "INFO     2020-09-14 19:02:06.363 - Cleaning up deployment\n",
      "INFO     2020-09-14 19:02:06.405 - Success! Target 'DEPLOY_DATABASE' completed successfully.\n",
      "INFO     2020-09-14 19:02:06.428 - TASK_COMPLETED"
     ]
    }
   ],
   "source": [
    "train = []\n",
    "test = []\n",
    "for i in range(60000):\n",
    "    train.append([random.random()*4 for i in range(6)])\n",
    "\n",
    "train = h2o.H2OFrame(train)\n",
    "predictors = [f'C{i}' for i in range(1,7)]\n",
    "\n",
    "model = H2OGeneralizedLowRankEstimator(k=6,seed=1234, impute_original=True,transform='Normalize')\n",
    "model.train(x=predictors, training_frame=train)\n",
    "\n",
    "print('deploying glrm')\n",
    "splice.dropTableIfExists(f'{schema}.h2o_glrm')\n",
    "\n",
    "while mlflow.active_run():\n",
    "    mlflow.end_run()\n",
    "\n",
    "with mlflow.start_run():\n",
    "    mlflow.log_model(model, 'model')\n",
    "    jid = mlflow.deploy_db(schema,'h2o_glrm',mlflow.current_run_id(), df=hc.asSparkFrame(train).select(predictors), create_model_table=True, primary_key=[('MOMENT_KEY','INTEGER')])\n",
    "    mlflow.watch_job(jid)"
   ]
  },
  {
   "cell_type": "code",
   "execution_count": 38,
   "metadata": {
    "scrolled": true
   },
   "outputs": [
    {
     "data": {
      "application/vnd.jupyter.widget-view+json": {
       "model_id": "9b59bcaa-6df1-40fa-81a7-2a65cfa07915",
       "version_major": 2,
       "version_minor": 0
      },
      "method": "display_data"
     },
     "metadata": {},
     "output_type": "display_data"
    },
    {
     "data": {
      "application/vnd.jupyter.widget-view+json": {
       "model_id": "498977cf-52aa-4f9c-91da-2d00baea0309",
       "version_major": 2,
       "version_minor": 0
      },
      "method": "display_data"
     },
     "metadata": {},
     "output_type": "display_data"
    },
    {
     "data": {
      "application/vnd.jupyter.widget-view+json": {
       "model_id": "030be5a8-5532-417c-a6ef-bf5fc36a6921",
       "version_major": 2,
       "version_minor": 0
      },
      "method": "display_data"
     },
     "metadata": {},
     "output_type": "display_data"
    },
    {
     "data": {
      "application/vnd.jupyter.widget-view+json": {
       "model_id": "2ebb6aee-2d93-4c24-a6b3-138ae879a934",
       "version_major": 2,
       "version_minor": 0
      },
      "method": "display_data"
     },
     "metadata": {},
     "output_type": "display_data"
    },
    {
     "data": {
      "application/vnd.jupyter.widget-view+json": {
       "model_id": "769deb23-3ecf-4049-a997-950476d32b49",
       "version_major": 2,
       "version_minor": 0
      },
      "method": "display_data"
     },
     "metadata": {},
     "output_type": "display_data"
    }
   ],
   "source": [
    "%%sql\n",
    "truncate table h2o_glrm;\n",
    "insert into h2o_glrm (moment_key,c1,c2,c3,c4,c5,c6) values(1,0, 0, 0, 0, 0, 0);\n",
    "insert into h2o_glrm (moment_key,c1,c2,c3,c4,c5,c6) values(2,0.258682,2.03961,3.13087,2.71747,2.46077,0.24339);\n",
    "insert into h2o_glrm (moment_key,c1,c2,c3,c4,c5,c6) values(3,0.25, 0.99, 0.623, 0.21, 0.52, 0.66);\n",
    "\n",
    "select * from h2o_glrm;\n",
    "select * into ${data_and_preds} from h2o_glrm;"
   ]
  },
  {
   "cell_type": "markdown",
   "metadata": {},
   "source": [
    "# NOTE\n",
    "## GLRM Can act as both autoencoders in that they reconstruct data, and also perform PCA. In the database, we always do PCA (maybe something to change later)\n",
    "## For reconstruction, you call predict. I don't know how to get components"
   ]
  },
  {
   "cell_type": "code",
   "execution_count": 191,
   "metadata": {},
   "outputs": [
    {
     "name": "stdout",
     "output_type": "stream",
     "text": [
      "Parse progress: |█████████████████████████████████████████████████████████| 100%\n"
     ]
    },
    {
     "ename": "AssertionError",
     "evalue": "Something is wrong. Model Table gives 0.001523829447429341 but raw model gives -3.414778858782197",
     "output_type": "error",
     "traceback": [
      "\u001b[0;31m---------------------------------------------------------------------------\u001b[0m",
      "\u001b[0;31mAssertionError\u001b[0m                            Traceback (most recent call last)",
      "\u001b[0;32m<ipython-input-191-053221790888>\u001b[0m in \u001b[0;36m<module>\u001b[0;34m\u001b[0m\n\u001b[1;32m     13\u001b[0m     \u001b[0;31m# Check reconstruction values\u001b[0m\u001b[0;34m\u001b[0m\u001b[0;34m\u001b[0m\u001b[0;34m\u001b[0m\u001b[0m\n\u001b[1;32m     14\u001b[0m     \u001b[0;32mfor\u001b[0m \u001b[0mdb\u001b[0m\u001b[0;34m,\u001b[0m \u001b[0mraw\u001b[0m \u001b[0;32min\u001b[0m \u001b[0mzip\u001b[0m\u001b[0;34m(\u001b[0m\u001b[0mdb_pred\u001b[0m\u001b[0;34m[\u001b[0m\u001b[0;36m1\u001b[0m\u001b[0;34m]\u001b[0m\u001b[0;34m,\u001b[0m \u001b[0mraw_pred\u001b[0m\u001b[0;34m[\u001b[0m\u001b[0;36m1\u001b[0m\u001b[0;34m]\u001b[0m\u001b[0;34m)\u001b[0m\u001b[0;34m:\u001b[0m\u001b[0;34m\u001b[0m\u001b[0;34m\u001b[0m\u001b[0m\n\u001b[0;32m---> 15\u001b[0;31m         \u001b[0;32massert\u001b[0m \u001b[0mround\u001b[0m\u001b[0;34m(\u001b[0m\u001b[0mdb\u001b[0m\u001b[0;34m,\u001b[0m\u001b[0;36m13\u001b[0m\u001b[0;34m)\u001b[0m \u001b[0;34m==\u001b[0m \u001b[0mround\u001b[0m\u001b[0;34m(\u001b[0m\u001b[0mraw\u001b[0m\u001b[0;34m,\u001b[0m\u001b[0;36m13\u001b[0m\u001b[0;34m)\u001b[0m\u001b[0;34m,\u001b[0m \u001b[0;34mf'Something is wrong. Model Table gives {db} but raw model gives {raw}'\u001b[0m\u001b[0;34m\u001b[0m\u001b[0;34m\u001b[0m\u001b[0m\n\u001b[0m\u001b[1;32m     16\u001b[0m \u001b[0;34m\u001b[0m\u001b[0m\n\u001b[1;32m     17\u001b[0m \u001b[0mprint\u001b[0m\u001b[0;34m(\u001b[0m\u001b[0;34m'test passed!'\u001b[0m\u001b[0;34m)\u001b[0m\u001b[0;34m\u001b[0m\u001b[0;34m\u001b[0m\u001b[0m\n",
      "\u001b[0;31mAssertionError\u001b[0m: Something is wrong. Model Table gives 0.001523829447429341 but raw model gives -3.414778858782197"
     ]
    }
   ],
   "source": [
    "from beakerx.object import beakerx\n",
    "data = beakerx.get('data_and_preds')\n",
    "\n",
    "features = h2o.H2OFrame(data[['C1','C2','C3','C4','C5','C6']])\n",
    "db_preds = data[['PC0','PC1','PC2','PC3','PC4','PC5']]\n",
    "\n",
    "# GLRM Can act as both autoencoders in that they reconstruct data, and also perform PCA. In the database, we always do PCA (maybe something to change later)\n",
    "# To get the PCA, you call proj_archetypes, for reconstruction, you call predict\n",
    "raw_preds = model.proj_archetypes(features).as_data_frame(use_pandas=True)\n",
    "\n",
    "\n",
    "for db_pred, raw_pred in zip(db_preds.iterrows(), raw_preds.iterrows()):\n",
    "    # Check reconstruction values\n",
    "    for db, raw in zip(db_pred[1], raw_pred[1]):\n",
    "        assert round(db,13) == round(raw,13), f'Something is wrong. Model Table gives {db} but raw model gives {raw}'\n",
    "\n",
    "print('test passed!')"
   ]
  },
  {
   "cell_type": "markdown",
   "metadata": {},
   "source": [
    "### GLRM is weird because it can act as either Dim Reduction or an Autoencoder... Which should we pick?"
   ]
  },
  {
   "cell_type": "code",
   "execution_count": 266,
   "metadata": {},
   "outputs": [
    {
     "name": "stdout",
     "output_type": "stream",
     "text": [
      "DimReduction\n"
     ]
    }
   ],
   "source": [
    "pca_path = model.download_mojo('/tmp/gbm.zip')\n",
    "\n",
    "\n",
    "from py4j.java_gateway import java_import\n",
    "java_import(splice.jvm, 'hex.genmodel.easy.EasyPredictModelWrapper')\n",
    "java_import(splice.jvm, 'hex.genmodel.MojoModel')\n",
    "java_import(splice.jvm, 'java.io.ByteArrayOutputStream')\n",
    "java_import(splice.jvm, 'java.io.ObjectOutputStream') \n",
    "java_import(splice.jvm, 'hex.genmodel.easy.RowData')\n",
    "java_import(splice.jvm, 'hex.genmodel.easy.prediction.DimReductionModelPrediction')\n",
    "\n",
    "\n",
    "java_mojo_c = splice.jvm.EasyPredictModelWrapper.Config().setModel(splice.jvm.MojoModel.load(pca_path))\n",
    "java_mojo = splice.jvm.EasyPredictModelWrapper(java_mojo_c)\n",
    "\n",
    "\n",
    "\n",
    "m = splice.jvm.MojoModel.load(pca_path)\n",
    "\n",
    "# java_mojo.predictDimReduction(train)\n",
    "\n",
    "\n",
    "print(java_mojo.getModelCategory().toString())\n",
    "\n",
    "\n",
    "row = splice.jvm.RowData()\n",
    "row.put(\"C1\", \"0\")\n",
    "row.put(\"C2\", \"0\")\n",
    "row.put(\"C3\", \"0\")\n",
    "row.put(\"C4\", \"0\")\n",
    "row.put(\"C5\", \"0\")\n",
    "row.put(\"C6\", \"0\")\n",
    "\n",
    "d = splice.jvm.DimReductionModelPrediction\n",
    "\n",
    "# pred = m.predictDimReduction(row)\n",
    "\n",
    "# list(java_mojo.predictDimReduction(row))"
   ]
  },
  {
   "cell_type": "code",
   "execution_count": 45,
   "metadata": {},
   "outputs": [
    {
     "data": {
      "text/html": [
       "\n",
       "        <script>\n",
       "            function code_toggle_8084357634934378958() {\n",
       "                $('div.cell.code_cell.rendered.selected').next().find('div.input').toggle();\n",
       "            }\n",
       "            $('div.cell.code_cell.rendered.selected').find(\"div.input\").hide();\n",
       "        </script>\n",
       "        <a href=\"javascript:code_toggle_8084357634934378958()\"><button style='color:black'>Toggle show/hide next cell</button></a>\n",
       "    "
      ],
      "text/plain": [
       "<IPython.core.display.HTML object>"
      ]
     },
     "execution_count": 45,
     "metadata": {},
     "output_type": "execute_result"
    }
   ],
   "source": [
    "from splicemachine.notebook import hide_toggle\n",
    "hide_toggle(toggle_next=True)"
   ]
  },
  {
   "cell_type": "code",
   "execution_count": 179,
   "metadata": {
    "collapsed": true
   },
   "outputs": [
    {
     "name": "stdout",
     "output_type": "stream",
     "text": [
      "Java started successfully\n",
      "\n"
     ]
    },
    {
     "name": "stderr",
     "output_type": "stream",
     "text": [
      "Bad classpath, file not found\n",
      "Bad classpath, file not found\n"
     ]
    },
    {
     "ename": "package hex.genmodel.easy does not exist",
     "evalue": "package hex.genmodel.easy does not exist",
     "output_type": "error",
     "traceback": [
      "\u001b[1;31mpackage hex.genmodel.easy does not exist\u001b[0;0m",
      "\u001b[1;31m import hex.genmodel.easy.RowData\u001b[0;0m",
      "\u001b[1;31m        ^                        ^ \u001b[0;0m",
      "\u001b[1;31m\u001b[0;0m",
      "\u001b[1;31mpackage hex.genmodel.easy does not exist\u001b[0;0m",
      "\u001b[1;31m import hex.genmodel.easy.EasyPredictModelWrapper\u001b[0;0m",
      "\u001b[1;31m        ^                                        ^ \u001b[0;0m",
      "\u001b[1;31m\u001b[0;0m",
      "\u001b[1;31mpackage hex.genmodel.easy.prediction does not exist\u001b[0;0m",
      "\u001b[1;31m import hex.genmodel.easy.predi\u001b[0;0m",
      "\u001b[1;31m ^                              \u001b[0;0m",
      "\u001b[1;31m\u001b[0;0m",
      "\u001b[1;31mpackage hex.genmodel does not exist\u001b[0;0m",
      "\u001b[1;31m import hex.genmodel.MojoModel\u001b[0;0m",
      "\u001b[1;31m        ^                     ^ \u001b[0;0m",
      "\u001b[1;31m\u001b[0;0m",
      "\u001b[1;31mpackage hex.genmodel does not exist\u001b[0;0m",
      "\u001b[1;31m import hex.genmodel.InMemoryMojoReaderBackend\u001b[0;0m",
      "\u001b[1;31m        ^                                     ^ \u001b[0;0m",
      "\u001b[1;31m\u001b[0;0m",
      "\u001b[1;31mpackage com.splicemachine.db.jdbc does not exist\u001b[0;0m",
      "\u001b[1;31m import com.splicemachine.db.jd\u001b[0;0m",
      "\u001b[1;31m ^                              \u001b[0;0m",
      "\u001b[1;31m\u001b[0;0m",
      "\u001b[1;31mpackage com.splicemachine.db.jdbc does not exist\u001b[0;0m",
      "\u001b[1;31m Driver d = new com.splicemachine.db.jdbc.ClientDriver()\u001b[0;0m",
      "\u001b[1;31m                ^                                     ^   \u001b[0;0m",
      "\u001b[1;31m\u001b[0;0m",
      "\u001b[1;31mcannot find symbol\u001b[0;0m",
      "\u001b[1;31m  symbol:   class EasyPredictModelWrapper\u001b[0;0m",
      "\u001b[0;31m  location: class com.twosigma.beaker.javash.bkr5029108f.BeakerWrapperClass1261714175Id7bd47d7494884501a9574af2ce4917ec\u001b[0;0m",
      "\u001b[0;31m EasyPredictModelWrapper model = null\u001b[0;0m",
      "\u001b[0;31m ^                      ^              \u001b[0;0m",
      "\u001b[0;31m\u001b[0;0m",
      "\u001b[0;31mcannot find symbol\u001b[0;0m",
      "\u001b[0;31m  symbol:   class EasyPredictModelWrapper\u001b[0;0m",
      "\u001b[0;31m  location: class com.twosigma.beaker.javash.bkr5029108f.BeakerWrapperClass1261714175Id7bd47d7494884501a9574af2ce4917ec\u001b[0;0m",
      "\u001b[0;31m model = (EasyPredictModelWrapper) (ois.readObject())\u001b[0;0m",
      "\u001b[0;31m          ^                      ^                     \u001b[0;0m",
      "\u001b[0;31m\u001b[0;0m",
      "\u001b[0;31mcannot find symbol\u001b[0;0m",
      "\u001b[0;31m  symbol:   class RowData\u001b[0;0m",
      "\u001b[0;31m  location: class com.twosigma.beaker.javash.bkr5029108f.BeakerWrapperClass1261714175Id7bd47d7494884501a9574af2ce4917ec\u001b[0;0m",
      "\u001b[0;31m RowData row = new RowData()\u001b[0;0m",
      "\u001b[0;31m ^      ^                     \u001b[0;0m",
      "\u001b[0;31m\u001b[0;0m",
      "\u001b[0;31mcannot find symbol\u001b[0;0m",
      "\u001b[0;31m  symbol:   class RowData\u001b[0;0m",
      "\u001b[0;31m  location: class com.twosigma.beaker.javash.bkr5029108f.BeakerWrapperClass1261714175Id7bd47d7494884501a9574af2ce4917ec\u001b[0;0m",
      "\u001b[0;31m RowData row = new RowData()\u001b[0;0m",
      "\u001b[0;31m                   ^      ^   \u001b[0;0m",
      "\u001b[0;31m\u001b[0;0m",
      "\u001b[0;31mcannot find symbol\u001b[0;0m",
      "\u001b[0;31m  symbol:   class AbstractPrediction\u001b[0;0m",
      "\u001b[0;31m  location: class com.twosigma.beaker.javash.bkr5029108f.BeakerWrapperClass1261714175Id7bd47d7494884501a9574af2ce4917ec\u001b[0;0m",
      "\u001b[0;31m AbstractPrediction p\u001b[0;0m",
      "\u001b[0;31m ^                 ^   \u001b[0;0m",
      "\u001b[0;31m\u001b[0;0m",
      "\u001b[0;31mcannot find symbol\u001b[0;0m",
      "\u001b[0;31m  symbol:   class DimReductionModelPrediction\u001b[0;0m",
      "\u001b[0;31m  location: class com.twosigma.beaker.javash.bkr5029108f.BeakerWrapperClass1261714175Id7bd47d7494884501a9574af2ce4917ec\u001b[0;0m",
      "\u001b[0;31m final double[] dim = ((DimReductionModelPrediction) p).dimensions\u001b[0;0m",
      "\u001b[0;31m                        ^                          ^                \u001b[0;0m"
     ]
    }
   ],
   "source": [
    "%%java\n",
    "%classpath add jar db-client-3.0.0.1950.jar\n",
    "%classpath add jar /home/jovyan/nn_model.jar\n",
    "import java.sql.*; \n",
    "import java.util.*; \n",
    "import hex.genmodel.easy.RowData;\n",
    "import hex.genmodel.easy.EasyPredictModelWrapper;\n",
    "import hex.genmodel.easy.prediction.*;\n",
    "import java.io.*;\n",
    "import hex.genmodel.MojoModel;\n",
    "import hex.genmodel.InMemoryMojoReaderBackend;\n",
    "import java.sql.Driver;  \n",
    "import com.splicemachine.db.jdbc.*;\n",
    "\n",
    "\n",
    "Driver d = new com.splicemachine.db.jdbc.ClientDriver();  \n",
    "DriverManager.registerDriver(d);\n",
    "Connection conn = DriverManager.getConnection(\"jdbc:splice://jdbc-test-aks-dev1.dev.splicemachine-dev.io:1527/splicedb;ssl=basic\",\"splice\",\"admin\");\n",
    "PreparedStatement pstmt = conn.prepareStatement(\"select \\\"binary\\\" from mlmanager.artifacts where RUN_UUID=? and NAME=?\");\n",
    "        pstmt.setString(1, \"6ba390856894\");\n",
    "        pstmt.setString(2,\"h2omojo\");\n",
    "        ResultSet rs = pstmt.executeQuery();\n",
    "        EasyPredictModelWrapper model = null;\n",
    "        if(rs.next()) {\n",
    "            Blob blobModel = rs.getBlob(1);\n",
    "            InputStream bis = blobModel.getBinaryStream();\n",
    "            ObjectInputStream ois = new ObjectInputStream(bis);\n",
    "            model = (EasyPredictModelWrapper) (ois.readObject());\n",
    "            ois.close();\n",
    "        }\n",
    "\n",
    "        \n",
    "\n",
    "RowData row = new RowData();\n",
    "\n",
    "row.put(\"SDSS_J\", \"000009.26+151754.5\");\n",
    "row.put(\"R.A.\", \"9.08519705868309\");\n",
    "row.put(\"Dec.\", \"4.932083187033184\");\n",
    "row.put(\"z\", \"7.139249327431729\");\n",
    "row.put(\"u_mag\", \"7.139249327431729\");\n",
    "row.put(\"sig_u\", \"7.139249327431729\");\n",
    "row.put(\"g_mag\", \"7.139249327431729\");\n",
    "row.put(\"sig_g\", \"7.139249327431729\");\n",
    "row.put(\"r_mag\", \"7.139249327431729\");\n",
    "row.put(\"sig_r\", \"7.139249327431729\");\n",
    "row.put(\"i_mag\", \"7.139249327431729\");\n",
    "row.put(\"sig_i\", \"7.139249327431729\");\n",
    "row.put(\"z_mag\", \"7.139249327431729\");\n",
    "row.put(\"sig_z\", \"7.139249327431729\");\n",
    "row.put(\"Radio\", \"7.139249327431729\");\n",
    "row.put(\"X-ray\", \"7.139249327431729\");\n",
    "row.put(\"J_mag\", \"7.139249327431729\");\n",
    "row.put(\"sig_J\", \"7.139249327431729\");\n",
    "row.put(\"H_mag\", \"7.139249327431729\");\n",
    "row.put(\"sig_H\", \"7.139249327431729\");\n",
    "row.put(\"K_mag\", \"7.139249327431729\");\n",
    "row.put(\"sig_K\", \"7.139249327431729\");\n",
    "row.put(\"M_i\", \"7.139249327431729\");\n",
    "\n",
    "\n",
    "AbstractPrediction p;\n",
    "p = model.predictDimReduction(row);\n",
    "\n",
    "final StringBuilder builder = new StringBuilder();\n",
    "//for(int i = 0; i < classProbs.length; i++){\n",
    "//    builder.append(i).append(\"=\").append(classProbs[i]).append(\";\");\n",
    "//}\n",
    "//return builder.substring(0, builder.length() - 1);\n",
    "//return c;\n",
    "\n",
    "final double[] dim = ((DimReductionModelPrediction) p).dimensions;\n",
    "//AutoEncoderModelPrediction\n",
    "\n",
    "\n",
    "//for(int i = 0; i < dim.length; i++){\n",
    "//    builder.append(\"PC\" + i).append(\"=\").append(Double.toString(dim[i])).append(\";\");\n",
    "//}\n",
    "\n",
    "return dim;\n",
    "//return builder.substring(0, builder.length() - 1);"
   ]
  },
  {
   "cell_type": "markdown",
   "metadata": {},
   "source": [
    "## XGBoost (BROKEN on Train)"
   ]
  },
  {
   "cell_type": "code",
   "execution_count": null,
   "metadata": {},
   "outputs": [],
   "source": [
    "import h2o\n",
    "from h2o.estimators import H2OXGBoostEstimator\n",
    "\n",
    "# Import the titanic dataset into H2O:\n",
    "titanic = h2o.import_file(\"https://s3.amazonaws.com/h2o-public-test-data/smalldata/gbm_test/titanic.csv\")\n",
    "\n",
    "# Set the predictors and response; set the response as a factor:\n",
    "titanic[\"survived\"] = titanic[\"survived\"].asfactor()\n",
    "predictors = ['sibsp', 'sex', 'age']\n",
    "response = \"survived\"\n",
    "\n",
    "# Split the dataset into a train and valid set:\n",
    "train, valid = titanic.split_frame(ratios=[.8], seed=1234)\n",
    "\n",
    "# Build and train the model:\n",
    "model = H2OXGBoostEstimator(booster='dart',\n",
    "                                  normalize_type=\"tree\",\n",
    "                                  seed=1234)\n",
    "model.train(x=predictors,\n",
    "                  y=response,\n",
    "                  training_frame=train,\n",
    "                  validation_frame=valid)\n",
    "\n",
    "# Eval performance:\n",
    "perf = model.model_performance()\n",
    "\n",
    "# Generate predictions on a test set (if necessary):\n",
    "pred = model.predict(valid)\n",
    "\n",
    "print('deploying xgb')\n",
    "splice.dropTableIfExists('splice.h2o_xgb')\n",
    "\n",
    "with mlflow.start_run():\n",
    "    mlflow.log_model(model, 'model')\n",
    "    jid = mlflow.deploy_db('splice','h2o_xgb',mlflow.current_run_id(), df=hc.asSparkFrame(train).select(predictors), create_model_table=True, primary_key=[('MOMENT_KEY','INTEGER')])\n",
    "    mlflow.watch_job(jid)"
   ]
  },
  {
   "cell_type": "code",
   "execution_count": null,
   "metadata": {},
   "outputs": [],
   "source": [
    "%%sql\n",
    "insert into splice.h2o_xgb (moment_key,sibsp,sex,age) values(0, 5,'female',2.496);\n",
    "insert into splice.h2o_xgb (moment_key,sibsp,sex,age) values(1, 1,'male',-7.048);\n",
    "select * from h2o_xgb;\n",
    "select sibsp, sex, age, prediction, c0, c1 into ${data_and_preds} from splice.h2o_xgb;"
   ]
  },
  {
   "cell_type": "code",
   "execution_count": null,
   "metadata": {},
   "outputs": [],
   "source": [
    "data = beakerx.get('data_and_preds')\n",
    "\n",
    "features = h2o.H2OFrame(data[['SIBSP','SEX','AGE']])\n",
    "db_preds = data[['PREDICTION','C0','C1']]\n",
    "features.columns = [i.lower() for i in features.columns]\n",
    "\n",
    "raw_preds = model.predict(features).as_data_frame(use_pandas=True)\n",
    "\n",
    "\n",
    "\n",
    "for db_pred, raw_pred in zip(db_preds.iterrows(), raw_preds.iterrows()):\n",
    "    db_p, db_c0, db_c1 = db_pred[1]\n",
    "    raw_p, raw_c0, raw_c1 = raw_pred[1]\n",
    "    # Table returns string but h2o returns int index\n",
    "    raw_p = f'C{int(raw_p)}'\n",
    "    \n",
    "    assert db_p == raw_p, f'Something is wrong. Model Table gives {db_p} but raw model gives {raw_p}'\n",
    "    assert round(db_c0,14) == round(raw_c0,14), f'Something is wrong. Model Table gives {db_c0} but raw model gives {raw_c0}'\n",
    "    assert round(db_c1,14) == round(raw_c1,14), f'Something is wrong. Model Table gives {db_c1} but raw model gives {raw_c1}'\n",
    "\n",
    "print('test passed!')"
   ]
  },
  {
   "cell_type": "markdown",
   "metadata": {},
   "source": [
    "## TargetEncoder (BROKEN on Deploy)"
   ]
  },
  {
   "cell_type": "code",
   "execution_count": null,
   "metadata": {},
   "outputs": [],
   "source": [
    "titanic = h2o.import_file(\"https://s3.amazonaws.com/h2o-public-test-data/smalldata/gbm_test/titanic.csv\")\n",
    "titanic.rename(columns={'home.dest':'home_dest'})\n",
    "predictors = [\"home_dest\", \"cabin\", \"embarked\"]\n",
    "response = \"survived\"\n",
    "titanic[\"survived\"] = titanic[\"survived\"].asfactor()\n",
    "fold_col = \"kfold_column\"\n",
    "titanic[fold_col] = titanic.kfold_column(n_folds=5, seed=1234)\n",
    "model = H2OTargetEncoderEstimator(k=35,\n",
    "                                       f=25,\n",
    "                                       blending=True)\n",
    "model.train(x=predictors,\n",
    "                 y=response,\n",
    "                 training_frame=titanic)\n",
    "\n",
    "\n",
    "print('deploying target encoder')\n",
    "splice.dropTableIfExists('splice.te')\n",
    "\n",
    "with mlflow.start_run():\n",
    "    mlflow.log_model(model, 'model')\n",
    "    jid = mlflow.deploy_db('splice','te',mlflow.current_run_id(), df=hc.asSparkFrame(titanic).select(predictors), create_model_table=True, primary_key=[('MOMENT_KEY','INTEGER')])\n",
    "    mlflow.watch_job(jid)"
   ]
  },
  {
   "cell_type": "code",
   "execution_count": null,
   "metadata": {},
   "outputs": [],
   "source": [
    "%%sql\n",
    "\n",
    "insert into h2o_nn (displacement,power,weight,acceleration,year_make, moment_key) values(18,101,22,23.142,1,1 );\n",
    "insert into h2o_nn (displacement,power,weight,acceleration,year_make, moment_key) values(18,6,232,100,3,2);\n",
    "\n",
    "select * from h2o_nn;\n",
    "\n",
    "select displacement,power,weight,acceleration,year_make,prediction, c3,c4,c5,c6,c8 into ${data_and_preds} from h2o_nn;"
   ]
  }
 ],
 "metadata": {
  "kernelspec": {
   "display_name": "Python 3",
   "language": "python",
   "name": "python3"
  },
  "language_info": {
   "codemirror_mode": {
    "name": "ipython",
    "version": 3
   },
   "file_extension": ".py",
   "mimetype": "text/x-python",
   "name": "python",
   "nbconvert_exporter": "python",
   "pygments_lexer": "ipython3",
   "version": "3.7.8"
  },
  "toc": {
   "base_numbering": 1,
   "nav_menu": {},
   "number_sections": false,
   "sideBar": true,
   "skip_h1_title": false,
   "title_cell": "Table of Contents",
   "title_sidebar": "Contents",
   "toc_cell": false,
   "toc_position": {
    "height": "438.542px",
    "left": "10px",
    "top": "150px",
    "width": "194.219px"
   },
   "toc_section_display": true,
   "toc_window_display": true
  }
 },
 "nbformat": 4,
 "nbformat_minor": 2
}
